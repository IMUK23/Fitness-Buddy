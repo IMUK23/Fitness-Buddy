{
 "cells": [
  {
   "cell_type": "code",
   "execution_count": 13,
   "metadata": {},
   "outputs": [],
   "source": [
    "import mediapipe as mp\n",
    "import numpy as np\n",
    "import pandas as pd \n",
    "import cv2 \n",
    "import os\n",
    "from tqdm import tqdm"
   ]
  },
  {
   "cell_type": "code",
   "execution_count": 2,
   "metadata": {},
   "outputs": [],
   "source": [
    "mp_drawing=mp.solutions.drawing_utils\n",
    "mp_pose=mp.solutions.pose"
   ]
  },
  {
   "cell_type": "code",
   "execution_count": 3,
   "metadata": {},
   "outputs": [],
   "source": [
    "directory=\"test_data\""
   ]
  },
  {
   "cell_type": "code",
   "execution_count": 9,
   "metadata": {},
   "outputs": [
    {
     "name": "stdout",
     "output_type": "stream",
     "text": [
      "['test_data\\\\chair\\\\Adhomukhasvanasana (1).jfif', 'test_data\\\\chair\\\\Adhomukhasvanasana (1).jpg', 'test_data\\\\chair\\\\Adhomukhasvanasana (1).png', 'test_data\\\\chair\\\\Adhomukhasvanasana (10).jpg', 'test_data\\\\chair\\\\Adhomukhasvanasana (100).jpg', 'test_data\\\\chair\\\\Adhomukhasvanasana (101).jpg', 'test_data\\\\chair\\\\Adhomukhasvanasana (102).jpg', 'test_data\\\\chair\\\\Adhomukhasvanasana (103).jpg', 'test_data\\\\chair\\\\Adhomukhasvanasana (104).jpg', 'test_data\\\\chair\\\\Adhomukhasvanasana (105).jpg', 'test_data\\\\chair\\\\Adhomukhasvanasana (106).jpg', 'test_data\\\\chair\\\\Adhomukhasvanasana (107).jpg', 'test_data\\\\chair\\\\Adhomukhasvanasana (108).jpg', 'test_data\\\\chair\\\\Adhomukhasvanasana (109).jpg', 'test_data\\\\chair\\\\Adhomukhasvanasana (11).jpg', 'test_data\\\\chair\\\\Adhomukhasvanasana (110).jpg', 'test_data\\\\chair\\\\Adhomukhasvanasana (111).jpg', 'test_data\\\\chair\\\\Adhomukhasvanasana (112).jpg', 'test_data\\\\chair\\\\Adhomukhasvanasana (113).jpg', 'test_data\\\\chair\\\\Adhomukhasvanasana (114).jpg', 'test_data\\\\chair\\\\Adhomukhasvanasana (115).jpg', 'test_data\\\\chair\\\\Adhomukhasvanasana (116).jpg', 'test_data\\\\chair\\\\Adhomukhasvanasana (117).jpg', 'test_data\\\\chair\\\\Adhomukhasvanasana (118).jpg', 'test_data\\\\chair\\\\Adhomukhasvanasana (119).jpg', 'test_data\\\\chair\\\\Adhomukhasvanasana (12).jpg', 'test_data\\\\chair\\\\Adhomukhasvanasana (120).jpg', 'test_data\\\\chair\\\\Adhomukhasvanasana (121).jpg', 'test_data\\\\chair\\\\Adhomukhasvanasana (122).jpg', 'test_data\\\\chair\\\\Adhomukhasvanasana (123).jpg', 'test_data\\\\chair\\\\Adhomukhasvanasana (124).jpg', 'test_data\\\\chair\\\\Adhomukhasvanasana (125).jpg', 'test_data\\\\chair\\\\Adhomukhasvanasana (126).jpg', 'test_data\\\\chair\\\\Adhomukhasvanasana (127).jpg', 'test_data\\\\chair\\\\Adhomukhasvanasana (128).jpg', 'test_data\\\\chair\\\\Adhomukhasvanasana (129).jpg', 'test_data\\\\chair\\\\Adhomukhasvanasana (13).jpg', 'test_data\\\\chair\\\\Adhomukhasvanasana (130).jpg', 'test_data\\\\chair\\\\Adhomukhasvanasana (131).jpg', 'test_data\\\\chair\\\\Adhomukhasvanasana (132).jpg', 'test_data\\\\chair\\\\Adhomukhasvanasana (133).jpg', 'test_data\\\\chair\\\\Adhomukhasvanasana (134).jpg', 'test_data\\\\chair\\\\Adhomukhasvanasana (135).jpg', 'test_data\\\\chair\\\\Adhomukhasvanasana (136).jpg', 'test_data\\\\chair\\\\Adhomukhasvanasana (137).jpg', 'test_data\\\\chair\\\\Adhomukhasvanasana (138).jpg', 'test_data\\\\chair\\\\Adhomukhasvanasana (139).jpg', 'test_data\\\\chair\\\\Adhomukhasvanasana (14).jpg', 'test_data\\\\chair\\\\Adhomukhasvanasana (140).jpg', 'test_data\\\\chair\\\\Adhomukhasvanasana (141).jpg', 'test_data\\\\chair\\\\Adhomukhasvanasana (142).jpg', 'test_data\\\\chair\\\\Adhomukhasvanasana (143).jpg', 'test_data\\\\chair\\\\Adhomukhasvanasana (144).jpg', 'test_data\\\\chair\\\\Adhomukhasvanasana (145).jpg', 'test_data\\\\chair\\\\Adhomukhasvanasana (146).jpg', 'test_data\\\\chair\\\\Adhomukhasvanasana (147).jpg', 'test_data\\\\chair\\\\Adhomukhasvanasana (148).jpg', 'test_data\\\\chair\\\\Adhomukhasvanasana (149).jpg', 'test_data\\\\chair\\\\Adhomukhasvanasana (15).jpg', 'test_data\\\\chair\\\\Adhomukhasvanasana (150).jpg', 'test_data\\\\chair\\\\Adhomukhasvanasana (151).jpg', 'test_data\\\\chair\\\\Adhomukhasvanasana (152).jpg', 'test_data\\\\chair\\\\Adhomukhasvanasana (153).jpg', 'test_data\\\\chair\\\\Adhomukhasvanasana (154).jpg', 'test_data\\\\chair\\\\Adhomukhasvanasana (155).jpg', 'test_data\\\\chair\\\\Adhomukhasvanasana (156).jpg', 'test_data\\\\chair\\\\Adhomukhasvanasana (157).jpg', 'test_data\\\\chair\\\\Adhomukhasvanasana (158).jpg', 'test_data\\\\chair\\\\Adhomukhasvanasana (159).jpg', 'test_data\\\\chair\\\\Adhomukhasvanasana (16).jpg', 'test_data\\\\chair\\\\Adhomukhasvanasana (160).jpg', 'test_data\\\\chair\\\\Adhomukhasvanasana (161).jpg', 'test_data\\\\chair\\\\Adhomukhasvanasana (162).jpg', 'test_data\\\\chair\\\\Adhomukhasvanasana (163).jpg', 'test_data\\\\chair\\\\Adhomukhasvanasana (164).jpg', 'test_data\\\\chair\\\\Adhomukhasvanasana (165).jpg', 'test_data\\\\chair\\\\Adhomukhasvanasana (166).jpg', 'test_data\\\\chair\\\\Adhomukhasvanasana (167).jpg', 'test_data\\\\chair\\\\Adhomukhasvanasana (168).jpg', 'test_data\\\\chair\\\\Adhomukhasvanasana (169).jpg', 'test_data\\\\chair\\\\Adhomukhasvanasana (17).jpg', 'test_data\\\\chair\\\\Adhomukhasvanasana (170).jpg', 'test_data\\\\chair\\\\Adhomukhasvanasana (171).jpg', 'test_data\\\\chair\\\\Adhomukhasvanasana (172).jpg', 'test_data\\\\chair\\\\Adhomukhasvanasana (173).jpg', 'test_data\\\\chair\\\\Adhomukhasvanasana (174).jpg', 'test_data\\\\chair\\\\Adhomukhasvanasana (175).jpg', 'test_data\\\\chair\\\\Adhomukhasvanasana (176).jpg', 'test_data\\\\chair\\\\Adhomukhasvanasana (177).jpg', 'test_data\\\\chair\\\\Adhomukhasvanasana (178).jpg', 'test_data\\\\chair\\\\Adhomukhasvanasana (179).jpg', 'test_data\\\\chair\\\\Adhomukhasvanasana (18).jpg', 'test_data\\\\chair\\\\Adhomukhasvanasana (180).jpg', 'test_data\\\\chair\\\\Adhomukhasvanasana (181).jpg', 'test_data\\\\chair\\\\Adhomukhasvanasana (182).jpg', 'test_data\\\\chair\\\\Adhomukhasvanasana (183).jpg', 'test_data\\\\chair\\\\Adhomukhasvanasana (184).jpg', 'test_data\\\\chair\\\\Adhomukhasvanasana (185).jpg', 'test_data\\\\chair\\\\Adhomukhasvanasana (186).jpg', 'test_data\\\\chair\\\\Adhomukhasvanasana (187).jpg', 'test_data\\\\chair\\\\Adhomukhasvanasana (188).jpg', 'test_data\\\\chair\\\\Adhomukhasvanasana (189).jpg', 'test_data\\\\chair\\\\Adhomukhasvanasana (19).jpg', 'test_data\\\\chair\\\\Adhomukhasvanasana (190).jpg', 'test_data\\\\chair\\\\Adhomukhasvanasana (191).jpg', 'test_data\\\\chair\\\\Adhomukhasvanasana (192).jpg', 'test_data\\\\chair\\\\Adhomukhasvanasana (193).jpg', 'test_data\\\\chair\\\\Adhomukhasvanasana (194).jpg', 'test_data\\\\chair\\\\Adhomukhasvanasana (195).jpg', 'test_data\\\\chair\\\\Adhomukhasvanasana (196).jpg', 'test_data\\\\chair\\\\Adhomukhasvanasana (197).jpg', 'test_data\\\\chair\\\\Adhomukhasvanasana (198).jpg', 'test_data\\\\chair\\\\Adhomukhasvanasana (199).jpg', 'test_data\\\\chair\\\\Adhomukhasvanasana (2).jfif', 'test_data\\\\chair\\\\Adhomukhasvanasana (2).jpg', 'test_data\\\\chair\\\\Adhomukhasvanasana (20).jpg', 'test_data\\\\chair\\\\Adhomukhasvanasana (200).jpg', 'test_data\\\\chair\\\\Adhomukhasvanasana (201).jpg', 'test_data\\\\chair\\\\Adhomukhasvanasana (202).jpg', 'test_data\\\\chair\\\\Adhomukhasvanasana (203).jpg', 'test_data\\\\chair\\\\Adhomukhasvanasana (21).jpg', 'test_data\\\\chair\\\\Adhomukhasvanasana (22).jpg', 'test_data\\\\chair\\\\Adhomukhasvanasana (23).jpg', 'test_data\\\\chair\\\\Adhomukhasvanasana (24).jpg', 'test_data\\\\chair\\\\Adhomukhasvanasana (25).jpg', 'test_data\\\\chair\\\\Adhomukhasvanasana (26).jpg', 'test_data\\\\chair\\\\Adhomukhasvanasana (27).jpg', 'test_data\\\\chair\\\\Adhomukhasvanasana (28).jpg', 'test_data\\\\chair\\\\Adhomukhasvanasana (29).jpg', 'test_data\\\\chair\\\\Adhomukhasvanasana (3).jfif', 'test_data\\\\chair\\\\Adhomukhasvanasana (3).jpg', 'test_data\\\\chair\\\\Adhomukhasvanasana (30).jpg', 'test_data\\\\chair\\\\Adhomukhasvanasana (31).jpg', 'test_data\\\\chair\\\\Adhomukhasvanasana (32).jpg', 'test_data\\\\chair\\\\Adhomukhasvanasana (33).jpg', 'test_data\\\\chair\\\\Adhomukhasvanasana (34).jpg', 'test_data\\\\chair\\\\Adhomukhasvanasana (35).jpg', 'test_data\\\\chair\\\\Adhomukhasvanasana (36).jpg', 'test_data\\\\chair\\\\Adhomukhasvanasana (37).jpg', 'test_data\\\\chair\\\\Adhomukhasvanasana (38).jpg', 'test_data\\\\chair\\\\Adhomukhasvanasana (39).jpg', 'test_data\\\\chair\\\\Adhomukhasvanasana (4).jfif', 'test_data\\\\chair\\\\Adhomukhasvanasana (4).jpg', 'test_data\\\\chair\\\\Adhomukhasvanasana (40).jpg', 'test_data\\\\chair\\\\Adhomukhasvanasana (41).jpg', 'test_data\\\\chair\\\\Adhomukhasvanasana (42).jpg', 'test_data\\\\chair\\\\Adhomukhasvanasana (43).jpg', 'test_data\\\\chair\\\\Adhomukhasvanasana (44).jpg', 'test_data\\\\chair\\\\Adhomukhasvanasana (45).jpg', 'test_data\\\\chair\\\\Adhomukhasvanasana (46).jpg', 'test_data\\\\chair\\\\Adhomukhasvanasana (47).jpg', 'test_data\\\\chair\\\\Adhomukhasvanasana (48).jpg', 'test_data\\\\chair\\\\Adhomukhasvanasana (49).jpg', 'test_data\\\\chair\\\\Adhomukhasvanasana (5).jfif', 'test_data\\\\chair\\\\Adhomukhasvanasana (5).jpg', 'test_data\\\\chair\\\\Adhomukhasvanasana (50).jpg', 'test_data\\\\chair\\\\Adhomukhasvanasana (51).jpg', 'test_data\\\\chair\\\\Adhomukhasvanasana (52).jpg', 'test_data\\\\chair\\\\Adhomukhasvanasana (53).jpg', 'test_data\\\\chair\\\\Adhomukhasvanasana (54).jpg', 'test_data\\\\chair\\\\Adhomukhasvanasana (55).jpg', 'test_data\\\\chair\\\\Adhomukhasvanasana (56).jpg', 'test_data\\\\chair\\\\Adhomukhasvanasana (57).jpg', 'test_data\\\\chair\\\\Adhomukhasvanasana (58).jpg', 'test_data\\\\chair\\\\Adhomukhasvanasana (59).jpg', 'test_data\\\\chair\\\\Adhomukhasvanasana (6).jpg', 'test_data\\\\chair\\\\Adhomukhasvanasana (60).jpg', 'test_data\\\\chair\\\\Adhomukhasvanasana (61).jpg', 'test_data\\\\chair\\\\Adhomukhasvanasana (62).jpg', 'test_data\\\\chair\\\\Adhomukhasvanasana (63).jpg', 'test_data\\\\chair\\\\Adhomukhasvanasana (64).jpg', 'test_data\\\\chair\\\\Adhomukhasvanasana (65).jpg', 'test_data\\\\chair\\\\Adhomukhasvanasana (66).jpg', 'test_data\\\\chair\\\\Adhomukhasvanasana (67).jpg', 'test_data\\\\chair\\\\Adhomukhasvanasana (68).jpg', 'test_data\\\\chair\\\\Adhomukhasvanasana (69).jpg', 'test_data\\\\chair\\\\Adhomukhasvanasana (7).jpg', 'test_data\\\\chair\\\\Adhomukhasvanasana (70).jpg', 'test_data\\\\chair\\\\Adhomukhasvanasana (71).jpg', 'test_data\\\\chair\\\\Adhomukhasvanasana (72).jpg', 'test_data\\\\chair\\\\Adhomukhasvanasana (73).jpg', 'test_data\\\\chair\\\\Adhomukhasvanasana (74).jpg', 'test_data\\\\chair\\\\Adhomukhasvanasana (75).jpg', 'test_data\\\\chair\\\\Adhomukhasvanasana (76).jpg', 'test_data\\\\chair\\\\Adhomukhasvanasana (77).jpg', 'test_data\\\\chair\\\\Adhomukhasvanasana (78).jpg', 'test_data\\\\chair\\\\Adhomukhasvanasana (79).jpg', 'test_data\\\\chair\\\\Adhomukhasvanasana (8).jpg', 'test_data\\\\chair\\\\Adhomukhasvanasana (80).jpg', 'test_data\\\\chair\\\\Adhomukhasvanasana (81).jpg', 'test_data\\\\chair\\\\Adhomukhasvanasana (82).jpg', 'test_data\\\\chair\\\\Adhomukhasvanasana (83).jpg', 'test_data\\\\chair\\\\Adhomukhasvanasana (84).jpg', 'test_data\\\\chair\\\\Adhomukhasvanasana (85).jpg', 'test_data\\\\chair\\\\Adhomukhasvanasana (86).jpg', 'test_data\\\\chair\\\\Adhomukhasvanasana (87).jpg', 'test_data\\\\chair\\\\Adhomukhasvanasana (88).jpg', 'test_data\\\\chair\\\\Adhomukhasvanasana (89).jpg', 'test_data\\\\chair\\\\Adhomukhasvanasana (9).jpg', 'test_data\\\\chair\\\\Adhomukhasvanasana (90).jpg', 'test_data\\\\chair\\\\Adhomukhasvanasana (91).jpg', 'test_data\\\\chair\\\\Adhomukhasvanasana (92).jpg', 'test_data\\\\chair\\\\Adhomukhasvanasana (93).jpg', 'test_data\\\\chair\\\\Adhomukhasvanasana (94).jpg', 'test_data\\\\chair\\\\Adhomukhasvanasana (95).jpg', 'test_data\\\\chair\\\\Adhomukhasvanasana (96).jpg', 'test_data\\\\chair\\\\Adhomukhasvanasana (97).jpg', 'test_data\\\\chair\\\\Adhomukhasvanasana (98).jpg', 'test_data\\\\chair\\\\Adhomukhasvanasana (99).jpg', 'test_data\\\\downdog\\\\Utkatasana (1).jpg', 'test_data\\\\downdog\\\\Utkatasana (1).png', 'test_data\\\\downdog\\\\Utkatasana (10).jpg', 'test_data\\\\downdog\\\\Utkatasana (10).png', 'test_data\\\\downdog\\\\Utkatasana (100).jpg', 'test_data\\\\downdog\\\\Utkatasana (101).jpg', 'test_data\\\\downdog\\\\Utkatasana (102).jpg', 'test_data\\\\downdog\\\\Utkatasana (103).jpg', 'test_data\\\\downdog\\\\Utkatasana (104).jpg', 'test_data\\\\downdog\\\\Utkatasana (105).jpg', 'test_data\\\\downdog\\\\Utkatasana (106).jpg', 'test_data\\\\downdog\\\\Utkatasana (107).jpg', 'test_data\\\\downdog\\\\Utkatasana (108).jpg', 'test_data\\\\downdog\\\\Utkatasana (109).jpg', 'test_data\\\\downdog\\\\Utkatasana (11).jpg', 'test_data\\\\downdog\\\\Utkatasana (11).png', 'test_data\\\\downdog\\\\Utkatasana (110).jpg', 'test_data\\\\downdog\\\\Utkatasana (111).jpg', 'test_data\\\\downdog\\\\Utkatasana (112).jpg', 'test_data\\\\downdog\\\\Utkatasana (113).jpg', 'test_data\\\\downdog\\\\Utkatasana (114).jpg', 'test_data\\\\downdog\\\\Utkatasana (115).jpg', 'test_data\\\\downdog\\\\Utkatasana (116).jpg', 'test_data\\\\downdog\\\\Utkatasana (117).jpg', 'test_data\\\\downdog\\\\Utkatasana (118).jpg', 'test_data\\\\downdog\\\\Utkatasana (119).jpg', 'test_data\\\\downdog\\\\Utkatasana (12).jpg', 'test_data\\\\downdog\\\\Utkatasana (12).png', 'test_data\\\\downdog\\\\Utkatasana (120).jpg', 'test_data\\\\downdog\\\\Utkatasana (121).jpg', 'test_data\\\\downdog\\\\Utkatasana (122).jpg', 'test_data\\\\downdog\\\\Utkatasana (123).jpg', 'test_data\\\\downdog\\\\Utkatasana (124).jpg', 'test_data\\\\downdog\\\\Utkatasana (125).jpg', 'test_data\\\\downdog\\\\Utkatasana (126).jpg', 'test_data\\\\downdog\\\\Utkatasana (127).jpg', 'test_data\\\\downdog\\\\Utkatasana (128).jpg', 'test_data\\\\downdog\\\\Utkatasana (129).jpg', 'test_data\\\\downdog\\\\Utkatasana (13).jpg', 'test_data\\\\downdog\\\\Utkatasana (130).jpg', 'test_data\\\\downdog\\\\Utkatasana (131).jpg', 'test_data\\\\downdog\\\\Utkatasana (132).jpg', 'test_data\\\\downdog\\\\Utkatasana (133).jpg', 'test_data\\\\downdog\\\\Utkatasana (134).jpg', 'test_data\\\\downdog\\\\Utkatasana (135).jpg', 'test_data\\\\downdog\\\\Utkatasana (136).jpg', 'test_data\\\\downdog\\\\Utkatasana (137).jpg', 'test_data\\\\downdog\\\\Utkatasana (138).jpg', 'test_data\\\\downdog\\\\Utkatasana (139).jpg', 'test_data\\\\downdog\\\\Utkatasana (14).jpg', 'test_data\\\\downdog\\\\Utkatasana (140).jpg', 'test_data\\\\downdog\\\\Utkatasana (141).jpg', 'test_data\\\\downdog\\\\Utkatasana (142).jpg', 'test_data\\\\downdog\\\\Utkatasana (143).jpg', 'test_data\\\\downdog\\\\Utkatasana (144).jpg', 'test_data\\\\downdog\\\\Utkatasana (145).jpg', 'test_data\\\\downdog\\\\Utkatasana (146).jpg', 'test_data\\\\downdog\\\\Utkatasana (147).jpg', 'test_data\\\\downdog\\\\Utkatasana (148).jpg', 'test_data\\\\downdog\\\\Utkatasana (149).jpg', 'test_data\\\\downdog\\\\Utkatasana (15).jpg', 'test_data\\\\downdog\\\\Utkatasana (150).jpg', 'test_data\\\\downdog\\\\Utkatasana (151).jpg', 'test_data\\\\downdog\\\\Utkatasana (152).jpg', 'test_data\\\\downdog\\\\Utkatasana (153).jpg', 'test_data\\\\downdog\\\\Utkatasana (154).jpg', 'test_data\\\\downdog\\\\Utkatasana (155).jpg', 'test_data\\\\downdog\\\\Utkatasana (156).jpg', 'test_data\\\\downdog\\\\Utkatasana (157).jpg', 'test_data\\\\downdog\\\\Utkatasana (158).jpg', 'test_data\\\\downdog\\\\Utkatasana (159).jpg', 'test_data\\\\downdog\\\\Utkatasana (16).jpg', 'test_data\\\\downdog\\\\Utkatasana (160).jpg', 'test_data\\\\downdog\\\\Utkatasana (161).jpg', 'test_data\\\\downdog\\\\Utkatasana (162).jpg', 'test_data\\\\downdog\\\\Utkatasana (163).jpg', 'test_data\\\\downdog\\\\Utkatasana (164).jpg', 'test_data\\\\downdog\\\\Utkatasana (165).jpg', 'test_data\\\\downdog\\\\Utkatasana (166).jpg', 'test_data\\\\downdog\\\\Utkatasana (167).jpg', 'test_data\\\\downdog\\\\Utkatasana (168).jpg', 'test_data\\\\downdog\\\\Utkatasana (169).jpg', 'test_data\\\\downdog\\\\Utkatasana (17).jpg', 'test_data\\\\downdog\\\\Utkatasana (170).jpg', 'test_data\\\\downdog\\\\Utkatasana (171).jpg', 'test_data\\\\downdog\\\\Utkatasana (172).jpg', 'test_data\\\\downdog\\\\Utkatasana (173).jpg', 'test_data\\\\downdog\\\\Utkatasana (174).jpg', 'test_data\\\\downdog\\\\Utkatasana (175).jpg', 'test_data\\\\downdog\\\\Utkatasana (176).jpg', 'test_data\\\\downdog\\\\Utkatasana (177).jpg', 'test_data\\\\downdog\\\\Utkatasana (178).jpg', 'test_data\\\\downdog\\\\Utkatasana (179).jpg', 'test_data\\\\downdog\\\\Utkatasana (18).jpg', 'test_data\\\\downdog\\\\Utkatasana (180).jpg', 'test_data\\\\downdog\\\\Utkatasana (181).jpg', 'test_data\\\\downdog\\\\Utkatasana (182).jpg', 'test_data\\\\downdog\\\\Utkatasana (183).jpg', 'test_data\\\\downdog\\\\Utkatasana (184).jpg', 'test_data\\\\downdog\\\\Utkatasana (185).jpg', 'test_data\\\\downdog\\\\Utkatasana (186).jpg', 'test_data\\\\downdog\\\\Utkatasana (187).jpg', 'test_data\\\\downdog\\\\Utkatasana (188).jpg', 'test_data\\\\downdog\\\\Utkatasana (189).jpg', 'test_data\\\\downdog\\\\Utkatasana (19).jpg', 'test_data\\\\downdog\\\\Utkatasana (190).jpg', 'test_data\\\\downdog\\\\Utkatasana (191).jpg', 'test_data\\\\downdog\\\\Utkatasana (192).jpg', 'test_data\\\\downdog\\\\Utkatasana (193).jpg', 'test_data\\\\downdog\\\\Utkatasana (194).jpg', 'test_data\\\\downdog\\\\Utkatasana (195).jpg', 'test_data\\\\downdog\\\\Utkatasana (196).jpg', 'test_data\\\\downdog\\\\Utkatasana (197).jpg', 'test_data\\\\downdog\\\\Utkatasana (198).jpg', 'test_data\\\\downdog\\\\Utkatasana (199).jpg', 'test_data\\\\downdog\\\\Utkatasana (2).JPG', 'test_data\\\\downdog\\\\Utkatasana (2).png', 'test_data\\\\downdog\\\\Utkatasana (20).jpg', 'test_data\\\\downdog\\\\Utkatasana (200).jpg', 'test_data\\\\downdog\\\\Utkatasana (201).jpg', 'test_data\\\\downdog\\\\Utkatasana (202).jpg', 'test_data\\\\downdog\\\\Utkatasana (203).jpg', 'test_data\\\\downdog\\\\Utkatasana (204).jpg', 'test_data\\\\downdog\\\\Utkatasana (205).jpg', 'test_data\\\\downdog\\\\Utkatasana (206).jpg', 'test_data\\\\downdog\\\\Utkatasana (207).jpg', 'test_data\\\\downdog\\\\Utkatasana (208).jpg', 'test_data\\\\downdog\\\\Utkatasana (209).jpg', 'test_data\\\\downdog\\\\Utkatasana (21).jpg', 'test_data\\\\downdog\\\\Utkatasana (210).jpg', 'test_data\\\\downdog\\\\Utkatasana (211).jpg', 'test_data\\\\downdog\\\\Utkatasana (212).jpg', 'test_data\\\\downdog\\\\Utkatasana (213).jpg', 'test_data\\\\downdog\\\\Utkatasana (214).jpg', 'test_data\\\\downdog\\\\Utkatasana (215).jpg', 'test_data\\\\downdog\\\\Utkatasana (216).jpg', 'test_data\\\\downdog\\\\Utkatasana (217).jpg', 'test_data\\\\downdog\\\\Utkatasana (218).jpg', 'test_data\\\\downdog\\\\Utkatasana (219).jpg', 'test_data\\\\downdog\\\\Utkatasana (22).jpg', 'test_data\\\\downdog\\\\Utkatasana (220).jpg', 'test_data\\\\downdog\\\\Utkatasana (221).jpg', 'test_data\\\\downdog\\\\Utkatasana (222).jpg', 'test_data\\\\downdog\\\\Utkatasana (223).jpg', 'test_data\\\\downdog\\\\Utkatasana (224).jpg', 'test_data\\\\downdog\\\\Utkatasana (225).jpg', 'test_data\\\\downdog\\\\Utkatasana (226).jpg', 'test_data\\\\downdog\\\\Utkatasana (227).jpg', 'test_data\\\\downdog\\\\Utkatasana (228).jpg', 'test_data\\\\downdog\\\\Utkatasana (229).jpg', 'test_data\\\\downdog\\\\Utkatasana (23).jpg', 'test_data\\\\downdog\\\\Utkatasana (230).jpg', 'test_data\\\\downdog\\\\Utkatasana (231).jpg', 'test_data\\\\downdog\\\\Utkatasana (232).jpg', 'test_data\\\\downdog\\\\Utkatasana (233).jpg', 'test_data\\\\downdog\\\\Utkatasana (234).jpg', 'test_data\\\\downdog\\\\Utkatasana (235).jpg', 'test_data\\\\downdog\\\\Utkatasana (236).jpg', 'test_data\\\\downdog\\\\Utkatasana (237).jpg', 'test_data\\\\downdog\\\\Utkatasana (238).jpg', 'test_data\\\\downdog\\\\Utkatasana (239).jpg', 'test_data\\\\downdog\\\\Utkatasana (24).jpg', 'test_data\\\\downdog\\\\Utkatasana (240).jpg', 'test_data\\\\downdog\\\\Utkatasana (241).jpg', 'test_data\\\\downdog\\\\Utkatasana (242).jpg', 'test_data\\\\downdog\\\\Utkatasana (243).jpg', 'test_data\\\\downdog\\\\Utkatasana (244).jpg', 'test_data\\\\downdog\\\\Utkatasana (245).jpg', 'test_data\\\\downdog\\\\Utkatasana (246).jpg', 'test_data\\\\downdog\\\\Utkatasana (247).jpg', 'test_data\\\\downdog\\\\Utkatasana (248).jpg', 'test_data\\\\downdog\\\\Utkatasana (249).jpg', 'test_data\\\\downdog\\\\Utkatasana (25).jpg', 'test_data\\\\downdog\\\\Utkatasana (250).jpg', 'test_data\\\\downdog\\\\Utkatasana (251).jpg', 'test_data\\\\downdog\\\\Utkatasana (252).jpg', 'test_data\\\\downdog\\\\Utkatasana (253).jpg', 'test_data\\\\downdog\\\\Utkatasana (254).jpg', 'test_data\\\\downdog\\\\Utkatasana (255).jpg', 'test_data\\\\downdog\\\\Utkatasana (256).jpg', 'test_data\\\\downdog\\\\Utkatasana (257).jpg', 'test_data\\\\downdog\\\\Utkatasana (258).jpg', 'test_data\\\\downdog\\\\Utkatasana (259).jpg', 'test_data\\\\downdog\\\\Utkatasana (26).jpg', 'test_data\\\\downdog\\\\Utkatasana (260).jpg', 'test_data\\\\downdog\\\\Utkatasana (261).jpg', 'test_data\\\\downdog\\\\Utkatasana (262).jpg', 'test_data\\\\downdog\\\\Utkatasana (263).jpg', 'test_data\\\\downdog\\\\Utkatasana (264).jpg', 'test_data\\\\downdog\\\\Utkatasana (265).jpg', 'test_data\\\\downdog\\\\Utkatasana (266).jpg', 'test_data\\\\downdog\\\\Utkatasana (267).jpg', 'test_data\\\\downdog\\\\Utkatasana (268).jpg', 'test_data\\\\downdog\\\\Utkatasana (269).jpg', 'test_data\\\\downdog\\\\Utkatasana (27).jpg', 'test_data\\\\downdog\\\\Utkatasana (270).jpg', 'test_data\\\\downdog\\\\Utkatasana (271).jpg', 'test_data\\\\downdog\\\\Utkatasana (272).jpg', 'test_data\\\\downdog\\\\Utkatasana (273).jpg', 'test_data\\\\downdog\\\\Utkatasana (274).jpg', 'test_data\\\\downdog\\\\Utkatasana (275).jpg', 'test_data\\\\downdog\\\\Utkatasana (276).jpg', 'test_data\\\\downdog\\\\Utkatasana (277).jpg', 'test_data\\\\downdog\\\\Utkatasana (278).jpg', 'test_data\\\\downdog\\\\Utkatasana (279).jpg', 'test_data\\\\downdog\\\\Utkatasana (28).jpg', 'test_data\\\\downdog\\\\Utkatasana (280).jpg', 'test_data\\\\downdog\\\\Utkatasana (281).jpg', 'test_data\\\\downdog\\\\Utkatasana (282).jpg', 'test_data\\\\downdog\\\\Utkatasana (283).jpg', 'test_data\\\\downdog\\\\Utkatasana (284).jpg', 'test_data\\\\downdog\\\\Utkatasana (285).jpg', 'test_data\\\\downdog\\\\Utkatasana (286).jpg', 'test_data\\\\downdog\\\\Utkatasana (287).jpg', 'test_data\\\\downdog\\\\Utkatasana (288).jpg', 'test_data\\\\downdog\\\\Utkatasana (289).jpg', 'test_data\\\\downdog\\\\Utkatasana (29).jpg', 'test_data\\\\downdog\\\\Utkatasana (290).jpg', 'test_data\\\\downdog\\\\Utkatasana (291).jpg', 'test_data\\\\downdog\\\\Utkatasana (292).jpg', 'test_data\\\\downdog\\\\Utkatasana (293).jpg', 'test_data\\\\downdog\\\\Utkatasana (294).jpg', 'test_data\\\\downdog\\\\Utkatasana (295).jpg', 'test_data\\\\downdog\\\\Utkatasana (296).jpg', 'test_data\\\\downdog\\\\Utkatasana (297).jpg', 'test_data\\\\downdog\\\\Utkatasana (298).jpg', 'test_data\\\\downdog\\\\Utkatasana (299).jpg', 'test_data\\\\downdog\\\\Utkatasana (3).jpg', 'test_data\\\\downdog\\\\Utkatasana (3).png', 'test_data\\\\downdog\\\\Utkatasana (30).jpg', 'test_data\\\\downdog\\\\Utkatasana (300).jpg', 'test_data\\\\downdog\\\\Utkatasana (301).jpg', 'test_data\\\\downdog\\\\Utkatasana (302).jpg', 'test_data\\\\downdog\\\\Utkatasana (303).jpg', 'test_data\\\\downdog\\\\Utkatasana (304).jpg', 'test_data\\\\downdog\\\\Utkatasana (305).jpg', 'test_data\\\\downdog\\\\Utkatasana (306).jpg', 'test_data\\\\downdog\\\\Utkatasana (307).jpg', 'test_data\\\\downdog\\\\Utkatasana (308).jpg', 'test_data\\\\downdog\\\\Utkatasana (309).jpg', 'test_data\\\\downdog\\\\Utkatasana (31).jpg', 'test_data\\\\downdog\\\\Utkatasana (310).jpg', 'test_data\\\\downdog\\\\Utkatasana (311).jpg', 'test_data\\\\downdog\\\\Utkatasana (312).jpg', 'test_data\\\\downdog\\\\Utkatasana (313).jpg', 'test_data\\\\downdog\\\\Utkatasana (314).jpg', 'test_data\\\\downdog\\\\Utkatasana (315).jpg', 'test_data\\\\downdog\\\\Utkatasana (316).jpg', 'test_data\\\\downdog\\\\Utkatasana (317).jpg', 'test_data\\\\downdog\\\\Utkatasana (318).jpg', 'test_data\\\\downdog\\\\Utkatasana (319).jpg', 'test_data\\\\downdog\\\\Utkatasana (32).jpg', 'test_data\\\\downdog\\\\Utkatasana (320).jpg', 'test_data\\\\downdog\\\\Utkatasana (321).jpg', 'test_data\\\\downdog\\\\Utkatasana (322).jpg', 'test_data\\\\downdog\\\\Utkatasana (323).jpg', 'test_data\\\\downdog\\\\Utkatasana (324).jpg', 'test_data\\\\downdog\\\\Utkatasana (325).jpg', 'test_data\\\\downdog\\\\Utkatasana (326).jpg', 'test_data\\\\downdog\\\\Utkatasana (327).jpg', 'test_data\\\\downdog\\\\Utkatasana (328).jpg', 'test_data\\\\downdog\\\\Utkatasana (329).jpg', 'test_data\\\\downdog\\\\Utkatasana (33).jpg', 'test_data\\\\downdog\\\\Utkatasana (330).jpg', 'test_data\\\\downdog\\\\Utkatasana (331).jpg', 'test_data\\\\downdog\\\\Utkatasana (332).jpg', 'test_data\\\\downdog\\\\Utkatasana (333).jpg', 'test_data\\\\downdog\\\\Utkatasana (334).jpg', 'test_data\\\\downdog\\\\Utkatasana (335).jpg', 'test_data\\\\downdog\\\\Utkatasana (336).jpg', 'test_data\\\\downdog\\\\Utkatasana (337).jpg', 'test_data\\\\downdog\\\\Utkatasana (338).jpg', 'test_data\\\\downdog\\\\Utkatasana (339).jpg', 'test_data\\\\downdog\\\\Utkatasana (34).jpg', 'test_data\\\\downdog\\\\Utkatasana (340).jpg', 'test_data\\\\downdog\\\\Utkatasana (341).jpg', 'test_data\\\\downdog\\\\Utkatasana (342).jpg', 'test_data\\\\downdog\\\\Utkatasana (343).jpg', 'test_data\\\\downdog\\\\Utkatasana (344).jpg', 'test_data\\\\downdog\\\\Utkatasana (345).jpg', 'test_data\\\\downdog\\\\Utkatasana (346).jpg', 'test_data\\\\downdog\\\\Utkatasana (347).jpg', 'test_data\\\\downdog\\\\Utkatasana (348).jpg', 'test_data\\\\downdog\\\\Utkatasana (349).jpg', 'test_data\\\\downdog\\\\Utkatasana (35).jpg', 'test_data\\\\downdog\\\\Utkatasana (350).jpg', 'test_data\\\\downdog\\\\Utkatasana (351).jpg', 'test_data\\\\downdog\\\\Utkatasana (352).jpg', 'test_data\\\\downdog\\\\Utkatasana (353).jpg', 'test_data\\\\downdog\\\\Utkatasana (354).jpg', 'test_data\\\\downdog\\\\Utkatasana (355).jpg', 'test_data\\\\downdog\\\\Utkatasana (356).jpg', 'test_data\\\\downdog\\\\Utkatasana (357).jpg', 'test_data\\\\downdog\\\\Utkatasana (358).jpg', 'test_data\\\\downdog\\\\Utkatasana (359).jpg', 'test_data\\\\downdog\\\\Utkatasana (36).jpg', 'test_data\\\\downdog\\\\Utkatasana (360).jpg', 'test_data\\\\downdog\\\\Utkatasana (361).jpg', 'test_data\\\\downdog\\\\Utkatasana (362).jpg', 'test_data\\\\downdog\\\\Utkatasana (363).jpg', 'test_data\\\\downdog\\\\Utkatasana (364).jpg', 'test_data\\\\downdog\\\\Utkatasana (365).jpg', 'test_data\\\\downdog\\\\Utkatasana (366).jpg', 'test_data\\\\downdog\\\\Utkatasana (367).jpg', 'test_data\\\\downdog\\\\Utkatasana (368).jpg', 'test_data\\\\downdog\\\\Utkatasana (369).jpg', 'test_data\\\\downdog\\\\Utkatasana (37).jpg', 'test_data\\\\downdog\\\\Utkatasana (370).jpg', 'test_data\\\\downdog\\\\Utkatasana (371).jpg', 'test_data\\\\downdog\\\\Utkatasana (372).jpg', 'test_data\\\\downdog\\\\Utkatasana (373).jpg', 'test_data\\\\downdog\\\\Utkatasana (374).jpg', 'test_data\\\\downdog\\\\Utkatasana (375).jpg', 'test_data\\\\downdog\\\\Utkatasana (376).jpg', 'test_data\\\\downdog\\\\Utkatasana (377).jpg', 'test_data\\\\downdog\\\\Utkatasana (378).jpg', 'test_data\\\\downdog\\\\Utkatasana (379).jpg', 'test_data\\\\downdog\\\\Utkatasana (38).jpg', 'test_data\\\\downdog\\\\Utkatasana (380).jpg', 'test_data\\\\downdog\\\\Utkatasana (381).jpg', 'test_data\\\\downdog\\\\Utkatasana (382).jpg', 'test_data\\\\downdog\\\\Utkatasana (383).jpg', 'test_data\\\\downdog\\\\Utkatasana (384).jpg', 'test_data\\\\downdog\\\\Utkatasana (385).jpg', 'test_data\\\\downdog\\\\Utkatasana (386).jpg', 'test_data\\\\downdog\\\\Utkatasana (387).jpg', 'test_data\\\\downdog\\\\Utkatasana (388).jpg', 'test_data\\\\downdog\\\\Utkatasana (389).jpg', 'test_data\\\\downdog\\\\Utkatasana (39).jpg', 'test_data\\\\downdog\\\\Utkatasana (390).jpg', 'test_data\\\\downdog\\\\Utkatasana (391).jpg', 'test_data\\\\downdog\\\\Utkatasana (392).jpg', 'test_data\\\\downdog\\\\Utkatasana (393).jpg', 'test_data\\\\downdog\\\\Utkatasana (394).jpg', 'test_data\\\\downdog\\\\Utkatasana (395).jpg', 'test_data\\\\downdog\\\\Utkatasana (396).jpg', 'test_data\\\\downdog\\\\Utkatasana (397).jpg', 'test_data\\\\downdog\\\\Utkatasana (398).jpg', 'test_data\\\\downdog\\\\Utkatasana (399).jpg', 'test_data\\\\downdog\\\\Utkatasana (4).jpg', 'test_data\\\\downdog\\\\Utkatasana (4).png', 'test_data\\\\downdog\\\\Utkatasana (40).jpg', 'test_data\\\\downdog\\\\Utkatasana (400).jpg', 'test_data\\\\downdog\\\\Utkatasana (401).jpg', 'test_data\\\\downdog\\\\Utkatasana (402).jpg', 'test_data\\\\downdog\\\\Utkatasana (403).jpg', 'test_data\\\\downdog\\\\Utkatasana (404).jpg', 'test_data\\\\downdog\\\\Utkatasana (405).jpg', 'test_data\\\\downdog\\\\Utkatasana (406).jpg', 'test_data\\\\downdog\\\\Utkatasana (407).jpg', 'test_data\\\\downdog\\\\Utkatasana (408).jpg', 'test_data\\\\downdog\\\\Utkatasana (409).jpg', 'test_data\\\\downdog\\\\Utkatasana (41).jpg', 'test_data\\\\downdog\\\\Utkatasana (410).jpg', 'test_data\\\\downdog\\\\Utkatasana (411).jpg', 'test_data\\\\downdog\\\\Utkatasana (412).jpg', 'test_data\\\\downdog\\\\Utkatasana (413).jpg', 'test_data\\\\downdog\\\\Utkatasana (414).jpg', 'test_data\\\\downdog\\\\Utkatasana (415).jpg', 'test_data\\\\downdog\\\\Utkatasana (416).jpg', 'test_data\\\\downdog\\\\Utkatasana (417).jpg', 'test_data\\\\downdog\\\\Utkatasana (418).jpg', 'test_data\\\\downdog\\\\Utkatasana (42).jpg', 'test_data\\\\downdog\\\\Utkatasana (43).jpg', 'test_data\\\\downdog\\\\Utkatasana (44).jpg', 'test_data\\\\downdog\\\\Utkatasana (45).jpg', 'test_data\\\\downdog\\\\Utkatasana (46).jpg', 'test_data\\\\downdog\\\\Utkatasana (47).jpg', 'test_data\\\\downdog\\\\Utkatasana (48).jpg', 'test_data\\\\downdog\\\\Utkatasana (49).jpg', 'test_data\\\\downdog\\\\Utkatasana (5).jpg', 'test_data\\\\downdog\\\\Utkatasana (5).png', 'test_data\\\\downdog\\\\Utkatasana (50).jpg', 'test_data\\\\downdog\\\\Utkatasana (51).jpg', 'test_data\\\\downdog\\\\Utkatasana (52).jpg', 'test_data\\\\downdog\\\\Utkatasana (53).jpg', 'test_data\\\\downdog\\\\Utkatasana (54).jpg', 'test_data\\\\downdog\\\\Utkatasana (55).jpg', 'test_data\\\\downdog\\\\Utkatasana (56).jpg', 'test_data\\\\downdog\\\\Utkatasana (57).jpg', 'test_data\\\\downdog\\\\Utkatasana (58).jpg', 'test_data\\\\downdog\\\\Utkatasana (59).jpg', 'test_data\\\\downdog\\\\Utkatasana (6).jpg', 'test_data\\\\downdog\\\\Utkatasana (6).png', 'test_data\\\\downdog\\\\Utkatasana (60).jpg', 'test_data\\\\downdog\\\\Utkatasana (61).jpg', 'test_data\\\\downdog\\\\Utkatasana (62).jpg', 'test_data\\\\downdog\\\\Utkatasana (63).jpg', 'test_data\\\\downdog\\\\Utkatasana (64).jpg', 'test_data\\\\downdog\\\\Utkatasana (65).JPG', 'test_data\\\\downdog\\\\Utkatasana (66).jpg', 'test_data\\\\downdog\\\\Utkatasana (67).jpg', 'test_data\\\\downdog\\\\Utkatasana (68).jpg', 'test_data\\\\downdog\\\\Utkatasana (69).jpg', 'test_data\\\\downdog\\\\Utkatasana (7).jpg', 'test_data\\\\downdog\\\\Utkatasana (7).png', 'test_data\\\\downdog\\\\Utkatasana (70).jpg', 'test_data\\\\downdog\\\\Utkatasana (71).jpg', 'test_data\\\\downdog\\\\Utkatasana (72).jpg', 'test_data\\\\downdog\\\\Utkatasana (73).jpg', 'test_data\\\\downdog\\\\Utkatasana (74).jpg', 'test_data\\\\downdog\\\\Utkatasana (75).jpg', 'test_data\\\\downdog\\\\Utkatasana (76).jpg', 'test_data\\\\downdog\\\\Utkatasana (77).jpg', 'test_data\\\\downdog\\\\Utkatasana (78).jpg', 'test_data\\\\downdog\\\\Utkatasana (79).jpg', 'test_data\\\\downdog\\\\Utkatasana (8).jpg', 'test_data\\\\downdog\\\\Utkatasana (8).png', 'test_data\\\\downdog\\\\Utkatasana (80).jpg', 'test_data\\\\downdog\\\\Utkatasana (81).jpg', 'test_data\\\\downdog\\\\Utkatasana (82).jpg', 'test_data\\\\downdog\\\\Utkatasana (83).jpg', 'test_data\\\\downdog\\\\Utkatasana (84).jpg', 'test_data\\\\downdog\\\\Utkatasana (85).jpg', 'test_data\\\\downdog\\\\Utkatasana (86).jpg', 'test_data\\\\downdog\\\\Utkatasana (87).jpg', 'test_data\\\\downdog\\\\Utkatasana (88).jpg', 'test_data\\\\downdog\\\\Utkatasana (89).jpg', 'test_data\\\\downdog\\\\Utkatasana (9).jpg', 'test_data\\\\downdog\\\\Utkatasana (9).png', 'test_data\\\\downdog\\\\Utkatasana (90).jpg', 'test_data\\\\downdog\\\\Utkatasana (91).jpg', 'test_data\\\\downdog\\\\Utkatasana (92).jpg', 'test_data\\\\downdog\\\\Utkatasana (93).jpg', 'test_data\\\\downdog\\\\Utkatasana (94).JPG', 'test_data\\\\downdog\\\\Utkatasana (95).jpg', 'test_data\\\\downdog\\\\Utkatasana (96).jpg', 'test_data\\\\downdog\\\\Utkatasana (97).jpg', 'test_data\\\\downdog\\\\Utkatasana (98).jpg', 'test_data\\\\downdog\\\\Utkatasana (99).jpg', 'test_data\\\\goddess\\\\Utkatakonasana (1).jfif', 'test_data\\\\goddess\\\\Utkatakonasana (1).jpeg', 'test_data\\\\goddess\\\\Utkatakonasana (1).jpg', 'test_data\\\\goddess\\\\Utkatakonasana (1).png', 'test_data\\\\goddess\\\\Utkatakonasana (10).jfif', 'test_data\\\\goddess\\\\Utkatakonasana (10).jpg', 'test_data\\\\goddess\\\\Utkatakonasana (10).png', 'test_data\\\\goddess\\\\Utkatakonasana (100).jpg', 'test_data\\\\goddess\\\\Utkatakonasana (101).jpg', 'test_data\\\\goddess\\\\Utkatakonasana (102).jpg', 'test_data\\\\goddess\\\\Utkatakonasana (103).jpg', 'test_data\\\\goddess\\\\Utkatakonasana (104).jpg', 'test_data\\\\goddess\\\\Utkatakonasana (105).jpg', 'test_data\\\\goddess\\\\Utkatakonasana (106).jpg', 'test_data\\\\goddess\\\\Utkatakonasana (107).jpg', 'test_data\\\\goddess\\\\Utkatakonasana (108).jpg', 'test_data\\\\goddess\\\\Utkatakonasana (109).jpg', 'test_data\\\\goddess\\\\Utkatakonasana (11).jfif', 'test_data\\\\goddess\\\\Utkatakonasana (11).jpg', 'test_data\\\\goddess\\\\Utkatakonasana (11).png', 'test_data\\\\goddess\\\\Utkatakonasana (110).jpg', 'test_data\\\\goddess\\\\Utkatakonasana (111).jpg', 'test_data\\\\goddess\\\\Utkatakonasana (112).jpg', 'test_data\\\\goddess\\\\Utkatakonasana (113).jpg', 'test_data\\\\goddess\\\\Utkatakonasana (114).jpg', 'test_data\\\\goddess\\\\Utkatakonasana (115).jpg', 'test_data\\\\goddess\\\\Utkatakonasana (116).jpg', 'test_data\\\\goddess\\\\Utkatakonasana (117).jpg', 'test_data\\\\goddess\\\\Utkatakonasana (118).jpg', 'test_data\\\\goddess\\\\Utkatakonasana (119).jpg', 'test_data\\\\goddess\\\\Utkatakonasana (12).jfif', 'test_data\\\\goddess\\\\Utkatakonasana (12).jpg', 'test_data\\\\goddess\\\\Utkatakonasana (120).jpg', 'test_data\\\\goddess\\\\Utkatakonasana (121).jpg', 'test_data\\\\goddess\\\\Utkatakonasana (122).jpg', 'test_data\\\\goddess\\\\Utkatakonasana (123).jpg', 'test_data\\\\goddess\\\\Utkatakonasana (124).jpg', 'test_data\\\\goddess\\\\Utkatakonasana (125).jpg', 'test_data\\\\goddess\\\\Utkatakonasana (126).jpg', 'test_data\\\\goddess\\\\Utkatakonasana (127).jpg', 'test_data\\\\goddess\\\\Utkatakonasana (128).jpg', 'test_data\\\\goddess\\\\Utkatakonasana (129).jpg', 'test_data\\\\goddess\\\\Utkatakonasana (13).jfif', 'test_data\\\\goddess\\\\Utkatakonasana (13).jpg', 'test_data\\\\goddess\\\\Utkatakonasana (130).jpg', 'test_data\\\\goddess\\\\Utkatakonasana (131).jpg', 'test_data\\\\goddess\\\\Utkatakonasana (132).jpg', 'test_data\\\\goddess\\\\Utkatakonasana (133).jpg', 'test_data\\\\goddess\\\\Utkatakonasana (134).jpg', 'test_data\\\\goddess\\\\Utkatakonasana (135).jpg', 'test_data\\\\goddess\\\\Utkatakonasana (136).jpg', 'test_data\\\\goddess\\\\Utkatakonasana (137).jpg', 'test_data\\\\goddess\\\\Utkatakonasana (138).jpg', 'test_data\\\\goddess\\\\Utkatakonasana (139).jpg', 'test_data\\\\goddess\\\\Utkatakonasana (14).jfif', 'test_data\\\\goddess\\\\Utkatakonasana (14).jpg', 'test_data\\\\goddess\\\\Utkatakonasana (140).jpg', 'test_data\\\\goddess\\\\Utkatakonasana (141).jpg', 'test_data\\\\goddess\\\\Utkatakonasana (142).jpg', 'test_data\\\\goddess\\\\Utkatakonasana (143).jpg', 'test_data\\\\goddess\\\\Utkatakonasana (144).jpg', 'test_data\\\\goddess\\\\Utkatakonasana (145).jpg', 'test_data\\\\goddess\\\\Utkatakonasana (146).jpg', 'test_data\\\\goddess\\\\Utkatakonasana (147).jpg', 'test_data\\\\goddess\\\\Utkatakonasana (148).jpg', 'test_data\\\\goddess\\\\Utkatakonasana (149).jpg', 'test_data\\\\goddess\\\\Utkatakonasana (15).jpg', 'test_data\\\\goddess\\\\Utkatakonasana (150).jpg', 'test_data\\\\goddess\\\\Utkatakonasana (151).jpg', 'test_data\\\\goddess\\\\Utkatakonasana (152).jpg', 'test_data\\\\goddess\\\\Utkatakonasana (153).jpg', 'test_data\\\\goddess\\\\Utkatakonasana (154).jpg', 'test_data\\\\goddess\\\\Utkatakonasana (155).jpg', 'test_data\\\\goddess\\\\Utkatakonasana (156).jpg', 'test_data\\\\goddess\\\\Utkatakonasana (157).jpg', 'test_data\\\\goddess\\\\Utkatakonasana (158).jpg', 'test_data\\\\goddess\\\\Utkatakonasana (159).jpg', 'test_data\\\\goddess\\\\Utkatakonasana (16).jpg', 'test_data\\\\goddess\\\\Utkatakonasana (160).jpg', 'test_data\\\\goddess\\\\Utkatakonasana (161).jpg', 'test_data\\\\goddess\\\\Utkatakonasana (162).jpg', 'test_data\\\\goddess\\\\Utkatakonasana (163).jpg', 'test_data\\\\goddess\\\\Utkatakonasana (164).jpg', 'test_data\\\\goddess\\\\Utkatakonasana (165).jpg', 'test_data\\\\goddess\\\\Utkatakonasana (166).JPG', 'test_data\\\\goddess\\\\Utkatakonasana (167).jpg', 'test_data\\\\goddess\\\\Utkatakonasana (168).jpg', 'test_data\\\\goddess\\\\Utkatakonasana (169).jpg', 'test_data\\\\goddess\\\\Utkatakonasana (17).jpg', 'test_data\\\\goddess\\\\Utkatakonasana (170).jpg', 'test_data\\\\goddess\\\\Utkatakonasana (171).jpg', 'test_data\\\\goddess\\\\Utkatakonasana (172).jpg', 'test_data\\\\goddess\\\\Utkatakonasana (173).jpg', 'test_data\\\\goddess\\\\Utkatakonasana (174).jpg', 'test_data\\\\goddess\\\\Utkatakonasana (175).jpg', 'test_data\\\\goddess\\\\Utkatakonasana (176).jpg', 'test_data\\\\goddess\\\\Utkatakonasana (18).jpg', 'test_data\\\\goddess\\\\Utkatakonasana (19).jpg', 'test_data\\\\goddess\\\\Utkatakonasana (2).jfif', 'test_data\\\\goddess\\\\Utkatakonasana (2).jpeg', 'test_data\\\\goddess\\\\Utkatakonasana (2).jpg', 'test_data\\\\goddess\\\\Utkatakonasana (2).png', 'test_data\\\\goddess\\\\Utkatakonasana (20).jpg', 'test_data\\\\goddess\\\\Utkatakonasana (21).jpg', 'test_data\\\\goddess\\\\Utkatakonasana (22).jpg', 'test_data\\\\goddess\\\\Utkatakonasana (23).jpg', 'test_data\\\\goddess\\\\Utkatakonasana (24).jpg', 'test_data\\\\goddess\\\\Utkatakonasana (25).jpg', 'test_data\\\\goddess\\\\Utkatakonasana (26).jpg', 'test_data\\\\goddess\\\\Utkatakonasana (27).jpg', 'test_data\\\\goddess\\\\Utkatakonasana (28).jpg', 'test_data\\\\goddess\\\\Utkatakonasana (29).jpg', 'test_data\\\\goddess\\\\Utkatakonasana (3).jfif', 'test_data\\\\goddess\\\\Utkatakonasana (3).jpeg', 'test_data\\\\goddess\\\\Utkatakonasana (3).jpg', 'test_data\\\\goddess\\\\Utkatakonasana (3).png', 'test_data\\\\goddess\\\\Utkatakonasana (30).jpg', 'test_data\\\\goddess\\\\Utkatakonasana (31).jpg', 'test_data\\\\goddess\\\\Utkatakonasana (32).jpg', 'test_data\\\\goddess\\\\Utkatakonasana (33).jpg', 'test_data\\\\goddess\\\\Utkatakonasana (34).jpg', 'test_data\\\\goddess\\\\Utkatakonasana (35).jpg', 'test_data\\\\goddess\\\\Utkatakonasana (36).jpg', 'test_data\\\\goddess\\\\Utkatakonasana (37).jpg', 'test_data\\\\goddess\\\\Utkatakonasana (38).jpg', 'test_data\\\\goddess\\\\Utkatakonasana (39).jpg', 'test_data\\\\goddess\\\\Utkatakonasana (4).jfif', 'test_data\\\\goddess\\\\Utkatakonasana (4).jpeg', 'test_data\\\\goddess\\\\Utkatakonasana (4).jpg', 'test_data\\\\goddess\\\\Utkatakonasana (4).png', 'test_data\\\\goddess\\\\Utkatakonasana (40).jpg', 'test_data\\\\goddess\\\\Utkatakonasana (41).jpg', 'test_data\\\\goddess\\\\Utkatakonasana (42).jpg', 'test_data\\\\goddess\\\\Utkatakonasana (43).jpg', 'test_data\\\\goddess\\\\Utkatakonasana (44).jpg', 'test_data\\\\goddess\\\\Utkatakonasana (45).jpg', 'test_data\\\\goddess\\\\Utkatakonasana (46).jpg', 'test_data\\\\goddess\\\\Utkatakonasana (47).jpg', 'test_data\\\\goddess\\\\Utkatakonasana (48).jpg', 'test_data\\\\goddess\\\\Utkatakonasana (49).jpg', 'test_data\\\\goddess\\\\Utkatakonasana (5).jfif', 'test_data\\\\goddess\\\\Utkatakonasana (5).jpeg', 'test_data\\\\goddess\\\\Utkatakonasana (5).jpg', 'test_data\\\\goddess\\\\Utkatakonasana (5).png', 'test_data\\\\goddess\\\\Utkatakonasana (50).jpg', 'test_data\\\\goddess\\\\Utkatakonasana (51).jpg', 'test_data\\\\goddess\\\\Utkatakonasana (52).jpg', 'test_data\\\\goddess\\\\Utkatakonasana (53).jpg', 'test_data\\\\goddess\\\\Utkatakonasana (54).jpg', 'test_data\\\\goddess\\\\Utkatakonasana (55).JPG', 'test_data\\\\goddess\\\\Utkatakonasana (56).jpg', 'test_data\\\\goddess\\\\Utkatakonasana (57).jpg', 'test_data\\\\goddess\\\\Utkatakonasana (58).jpg', 'test_data\\\\goddess\\\\Utkatakonasana (59).jpg', 'test_data\\\\goddess\\\\Utkatakonasana (6).jfif', 'test_data\\\\goddess\\\\Utkatakonasana (6).jpeg', 'test_data\\\\goddess\\\\Utkatakonasana (6).jpg', 'test_data\\\\goddess\\\\Utkatakonasana (6).png', 'test_data\\\\goddess\\\\Utkatakonasana (60).jpg', 'test_data\\\\goddess\\\\Utkatakonasana (61).jpg', 'test_data\\\\goddess\\\\Utkatakonasana (62).jpg', 'test_data\\\\goddess\\\\Utkatakonasana (63).jpg', 'test_data\\\\goddess\\\\Utkatakonasana (64).jpg', 'test_data\\\\goddess\\\\Utkatakonasana (65).jpg', 'test_data\\\\goddess\\\\Utkatakonasana (66).jpg', 'test_data\\\\goddess\\\\Utkatakonasana (67).jpg', 'test_data\\\\goddess\\\\Utkatakonasana (68).jpg', 'test_data\\\\goddess\\\\Utkatakonasana (69).jpg', 'test_data\\\\goddess\\\\Utkatakonasana (7).jfif', 'test_data\\\\goddess\\\\Utkatakonasana (7).jpeg', 'test_data\\\\goddess\\\\Utkatakonasana (7).jpg', 'test_data\\\\goddess\\\\Utkatakonasana (7).png', 'test_data\\\\goddess\\\\Utkatakonasana (70).jpg', 'test_data\\\\goddess\\\\Utkatakonasana (71).jpg', 'test_data\\\\goddess\\\\Utkatakonasana (72).jpg', 'test_data\\\\goddess\\\\Utkatakonasana (73).jpg', 'test_data\\\\goddess\\\\Utkatakonasana (74).jpg', 'test_data\\\\goddess\\\\Utkatakonasana (75).jpg', 'test_data\\\\goddess\\\\Utkatakonasana (76).jpg', 'test_data\\\\goddess\\\\Utkatakonasana (77).jpg', 'test_data\\\\goddess\\\\Utkatakonasana (78).jpg', 'test_data\\\\goddess\\\\Utkatakonasana (79).jpg', 'test_data\\\\goddess\\\\Utkatakonasana (8).jfif', 'test_data\\\\goddess\\\\Utkatakonasana (8).jpeg', 'test_data\\\\goddess\\\\Utkatakonasana (8).jpg', 'test_data\\\\goddess\\\\Utkatakonasana (8).png', 'test_data\\\\goddess\\\\Utkatakonasana (80).jpg', 'test_data\\\\goddess\\\\Utkatakonasana (81).jpg', 'test_data\\\\goddess\\\\Utkatakonasana (82).jpg', 'test_data\\\\goddess\\\\Utkatakonasana (83).jpg', 'test_data\\\\goddess\\\\Utkatakonasana (84).jpg', 'test_data\\\\goddess\\\\Utkatakonasana (85).jpg', 'test_data\\\\goddess\\\\Utkatakonasana (86).jpg', 'test_data\\\\goddess\\\\Utkatakonasana (87).jpg', 'test_data\\\\goddess\\\\Utkatakonasana (88).jpg', 'test_data\\\\goddess\\\\Utkatakonasana (89).jpg', 'test_data\\\\goddess\\\\Utkatakonasana (9).jfif', 'test_data\\\\goddess\\\\Utkatakonasana (9).jpg', 'test_data\\\\goddess\\\\Utkatakonasana (9).png', 'test_data\\\\goddess\\\\Utkatakonasana (90).jpg', 'test_data\\\\goddess\\\\Utkatakonasana (91).jpg', 'test_data\\\\goddess\\\\Utkatakonasana (92).jpg', 'test_data\\\\goddess\\\\Utkatakonasana (93).jpg', 'test_data\\\\goddess\\\\Utkatakonasana (94).jpg', 'test_data\\\\goddess\\\\Utkatakonasana (95).jpg', 'test_data\\\\goddess\\\\Utkatakonasana (96).jpg', 'test_data\\\\goddess\\\\Utkatakonasana (97).jpg', 'test_data\\\\goddess\\\\Utkatakonasana (98).JPG', 'test_data\\\\goddess\\\\Utkatakonasana (99).jpg', 'test_data\\\\warrior\\\\Virabhadrasana (1).jfif', 'test_data\\\\warrior\\\\Virabhadrasana (1).jpeg', 'test_data\\\\warrior\\\\Virabhadrasana (1).jpg', 'test_data\\\\warrior\\\\Virabhadrasana (1).png', 'test_data\\\\warrior\\\\Virabhadrasana (10).jpg', 'test_data\\\\warrior\\\\Virabhadrasana (100).jpg', 'test_data\\\\warrior\\\\Virabhadrasana (101).jpg', 'test_data\\\\warrior\\\\Virabhadrasana (102).jpg', 'test_data\\\\warrior\\\\Virabhadrasana (103).jpg', 'test_data\\\\warrior\\\\Virabhadrasana (104).jpg', 'test_data\\\\warrior\\\\Virabhadrasana (105).jpg', 'test_data\\\\warrior\\\\Virabhadrasana (106).jpg', 'test_data\\\\warrior\\\\Virabhadrasana (107).jpg', 'test_data\\\\warrior\\\\Virabhadrasana (108).jpg', 'test_data\\\\warrior\\\\Virabhadrasana (109).jpg', 'test_data\\\\warrior\\\\Virabhadrasana (11).jpg', 'test_data\\\\warrior\\\\Virabhadrasana (110).jpg', 'test_data\\\\warrior\\\\Virabhadrasana (111).jpg', 'test_data\\\\warrior\\\\Virabhadrasana (112).jpg', 'test_data\\\\warrior\\\\Virabhadrasana (113).jpg', 'test_data\\\\warrior\\\\Virabhadrasana (114).jpg', 'test_data\\\\warrior\\\\Virabhadrasana (115).jpg', 'test_data\\\\warrior\\\\Virabhadrasana (116).jpg', 'test_data\\\\warrior\\\\Virabhadrasana (117).jpg', 'test_data\\\\warrior\\\\Virabhadrasana (118).jpg', 'test_data\\\\warrior\\\\Virabhadrasana (119).jpg', 'test_data\\\\warrior\\\\Virabhadrasana (12).jpg', 'test_data\\\\warrior\\\\Virabhadrasana (120).jpg', 'test_data\\\\warrior\\\\Virabhadrasana (121).jpg', 'test_data\\\\warrior\\\\Virabhadrasana (122).jpg', 'test_data\\\\warrior\\\\Virabhadrasana (123).jpg', 'test_data\\\\warrior\\\\Virabhadrasana (124).jpg', 'test_data\\\\warrior\\\\Virabhadrasana (125).jpg', 'test_data\\\\warrior\\\\Virabhadrasana (126).jpg', 'test_data\\\\warrior\\\\Virabhadrasana (127).jpg', 'test_data\\\\warrior\\\\Virabhadrasana (128).jpg', 'test_data\\\\warrior\\\\Virabhadrasana (129).jpg', 'test_data\\\\warrior\\\\Virabhadrasana (13).jpg', 'test_data\\\\warrior\\\\Virabhadrasana (130).jpg', 'test_data\\\\warrior\\\\Virabhadrasana (131).jpg', 'test_data\\\\warrior\\\\Virabhadrasana (132).jpg', 'test_data\\\\warrior\\\\Virabhadrasana (133).jpg', 'test_data\\\\warrior\\\\Virabhadrasana (134).jpg', 'test_data\\\\warrior\\\\Virabhadrasana (135).jpg', 'test_data\\\\warrior\\\\Virabhadrasana (136).jpg', 'test_data\\\\warrior\\\\Virabhadrasana (137).jpg', 'test_data\\\\warrior\\\\Virabhadrasana (138).jpg', 'test_data\\\\warrior\\\\Virabhadrasana (139).jpg', 'test_data\\\\warrior\\\\Virabhadrasana (14).jpg', 'test_data\\\\warrior\\\\Virabhadrasana (140).jpg', 'test_data\\\\warrior\\\\Virabhadrasana (141).jpg', 'test_data\\\\warrior\\\\Virabhadrasana (142).jpg', 'test_data\\\\warrior\\\\Virabhadrasana (143).jpg', 'test_data\\\\warrior\\\\Virabhadrasana (144).jpg', 'test_data\\\\warrior\\\\Virabhadrasana (145).jpg', 'test_data\\\\warrior\\\\Virabhadrasana (146).jpg', 'test_data\\\\warrior\\\\Virabhadrasana (147).jpg', 'test_data\\\\warrior\\\\Virabhadrasana (148).jpg', 'test_data\\\\warrior\\\\Virabhadrasana (149).jpg', 'test_data\\\\warrior\\\\Virabhadrasana (15).jpg', 'test_data\\\\warrior\\\\Virabhadrasana (150).jpg', 'test_data\\\\warrior\\\\Virabhadrasana (151).jpg', 'test_data\\\\warrior\\\\Virabhadrasana (152).jpg', 'test_data\\\\warrior\\\\Virabhadrasana (153).jpg', 'test_data\\\\warrior\\\\Virabhadrasana (154).jpg', 'test_data\\\\warrior\\\\Virabhadrasana (155).jpg', 'test_data\\\\warrior\\\\Virabhadrasana (156).jpg', 'test_data\\\\warrior\\\\Virabhadrasana (157).jpg', 'test_data\\\\warrior\\\\Virabhadrasana (158).jpg', 'test_data\\\\warrior\\\\Virabhadrasana (159).jpg', 'test_data\\\\warrior\\\\Virabhadrasana (16).jpg', 'test_data\\\\warrior\\\\Virabhadrasana (160).jpg', 'test_data\\\\warrior\\\\Virabhadrasana (161).jpg', 'test_data\\\\warrior\\\\Virabhadrasana (162).jpg', 'test_data\\\\warrior\\\\Virabhadrasana (163).jpg', 'test_data\\\\warrior\\\\Virabhadrasana (164).jpg', 'test_data\\\\warrior\\\\Virabhadrasana (165).jpg', 'test_data\\\\warrior\\\\Virabhadrasana (166).jpg', 'test_data\\\\warrior\\\\Virabhadrasana (167).jpg', 'test_data\\\\warrior\\\\Virabhadrasana (168).jpg', 'test_data\\\\warrior\\\\Virabhadrasana (169).jpg', 'test_data\\\\warrior\\\\Virabhadrasana (17).jpg', 'test_data\\\\warrior\\\\Virabhadrasana (170).jpg', 'test_data\\\\warrior\\\\Virabhadrasana (171).jpg', 'test_data\\\\warrior\\\\Virabhadrasana (172).jpg', 'test_data\\\\warrior\\\\Virabhadrasana (173).jpg', 'test_data\\\\warrior\\\\Virabhadrasana (174).jpg', 'test_data\\\\warrior\\\\Virabhadrasana (175).jpg', 'test_data\\\\warrior\\\\Virabhadrasana (176).jpg', 'test_data\\\\warrior\\\\Virabhadrasana (18).jpg', 'test_data\\\\warrior\\\\Virabhadrasana (19).jpg', 'test_data\\\\warrior\\\\Virabhadrasana (2).jfif', 'test_data\\\\warrior\\\\Virabhadrasana (2).jpg', 'test_data\\\\warrior\\\\Virabhadrasana (2).png', 'test_data\\\\warrior\\\\Virabhadrasana (20).jpg', 'test_data\\\\warrior\\\\Virabhadrasana (21).jpg', 'test_data\\\\warrior\\\\Virabhadrasana (22).jpg', 'test_data\\\\warrior\\\\Virabhadrasana (23).jpg', 'test_data\\\\warrior\\\\Virabhadrasana (24).jpg', 'test_data\\\\warrior\\\\Virabhadrasana (25).jpg', 'test_data\\\\warrior\\\\Virabhadrasana (26).jpg', 'test_data\\\\warrior\\\\Virabhadrasana (27).jpg', 'test_data\\\\warrior\\\\Virabhadrasana (28).jpg', 'test_data\\\\warrior\\\\Virabhadrasana (29).jpg', 'test_data\\\\warrior\\\\Virabhadrasana (3).jfif', 'test_data\\\\warrior\\\\Virabhadrasana (3).jpg', 'test_data\\\\warrior\\\\Virabhadrasana (3).png', 'test_data\\\\warrior\\\\Virabhadrasana (30).jpg', 'test_data\\\\warrior\\\\Virabhadrasana (31).jpg', 'test_data\\\\warrior\\\\Virabhadrasana (32).jpg', 'test_data\\\\warrior\\\\Virabhadrasana (33).jpg', 'test_data\\\\warrior\\\\Virabhadrasana (34).jpg', 'test_data\\\\warrior\\\\Virabhadrasana (35).jpg', 'test_data\\\\warrior\\\\Virabhadrasana (36).jpg', 'test_data\\\\warrior\\\\Virabhadrasana (37).jpg', 'test_data\\\\warrior\\\\Virabhadrasana (38).jpg', 'test_data\\\\warrior\\\\Virabhadrasana (39).jpg', 'test_data\\\\warrior\\\\Virabhadrasana (4).jpg', 'test_data\\\\warrior\\\\Virabhadrasana (40).jpg', 'test_data\\\\warrior\\\\Virabhadrasana (41).jpg', 'test_data\\\\warrior\\\\Virabhadrasana (42).jpg', 'test_data\\\\warrior\\\\Virabhadrasana (43).jpg', 'test_data\\\\warrior\\\\Virabhadrasana (44).jpg', 'test_data\\\\warrior\\\\Virabhadrasana (45).jpg', 'test_data\\\\warrior\\\\Virabhadrasana (46).jpg', 'test_data\\\\warrior\\\\Virabhadrasana (47).jpg', 'test_data\\\\warrior\\\\Virabhadrasana (48).jpg', 'test_data\\\\warrior\\\\Virabhadrasana (49).jpg', 'test_data\\\\warrior\\\\Virabhadrasana (5).jpg', 'test_data\\\\warrior\\\\Virabhadrasana (50).jpg', 'test_data\\\\warrior\\\\Virabhadrasana (51).jpg', 'test_data\\\\warrior\\\\Virabhadrasana (52).jpg', 'test_data\\\\warrior\\\\Virabhadrasana (53).jpg', 'test_data\\\\warrior\\\\Virabhadrasana (54).jpg', 'test_data\\\\warrior\\\\Virabhadrasana (55).jpg', 'test_data\\\\warrior\\\\Virabhadrasana (56).jpg', 'test_data\\\\warrior\\\\Virabhadrasana (57).jpg', 'test_data\\\\warrior\\\\Virabhadrasana (58).jpg', 'test_data\\\\warrior\\\\Virabhadrasana (59).jpg', 'test_data\\\\warrior\\\\Virabhadrasana (6).jpg', 'test_data\\\\warrior\\\\Virabhadrasana (60).jpg', 'test_data\\\\warrior\\\\Virabhadrasana (61).jpg', 'test_data\\\\warrior\\\\Virabhadrasana (62).jpg', 'test_data\\\\warrior\\\\Virabhadrasana (63).jpg', 'test_data\\\\warrior\\\\Virabhadrasana (64).jpg', 'test_data\\\\warrior\\\\Virabhadrasana (65).jpg', 'test_data\\\\warrior\\\\Virabhadrasana (66).jpg', 'test_data\\\\warrior\\\\Virabhadrasana (67).jpg', 'test_data\\\\warrior\\\\Virabhadrasana (68).jpg', 'test_data\\\\warrior\\\\Virabhadrasana (69).jpg', 'test_data\\\\warrior\\\\Virabhadrasana (7).jpg', 'test_data\\\\warrior\\\\Virabhadrasana (70).jpg', 'test_data\\\\warrior\\\\Virabhadrasana (71).jpg', 'test_data\\\\warrior\\\\Virabhadrasana (72).jpg', 'test_data\\\\warrior\\\\Virabhadrasana (73).jpg', 'test_data\\\\warrior\\\\Virabhadrasana (74).jpg', 'test_data\\\\warrior\\\\Virabhadrasana (75).jpg', 'test_data\\\\warrior\\\\Virabhadrasana (76).jpg', 'test_data\\\\warrior\\\\Virabhadrasana (77).jpg', 'test_data\\\\warrior\\\\Virabhadrasana (78).jpg', 'test_data\\\\warrior\\\\Virabhadrasana (79).jpg', 'test_data\\\\warrior\\\\Virabhadrasana (8).jpg', 'test_data\\\\warrior\\\\Virabhadrasana (80).jpg', 'test_data\\\\warrior\\\\Virabhadrasana (81).jpg', 'test_data\\\\warrior\\\\Virabhadrasana (82).jpg', 'test_data\\\\warrior\\\\Virabhadrasana (83).jpg', 'test_data\\\\warrior\\\\Virabhadrasana (84).jpg', 'test_data\\\\warrior\\\\Virabhadrasana (85).jpg', 'test_data\\\\warrior\\\\Virabhadrasana (86).jpg', 'test_data\\\\warrior\\\\Virabhadrasana (87).jpg', 'test_data\\\\warrior\\\\Virabhadrasana (88).jpg', 'test_data\\\\warrior\\\\Virabhadrasana (89).jpg', 'test_data\\\\warrior\\\\Virabhadrasana (9).jpg', 'test_data\\\\warrior\\\\Virabhadrasana (90).jpg', 'test_data\\\\warrior\\\\Virabhadrasana (91).jpg', 'test_data\\\\warrior\\\\Virabhadrasana (92).jpg', 'test_data\\\\warrior\\\\Virabhadrasana (93).jpg', 'test_data\\\\warrior\\\\Virabhadrasana (94).jpg', 'test_data\\\\warrior\\\\Virabhadrasana (95).jpg', 'test_data\\\\warrior\\\\Virabhadrasana (96).jpg', 'test_data\\\\warrior\\\\Virabhadrasana (97).jpg', 'test_data\\\\warrior\\\\Virabhadrasana (98).jpg', 'test_data\\\\warrior\\\\Virabhadrasana (99).jpg']\n",
      "1031\n"
     ]
    }
   ],
   "source": [
    "filepaths=[]\n",
    "for filename in os.listdir(directory):\n",
    "    for file in os.listdir(os.path.join(directory,filename)):\n",
    "        path=os.path.join(directory,filename,file)\n",
    "#         print(path)\n",
    "        filepaths.append(path)\n",
    "    \n",
    "print(filepaths)   \n",
    "print(len(filepaths))"
   ]
  },
  {
   "cell_type": "code",
   "execution_count": 7,
   "metadata": {},
   "outputs": [],
   "source": [
    "columns=[]\n",
    "for lndmrk in mp_pose.PoseLandmark:\n",
    "    val=str(lndmrk).split(\".\")[1]\n",
    "    columns.append(val+\"_x\")\n",
    "    columns.append(val+\"_y\")\n",
    "    columns.append(val+\"_z\")\n",
    "    columns.append(val+\"_visiblity\")\n",
    "columns.append(\"target\")"
   ]
  },
  {
   "cell_type": "code",
   "execution_count": 8,
   "metadata": {},
   "outputs": [],
   "source": [
    "data=[]"
   ]
  },
  {
   "cell_type": "code",
   "execution_count": 15,
   "metadata": {},
   "outputs": [],
   "source": [
    "#functions\n",
    "def collect_data(landmarks,data,target):\n",
    "    curr=[]\n",
    "    for i in mp_pose.PoseLandmark:\n",
    "        val=i.value\n",
    "        curr.append(landmarks[val].x)\n",
    "        curr.append(landmarks[val].y)\n",
    "        curr.append(landmarks[val].z)\n",
    "        curr.append(landmarks[val].visibility)\n",
    "    \n",
    "    curr.append(target)\n",
    "    data.append(curr)\n",
    "    \n",
    "    \n",
    "def extract_target(path):\n",
    "    return path.split(\"\\\\\")[-1].split(\" \")[0]\n",
    "\n",
    "\n",
    "def extract_datapoints(path):\n",
    "    cap = cv2.VideoCapture(path)\n",
    "## Setup mediapipe instance\n",
    "    with mp_pose.Pose(min_detection_confidence=0.7, min_tracking_confidence=0.7) as pose:\n",
    "        while cap.isOpened():\n",
    "            ret, frame = cap.read()\n",
    "            if(ret==False):\n",
    "                break\n",
    "            # Recolor image to RGB\n",
    "            image = cv2.cvtColor(frame, cv2.COLOR_BGR2RGB)\n",
    "            image.flags.writeable = False\n",
    "\n",
    "            # Make detection\n",
    "            results = pose.process(image)\n",
    "\n",
    "            # Recolor back to BGR\n",
    "            image.flags.writeable = True\n",
    "            image = cv2.cvtColor(image, cv2.COLOR_RGB2BGR)\n",
    "\n",
    "            # Extract landmarks\n",
    "            try:\n",
    "                landmarks = results.pose_landmarks.landmark\n",
    "                target=extract_target(path)\n",
    "                collect_data(landmarks,data,target)\n",
    "\n",
    "\n",
    "            except:\n",
    "                print(\"Error\")\n",
    "                pass\n",
    "\n",
    "\n",
    "            # Render detections\n",
    "            mp_drawing.draw_landmarks(image, results.pose_landmarks, mp_pose.POSE_CONNECTIONS,\n",
    "                                    mp_drawing.DrawingSpec(color=(245,117,66), thickness=2, circle_radius=2), \n",
    "                                    mp_drawing.DrawingSpec(color=(245,66,230), thickness=2, circle_radius=2) \n",
    "                                     )               \n",
    "\n",
    "#             cv2.imshow('Mediapipe Feed', image)\n",
    "\n",
    "            if cv2.waitKey(100) & 0xFF == ord('q'):\n",
    "                break\n",
    "\n",
    "        cap.release()\n",
    "        cv2.destroyAllWindows()"
   ]
  },
  {
   "cell_type": "code",
   "execution_count": 11,
   "metadata": {},
   "outputs": [
    {
     "data": {
      "text/plain": [
       "1031"
      ]
     },
     "execution_count": 11,
     "metadata": {},
     "output_type": "execute_result"
    }
   ],
   "source": [
    "len(filepaths)"
   ]
  },
  {
   "cell_type": "code",
   "execution_count": 16,
   "metadata": {},
   "outputs": [
    {
     "name": "stderr",
     "output_type": "stream",
     "text": [
      "  1%|▊                                                                               | 10/1031 [00:05<08:29,  2.00it/s]"
     ]
    },
    {
     "name": "stdout",
     "output_type": "stream",
     "text": [
      "Error\n",
      "Error\n",
      "Error\n",
      "Error\n",
      "Error\n",
      "Error\n",
      "Error\n",
      "Error\n",
      "Error\n",
      "Error\n",
      "Error\n",
      "Error\n"
     ]
    },
    {
     "name": "stderr",
     "output_type": "stream",
     "text": [
      "  1%|█                                                                               | 14/1031 [00:23<37:40,  2.22s/it]"
     ]
    },
    {
     "name": "stdout",
     "output_type": "stream",
     "text": [
      "Error\n",
      "Error\n",
      "Error\n",
      "Error\n",
      "Error\n",
      "Error\n",
      "Error\n",
      "Error\n",
      "Error\n",
      "Error\n",
      "Error\n",
      "Error\n",
      "Error\n",
      "Error\n",
      "Error\n",
      "Error\n",
      "Error\n",
      "Error\n",
      "Error\n",
      "Error\n",
      "Error\n",
      "Error\n",
      "Error\n",
      "Error\n",
      "Error\n",
      "Error\n",
      "Error\n",
      "Error\n"
     ]
    },
    {
     "name": "stderr",
     "output_type": "stream",
     "text": [
      "  4%|███▏                                                                            | 41/1031 [01:10<07:48,  2.11it/s]"
     ]
    },
    {
     "name": "stdout",
     "output_type": "stream",
     "text": [
      "Error\n",
      "Error\n",
      "Error\n",
      "Error\n",
      "Error\n",
      "Error\n",
      "Error\n"
     ]
    },
    {
     "name": "stderr",
     "output_type": "stream",
     "text": [
      "  4%|███▍                                                                            | 45/1031 [01:24<28:00,  1.70s/it]"
     ]
    },
    {
     "name": "stdout",
     "output_type": "stream",
     "text": [
      "Error\n",
      "Error\n",
      "Error\n",
      "Error\n",
      "Error\n",
      "Error\n",
      "Error\n"
     ]
    },
    {
     "name": "stderr",
     "output_type": "stream",
     "text": [
      "  8%|██████                                                                          | 78/1031 [01:52<08:07,  1.95it/s]"
     ]
    },
    {
     "name": "stdout",
     "output_type": "stream",
     "text": [
      "Error\n"
     ]
    },
    {
     "name": "stderr",
     "output_type": "stream",
     "text": [
      "\r",
      "  8%|██████▏                                                                         | 79/1031 [01:53<07:54,  2.01it/s]"
     ]
    },
    {
     "name": "stdout",
     "output_type": "stream",
     "text": [
      "Error\n"
     ]
    },
    {
     "name": "stderr",
     "output_type": "stream",
     "text": [
      "  8%|██████▎                                                                         | 82/1031 [01:54<07:49,  2.02it/s]"
     ]
    },
    {
     "name": "stdout",
     "output_type": "stream",
     "text": [
      "Error\n"
     ]
    },
    {
     "name": "stderr",
     "output_type": "stream",
     "text": [
      "  8%|██████▊                                                                         | 87/1031 [01:57<08:19,  1.89it/s]"
     ]
    },
    {
     "name": "stdout",
     "output_type": "stream",
     "text": [
      "Error\n"
     ]
    },
    {
     "name": "stderr",
     "output_type": "stream",
     "text": [
      " 10%|███████▉                                                                       | 103/1031 [02:05<07:33,  2.04it/s]"
     ]
    },
    {
     "name": "stdout",
     "output_type": "stream",
     "text": [
      "Error\n"
     ]
    },
    {
     "name": "stderr",
     "output_type": "stream",
     "text": [
      " 11%|████████▍                                                                      | 110/1031 [02:09<07:45,  1.98it/s]"
     ]
    },
    {
     "name": "stdout",
     "output_type": "stream",
     "text": [
      "Error\n"
     ]
    },
    {
     "name": "stderr",
     "output_type": "stream",
     "text": [
      " 12%|█████████▋                                                                     | 127/1031 [02:17<06:54,  2.18it/s]"
     ]
    },
    {
     "name": "stdout",
     "output_type": "stream",
     "text": [
      "Error\n"
     ]
    },
    {
     "name": "stderr",
     "output_type": "stream",
     "text": [
      " 13%|█████████▉                                                                     | 130/1031 [02:19<06:45,  2.22it/s]"
     ]
    },
    {
     "name": "stdout",
     "output_type": "stream",
     "text": [
      "Error\n"
     ]
    },
    {
     "name": "stderr",
     "output_type": "stream",
     "text": [
      "\r",
      " 13%|██████████                                                                     | 131/1031 [02:19<06:45,  2.22it/s]"
     ]
    },
    {
     "name": "stdout",
     "output_type": "stream",
     "text": [
      "Error\n"
     ]
    },
    {
     "name": "stderr",
     "output_type": "stream",
     "text": [
      " 13%|██████████▎                                                                    | 134/1031 [02:21<07:14,  2.06it/s]"
     ]
    },
    {
     "name": "stdout",
     "output_type": "stream",
     "text": [
      "Error\n",
      "Error\n",
      "Error\n",
      "Error\n",
      "Error\n",
      "Error\n",
      "Error\n",
      "Error\n",
      "Error\n",
      "Error\n",
      "Error\n",
      "Error\n",
      "Error\n",
      "Error\n",
      "Error\n",
      "Error\n",
      "Error\n",
      "Error\n",
      "Error\n",
      "Error\n",
      "Error\n",
      "Error\n",
      "Error\n",
      "Error\n",
      "Error\n"
     ]
    },
    {
     "name": "stderr",
     "output_type": "stream",
     "text": [
      " 13%|██████████▏                                                                  | 137/1031 [02:53<1:14:23,  4.99s/it]"
     ]
    },
    {
     "name": "stdout",
     "output_type": "stream",
     "text": [
      "Error\n",
      "Error\n",
      "Error\n",
      "Error\n",
      "Error\n",
      "Error\n",
      "Error\n",
      "Error\n",
      "Error\n",
      "Error\n",
      "Error\n",
      "Error\n",
      "Error\n",
      "Error\n",
      "Error\n",
      "Error\n",
      "Error\n",
      "Error\n",
      "Error\n",
      "Error\n",
      "Error\n",
      "Error\n",
      "Error\n",
      "Error\n"
     ]
    },
    {
     "name": "stderr",
     "output_type": "stream",
     "text": [
      " 16%|████████████▎                                                                  | 161/1031 [03:35<07:04,  2.05it/s]"
     ]
    },
    {
     "name": "stdout",
     "output_type": "stream",
     "text": [
      "Error\n",
      "Error\n",
      "Error\n",
      "Error\n",
      "Error\n",
      "Error\n",
      "Error\n",
      "Error\n",
      "Error\n",
      "Error\n",
      "Error\n",
      "Error\n",
      "Error\n",
      "Error\n",
      "Error\n",
      "Error\n",
      "Error\n",
      "Error\n",
      "Error\n",
      "Error\n"
     ]
    },
    {
     "name": "stderr",
     "output_type": "stream",
     "text": [
      " 16%|█████████████                                                                  | 170/1031 [04:06<13:29,  1.06it/s]"
     ]
    },
    {
     "name": "stdout",
     "output_type": "stream",
     "text": [
      "Error\n"
     ]
    },
    {
     "name": "stderr",
     "output_type": "stream",
     "text": [
      " 18%|██████████████▏                                                                | 185/1031 [04:14<08:08,  1.73it/s]"
     ]
    },
    {
     "name": "stdout",
     "output_type": "stream",
     "text": [
      "Error\n",
      "Error\n",
      "Error\n",
      "Error\n",
      "Error\n",
      "Error\n",
      "Error\n",
      "Error\n",
      "Error\n",
      "Error\n",
      "Error\n",
      "Error\n",
      "Error\n",
      "Error\n",
      "Error\n",
      "Error\n",
      "Error\n",
      "Error\n"
     ]
    },
    {
     "name": "stderr",
     "output_type": "stream",
     "text": [
      " 19%|███████████████                                                                | 196/1031 [04:45<10:01,  1.39it/s]"
     ]
    },
    {
     "name": "stdout",
     "output_type": "stream",
     "text": [
      "Error\n"
     ]
    },
    {
     "name": "stderr",
     "output_type": "stream",
     "text": [
      " 20%|████████████████                                                               | 210/1031 [04:52<07:26,  1.84it/s]"
     ]
    },
    {
     "name": "stdout",
     "output_type": "stream",
     "text": [
      "Error\n",
      "Error\n"
     ]
    },
    {
     "name": "stderr",
     "output_type": "stream",
     "text": [
      " 22%|█████████████████▍                                                             | 228/1031 [05:05<06:50,  1.96it/s]"
     ]
    },
    {
     "name": "stdout",
     "output_type": "stream",
     "text": [
      "Error\n"
     ]
    },
    {
     "name": "stderr",
     "output_type": "stream",
     "text": [
      " 24%|███████████████████▏                                                           | 250/1031 [05:17<06:20,  2.05it/s]"
     ]
    },
    {
     "name": "stdout",
     "output_type": "stream",
     "text": [
      "Error\n",
      "Error\n",
      "Error\n",
      "Error\n",
      "Error\n",
      "Error\n",
      "Error\n",
      "Error\n",
      "Error\n",
      "Error\n",
      "Error\n",
      "Error\n",
      "Error\n",
      "Error\n",
      "Error\n",
      "Error\n",
      "Error\n",
      "Error\n",
      "Error\n",
      "Error\n",
      "Error\n",
      "Error\n",
      "Error\n",
      "Error\n",
      "Error\n",
      "Error\n",
      "Error\n",
      "Error\n",
      "Error\n",
      "Error\n",
      "Error\n",
      "Error\n"
     ]
    },
    {
     "name": "stderr",
     "output_type": "stream",
     "text": [
      " 26%|████████████████████▏                                                          | 264/1031 [06:16<07:59,  1.60it/s]"
     ]
    },
    {
     "name": "stdout",
     "output_type": "stream",
     "text": [
      "Error\n"
     ]
    },
    {
     "name": "stderr",
     "output_type": "stream",
     "text": [
      " 30%|███████████████████████▌                                                       | 308/1031 [06:48<08:54,  1.35it/s]"
     ]
    },
    {
     "name": "stdout",
     "output_type": "stream",
     "text": [
      "Error\n"
     ]
    },
    {
     "name": "stderr",
     "output_type": "stream",
     "text": [
      " 31%|████████████████████████▋                                                      | 323/1031 [06:59<07:23,  1.60it/s]"
     ]
    },
    {
     "name": "stdout",
     "output_type": "stream",
     "text": [
      "Error\n",
      "Error\n",
      "Error\n",
      "Error\n",
      "Error\n",
      "Error\n",
      "Error\n",
      "Error\n",
      "Error\n",
      "Error\n",
      "Error\n",
      "Error\n",
      "Error\n",
      "Error\n",
      "Error\n",
      "Error\n",
      "Error\n",
      "Error\n",
      "Error\n",
      "Error\n",
      "Error\n",
      "Error\n",
      "Error\n",
      "Error\n",
      "Error\n"
     ]
    },
    {
     "name": "stderr",
     "output_type": "stream",
     "text": [
      " 32%|████████████████████████▎                                                    | 325/1031 [07:43<1:52:42,  9.58s/it]"
     ]
    },
    {
     "name": "stdout",
     "output_type": "stream",
     "text": [
      "Error\n"
     ]
    },
    {
     "name": "stderr",
     "output_type": "stream",
     "text": [
      " 32%|█████████████████████████▎                                                     | 331/1031 [07:47<19:28,  1.67s/it]"
     ]
    },
    {
     "name": "stdout",
     "output_type": "stream",
     "text": [
      "Error\n"
     ]
    },
    {
     "name": "stderr",
     "output_type": "stream",
     "text": [
      " 34%|██████████████████████████▌                                                    | 346/1031 [07:55<06:11,  1.84it/s]"
     ]
    },
    {
     "name": "stdout",
     "output_type": "stream",
     "text": [
      "Error\n"
     ]
    },
    {
     "name": "stderr",
     "output_type": "stream",
     "text": [
      " 34%|██████████████████████████▋                                                    | 348/1031 [07:56<05:54,  1.92it/s]"
     ]
    },
    {
     "name": "stdout",
     "output_type": "stream",
     "text": [
      "Error\n"
     ]
    },
    {
     "name": "stderr",
     "output_type": "stream",
     "text": [
      " 34%|███████████████████████████▏                                                   | 354/1031 [08:00<05:52,  1.92it/s]"
     ]
    },
    {
     "name": "stdout",
     "output_type": "stream",
     "text": [
      "Error\n"
     ]
    },
    {
     "name": "stderr",
     "output_type": "stream",
     "text": [
      " 35%|███████████████████████████▍                                                   | 358/1031 [08:03<08:20,  1.35it/s]"
     ]
    },
    {
     "name": "stdout",
     "output_type": "stream",
     "text": [
      "Error\n"
     ]
    },
    {
     "name": "stderr",
     "output_type": "stream",
     "text": [
      " 35%|███████████████████████████▋                                                   | 362/1031 [08:05<06:00,  1.86it/s]"
     ]
    },
    {
     "name": "stdout",
     "output_type": "stream",
     "text": [
      "Error\n"
     ]
    },
    {
     "name": "stderr",
     "output_type": "stream",
     "text": [
      " 36%|████████████████████████████▌                                                  | 373/1031 [08:10<05:20,  2.05it/s]"
     ]
    },
    {
     "name": "stdout",
     "output_type": "stream",
     "text": [
      "Error\n",
      "Error\n",
      "Error\n",
      "Error\n",
      "Error\n",
      "Error\n",
      "Error\n",
      "Error\n",
      "Error\n",
      "Error\n",
      "Error\n",
      "Error\n",
      "Error\n",
      "Error\n",
      "Error\n",
      "Error\n",
      "Error\n",
      "Error\n"
     ]
    },
    {
     "name": "stderr",
     "output_type": "stream",
     "text": [
      " 37%|█████████████████████████████▌                                                 | 386/1031 [08:55<10:10,  1.06it/s]"
     ]
    },
    {
     "name": "stdout",
     "output_type": "stream",
     "text": [
      "Error\n"
     ]
    },
    {
     "name": "stderr",
     "output_type": "stream",
     "text": [
      " 39%|███████████████████████████████                                                | 405/1031 [09:05<05:16,  1.98it/s]"
     ]
    },
    {
     "name": "stdout",
     "output_type": "stream",
     "text": [
      "Error\n"
     ]
    },
    {
     "name": "stderr",
     "output_type": "stream",
     "text": [
      " 41%|████████████████████████████████▏                                              | 420/1031 [09:13<04:59,  2.04it/s]"
     ]
    },
    {
     "name": "stdout",
     "output_type": "stream",
     "text": [
      "Error\n",
      "Error\n",
      "Error\n",
      "Error\n",
      "Error\n",
      "Error\n",
      "Error\n",
      "Error\n",
      "Error\n",
      "Error\n",
      "Error\n",
      "Error\n",
      "Error\n",
      "Error\n"
     ]
    },
    {
     "name": "stderr",
     "output_type": "stream",
     "text": [
      " 42%|█████████████████████████████████▍                                             | 437/1031 [09:50<07:37,  1.30it/s]"
     ]
    },
    {
     "name": "stdout",
     "output_type": "stream",
     "text": [
      "Error\n"
     ]
    },
    {
     "name": "stderr",
     "output_type": "stream",
     "text": [
      " 46%|████████████████████████████████████▍                                          | 475/1031 [10:19<05:23,  1.72it/s]"
     ]
    },
    {
     "name": "stdout",
     "output_type": "stream",
     "text": [
      "Error\n",
      "Error\n",
      "Error\n",
      "Error\n",
      "Error\n",
      "Error\n",
      "Error\n",
      "Error\n",
      "Error\n",
      "Error\n"
     ]
    },
    {
     "name": "stderr",
     "output_type": "stream",
     "text": [
      " 47%|█████████████████████████████████████▏                                         | 485/1031 [10:41<07:11,  1.27it/s]"
     ]
    },
    {
     "name": "stdout",
     "output_type": "stream",
     "text": [
      "Error\n",
      "Error\n",
      "Error\n",
      "Error\n",
      "Error\n",
      "Error\n",
      "Error\n",
      "Error\n"
     ]
    },
    {
     "name": "stderr",
     "output_type": "stream",
     "text": [
      " 49%|██████████████████████████████████████▉                                        | 508/1031 [11:08<04:06,  2.12it/s]"
     ]
    },
    {
     "name": "stdout",
     "output_type": "stream",
     "text": [
      "Error\n"
     ]
    },
    {
     "name": "stderr",
     "output_type": "stream",
     "text": [
      " 50%|███████████████████████████████████████▋                                       | 518/1031 [11:13<04:18,  1.99it/s]"
     ]
    },
    {
     "name": "stdout",
     "output_type": "stream",
     "text": [
      "Error\n"
     ]
    },
    {
     "name": "stderr",
     "output_type": "stream",
     "text": [
      " 51%|███████████████████████████████████████▉                                       | 522/1031 [11:15<04:05,  2.08it/s]"
     ]
    },
    {
     "name": "stdout",
     "output_type": "stream",
     "text": [
      "Error\n",
      "Error\n",
      "Error\n",
      "Error\n"
     ]
    },
    {
     "name": "stderr",
     "output_type": "stream",
     "text": [
      " 51%|████████████████████████████████████████▏                                      | 525/1031 [11:25<14:29,  1.72s/it]"
     ]
    },
    {
     "name": "stdout",
     "output_type": "stream",
     "text": [
      "Error\n"
     ]
    },
    {
     "name": "stderr",
     "output_type": "stream",
     "text": [
      " 52%|████████████████████████████████████████▉                                      | 534/1031 [11:29<04:28,  1.85it/s]"
     ]
    },
    {
     "name": "stdout",
     "output_type": "stream",
     "text": [
      "Error\n"
     ]
    },
    {
     "name": "stderr",
     "output_type": "stream",
     "text": [
      " 53%|██████████████████████████████████████████                                     | 549/1031 [11:40<05:37,  1.43it/s]"
     ]
    },
    {
     "name": "stdout",
     "output_type": "stream",
     "text": [
      "Error\n"
     ]
    },
    {
     "name": "stderr",
     "output_type": "stream",
     "text": [
      " 56%|███████████████████████████████████████████▉                                   | 574/1031 [12:03<05:39,  1.35it/s]"
     ]
    },
    {
     "name": "stdout",
     "output_type": "stream",
     "text": [
      "Error\n"
     ]
    },
    {
     "name": "stderr",
     "output_type": "stream",
     "text": [
      " 56%|████████████████████████████████████████████▍                                  | 580/1031 [12:08<05:32,  1.36it/s]"
     ]
    },
    {
     "name": "stdout",
     "output_type": "stream",
     "text": [
      "Error\n"
     ]
    },
    {
     "name": "stderr",
     "output_type": "stream",
     "text": [
      " 60%|███████████████████████████████████████████████▏                               | 616/1031 [12:36<03:46,  1.84it/s]"
     ]
    },
    {
     "name": "stdout",
     "output_type": "stream",
     "text": [
      "Error\n"
     ]
    },
    {
     "name": "stderr",
     "output_type": "stream",
     "text": [
      " 62%|█████████████████████████████████████████████████▎                             | 644/1031 [12:56<06:36,  1.02s/it]"
     ]
    },
    {
     "name": "stdout",
     "output_type": "stream",
     "text": [
      "Error\n"
     ]
    },
    {
     "name": "stderr",
     "output_type": "stream",
     "text": [
      " 65%|███████████████████████████████████████████████████▏                           | 668/1031 [13:10<03:46,  1.60it/s]"
     ]
    },
    {
     "name": "stdout",
     "output_type": "stream",
     "text": [
      "Error\n"
     ]
    },
    {
     "name": "stderr",
     "output_type": "stream",
     "text": [
      " 69%|██████████████████████████████████████████████████████▍                        | 710/1031 [13:33<02:58,  1.80it/s]"
     ]
    },
    {
     "name": "stdout",
     "output_type": "stream",
     "text": [
      "Error\n"
     ]
    },
    {
     "name": "stderr",
     "output_type": "stream",
     "text": [
      " 74%|██████████████████████████████████████████████████████████▊                    | 768/1031 [14:23<02:12,  1.98it/s]"
     ]
    },
    {
     "name": "stdout",
     "output_type": "stream",
     "text": [
      "Error\n"
     ]
    },
    {
     "name": "stderr",
     "output_type": "stream",
     "text": [
      " 84%|██████████████████████████████████████████████████████████████████▌            | 868/1031 [15:30<01:51,  1.47it/s]"
     ]
    },
    {
     "name": "stdout",
     "output_type": "stream",
     "text": [
      "Error\n"
     ]
    },
    {
     "name": "stderr",
     "output_type": "stream",
     "text": [
      " 85%|███████████████████████████████████████████████████████████████████            | 875/1031 [15:35<01:51,  1.40it/s]"
     ]
    },
    {
     "name": "stdout",
     "output_type": "stream",
     "text": [
      "Error\n"
     ]
    },
    {
     "name": "stderr",
     "output_type": "stream",
     "text": [
      " 91%|███████████████████████████████████████████████████████████████████████▌       | 934/1031 [16:18<00:50,  1.91it/s]"
     ]
    },
    {
     "name": "stdout",
     "output_type": "stream",
     "text": [
      "Error\n"
     ]
    },
    {
     "name": "stderr",
     "output_type": "stream",
     "text": [
      "\r",
      " 91%|███████████████████████████████████████████████████████████████████████▋       | 935/1031 [16:18<00:47,  2.01it/s]"
     ]
    },
    {
     "name": "stdout",
     "output_type": "stream",
     "text": [
      "Error\n"
     ]
    },
    {
     "name": "stderr",
     "output_type": "stream",
     "text": [
      " 91%|████████████████████████████████████████████████████████████████████████▏      | 942/1031 [16:22<00:58,  1.53it/s]"
     ]
    },
    {
     "name": "stdout",
     "output_type": "stream",
     "text": [
      "Error\n",
      "Error\n",
      "Error\n",
      "Error\n",
      "Error\n",
      "Error\n",
      "Error\n",
      "Error\n",
      "Error\n",
      "Error\n",
      "Error\n",
      "Error\n",
      "Error\n",
      "Error\n",
      "Error\n"
     ]
    },
    {
     "name": "stderr",
     "output_type": "stream",
     "text": [
      " 93%|█████████████████████████████████████████████████████████████████████████      | 954/1031 [16:59<00:54,  1.42it/s]"
     ]
    },
    {
     "name": "stdout",
     "output_type": "stream",
     "text": [
      "Error\n"
     ]
    },
    {
     "name": "stderr",
     "output_type": "stream",
     "text": [
      " 94%|██████████████████████████████████████████████████████████████████████████     | 966/1031 [17:05<00:34,  1.89it/s]"
     ]
    },
    {
     "name": "stdout",
     "output_type": "stream",
     "text": [
      "Error\n",
      "Error\n",
      "Error\n",
      "Error\n",
      "Error\n",
      "Error\n",
      "Error\n",
      "Error\n",
      "Error\n",
      "Error\n",
      "Error\n",
      "Error\n",
      "Error\n",
      "Error\n"
     ]
    },
    {
     "name": "stderr",
     "output_type": "stream",
     "text": [
      " 95%|███████████████████████████████████████████████████████████████████████████▏   | 982/1031 [17:38<00:25,  1.95it/s]"
     ]
    },
    {
     "name": "stdout",
     "output_type": "stream",
     "text": [
      "Error\n"
     ]
    },
    {
     "name": "stderr",
     "output_type": "stream",
     "text": [
      " 96%|███████████████████████████████████████████████████████████████████████████▉   | 991/1031 [17:44<00:31,  1.26it/s]"
     ]
    },
    {
     "name": "stdout",
     "output_type": "stream",
     "text": [
      "Error\n"
     ]
    },
    {
     "name": "stderr",
     "output_type": "stream",
     "text": [
      " 99%|█████████████████████████████████████████████████████████████████████████████▏| 1021/1031 [18:09<00:06,  1.49it/s]"
     ]
    },
    {
     "name": "stdout",
     "output_type": "stream",
     "text": [
      "Error\n",
      "Error\n",
      "Error\n",
      "Error\n",
      "Error\n",
      "Error\n",
      "Error\n",
      "Error\n"
     ]
    },
    {
     "name": "stderr",
     "output_type": "stream",
     "text": [
      " 99%|█████████████████████████████████████████████████████████████████████████████▍| 1024/1031 [18:28<00:22,  3.16s/it]"
     ]
    },
    {
     "name": "stdout",
     "output_type": "stream",
     "text": [
      "Error\n"
     ]
    },
    {
     "name": "stderr",
     "output_type": "stream",
     "text": [
      "100%|██████████████████████████████████████████████████████████████████████████████| 1031/1031 [18:32<00:00,  1.08s/it]\n"
     ]
    }
   ],
   "source": [
    "for i in tqdm(range(len(filepaths))):\n",
    "    path=filepaths[i]\n",
    "    extract_datapoints(path)"
   ]
  },
  {
   "cell_type": "code",
   "execution_count": 17,
   "metadata": {},
   "outputs": [
    {
     "name": "stdout",
     "output_type": "stream",
     "text": [
      "3277\n"
     ]
    }
   ],
   "source": [
    "print(len(data))"
   ]
  },
  {
   "cell_type": "code",
   "execution_count": 21,
   "metadata": {},
   "outputs": [
    {
     "data": {
      "text/plain": [
       "Utkatasana            1387\n",
       "Adhomukhasvanasana    1111\n",
       "Virabhadrasana         519\n",
       "Utkatakonasana         260\n",
       "Name: target, dtype: int64"
      ]
     },
     "execution_count": 21,
     "metadata": {},
     "output_type": "execute_result"
    }
   ],
   "source": [
    "df=pd.DataFrame(data=data,columns=columns)\n",
    "df.target.value_counts()"
   ]
  },
  {
   "cell_type": "code",
   "execution_count": 22,
   "metadata": {},
   "outputs": [],
   "source": [
    "df.to_csv(\"test_data.csv\")"
   ]
  },
  {
   "cell_type": "code",
   "execution_count": 23,
   "metadata": {},
   "outputs": [
    {
     "name": "stdout",
     "output_type": "stream",
     "text": [
      "1.4464678940402966\n"
     ]
    }
   ],
   "source": [
    "def calculate_angle(A,B):\n",
    "    unit_A=A/np.linalg.norm(A)\n",
    "    unit_B=B/np.linalg.norm(B)\n",
    "\n",
    "    return np.arccos(np.dot(unit_A,unit_B))\n",
    "\n",
    "print(calculate_angle([-48.5,0,-1],[-1,-8,0]))\n",
    "\n",
    "\n",
    "def joint_angle(df):\n",
    "    chest_vector=np.transpose(np.array([df['LEFT_SHOULDER_x']-df['RIGHT_SHOULDER_x'],df['LEFT_SHOULDER_y']-df['RIGHT_SHOULDER_y'],df['LEFT_SHOULDER_z']-df['RIGHT_SHOULDER_z']]))\n",
    "    left_upper_arm_vector=np.transpose(np.array([df['LEFT_ELBOW_x']-df['LEFT_SHOULDER_x'],df['LEFT_ELBOW_y']-df['LEFT_SHOULDER_y'],df['LEFT_ELBOW_z']-df['LEFT_SHOULDER_z']]))\n",
    "    right_upper_arm_vector=np.transpose(np.array([df['RIGHT_ELBOW_x']-df['RIGHT_SHOULDER_x'],df['RIGHT_ELBOW_y']-df['RIGHT_SHOULDER_y'],df['RIGHT_ELBOW_z']-df['RIGHT_SHOULDER_z']]))\n",
    "    left_lower_arm_vector=np.transpose(np.array([df['LEFT_WRIST_x']-df['LEFT_ELBOW_x'],df['LEFT_WRIST_y']-df['LEFT_ELBOW_y'],df['LEFT_WRIST_z']-df['LEFT_ELBOW_z']]))\n",
    "    right_lower_arm_vector=np.transpose(np.array([df['RIGHT_WRIST_x']-df['RIGHT_ELBOW_x'],df['RIGHT_WRIST_y']-df['RIGHT_ELBOW_y'],df['RIGHT_WRIST_z']-df['RIGHT_ELBOW_z']]))\n",
    "    lowerbody_vector=np.transpose(np.array([df['LEFT_HIP_x']-df['RIGHT_HIP_x'],df['LEFT_HIP_y']-df['RIGHT_HIP_y'],df['LEFT_HIP_z']-df['RIGHT_HIP_z']]))\n",
    "    left_upper_foot_vector=np.transpose(np.array([df['LEFT_KNEE_x']-df['LEFT_HIP_x'],df['LEFT_KNEE_y']-df['LEFT_HIP_y'],df['LEFT_KNEE_z']-df['LEFT_HIP_z']]))\n",
    "    right_upper_foot_vector=np.transpose(np.array([df['RIGHT_KNEE_x']-df['RIGHT_HIP_x'],df['RIGHT_KNEE_y']-df['RIGHT_HIP_y'],df['RIGHT_KNEE_z']-df['RIGHT_HIP_z']]))\n",
    "    left_lower_foot_vector=np.transpose(np.array([df['LEFT_ANKLE_x']-df['LEFT_KNEE_x'],df['LEFT_ANKLE_y']-df['LEFT_KNEE_y'],df['LEFT_ANKLE_z']-df['LEFT_KNEE_z']]))\n",
    "    right_lower_foot_vector=np.transpose(np.array([df['RIGHT_ANKLE_x']-df['RIGHT_KNEE_x'],df['RIGHT_ANKLE_y']-df['RIGHT_KNEE_y'],df['RIGHT_ANKLE_z']-df['RIGHT_KNEE_z']]))\n",
    "    mouth_vector=np.transpose(np.array([df['MOUTH_LEFT_x']-df['MOUTH_RIGHT_x'],df['MOUTH_LEFT_y']-df['MOUTH_RIGHT_y'],df['MOUTH_LEFT_z']-df['MOUTH_RIGHT_z']]))\n",
    "    \n",
    "    \n",
    "    df['head_angle']=([calculate_angle(mouth_vector[i],(chest_vector[i])) for i in range(len(mouth_vector))])\n",
    "    df['left_shoulder_angle']=([calculate_angle(chest_vector[i],(left_upper_arm_vector[i])) for i in range(len(chest_vector))])\n",
    "    df['right_shoulder_angle']=([calculate_angle(chest_vector[i],(right_upper_arm_vector[i])) for i in range(len(chest_vector))])\n",
    "    df['left_elbow_angle']=([calculate_angle(left_upper_arm_vector[i],(left_lower_arm_vector[i])) for i in range(len(left_upper_arm_vector))])\n",
    "    df['right_elbow_angle']=([calculate_angle(right_upper_arm_vector[i],(right_lower_arm_vector[i])) for i in range(len(right_upper_arm_vector))])\n",
    "    df['body_angle']=([calculate_angle(chest_vector[i],(lowerbody_vector[i])) for i in range(len(chest_vector))])\n",
    "    df['left_upper_leg_angle']=([calculate_angle(lowerbody_vector[i],(left_upper_foot_vector[i])) for i in range(len(lowerbody_vector))])\n",
    "    df['right_upper_leg_angle']=([calculate_angle(lowerbody_vector[i],(right_upper_foot_vector[i]))for i in range(len(lowerbody_vector))])\n",
    "    df['left_lower_leg_angle']=([calculate_angle(left_upper_foot_vector[i],(left_lower_foot_vector[i])) for i in range(len(left_upper_foot_vector))])\n",
    "    df['right_lower_leg_angle']=([calculate_angle(right_upper_foot_vector[i],(right_lower_foot_vector[i])) for i in range(len(right_upper_foot_vector))])\n",
    "    df['body_angle_two']=([calculate_angle(mouth_vector[i],(lowerbody_vector[i])) for i in range(len(lowerbody_vector))])"
   ]
  },
  {
   "cell_type": "code",
   "execution_count": 24,
   "metadata": {},
   "outputs": [],
   "source": [
    "joint_angle(df)"
   ]
  },
  {
   "cell_type": "code",
   "execution_count": 25,
   "metadata": {},
   "outputs": [],
   "source": [
    "df.to_csv('new_test_dataset.csv')"
   ]
  },
  {
   "cell_type": "code",
   "execution_count": 26,
   "metadata": {},
   "outputs": [],
   "source": [
    "df1=pd.read_csv(\"new_final_test_dataset.csv\")"
   ]
  },
  {
   "cell_type": "code",
   "execution_count": 27,
   "metadata": {},
   "outputs": [],
   "source": [
    "df=df.append(df1)"
   ]
  },
  {
   "cell_type": "code",
   "execution_count": 28,
   "metadata": {},
   "outputs": [
    {
     "name": "stdout",
     "output_type": "stream",
     "text": [
      "<class 'pandas.core.frame.DataFrame'>\n",
      "Int64Index: 8970 entries, 0 to 5692\n",
      "Columns: 145 entries, NOSE_x to Unnamed: 0\n",
      "dtypes: float64(144), object(1)\n",
      "memory usage: 10.0+ MB\n"
     ]
    }
   ],
   "source": [
    "df.info()"
   ]
  },
  {
   "cell_type": "code",
   "execution_count": 29,
   "metadata": {},
   "outputs": [],
   "source": [
    "df.drop(\"Unnamed: 0\",axis=1,inplace=True)\n",
    "df = df.sample(frac=1).reset_index(drop=True)"
   ]
  },
  {
   "cell_type": "code",
   "execution_count": 30,
   "metadata": {},
   "outputs": [
    {
     "data": {
      "text/html": [
       "<div>\n",
       "<style scoped>\n",
       "    .dataframe tbody tr th:only-of-type {\n",
       "        vertical-align: middle;\n",
       "    }\n",
       "\n",
       "    .dataframe tbody tr th {\n",
       "        vertical-align: top;\n",
       "    }\n",
       "\n",
       "    .dataframe thead th {\n",
       "        text-align: right;\n",
       "    }\n",
       "</style>\n",
       "<table border=\"1\" class=\"dataframe\">\n",
       "  <thead>\n",
       "    <tr style=\"text-align: right;\">\n",
       "      <th></th>\n",
       "      <th>NOSE_x</th>\n",
       "      <th>NOSE_y</th>\n",
       "      <th>NOSE_z</th>\n",
       "      <th>NOSE_visiblity</th>\n",
       "      <th>LEFT_EYE_INNER_x</th>\n",
       "      <th>LEFT_EYE_INNER_y</th>\n",
       "      <th>LEFT_EYE_INNER_z</th>\n",
       "      <th>LEFT_EYE_INNER_visiblity</th>\n",
       "      <th>LEFT_EYE_x</th>\n",
       "      <th>LEFT_EYE_y</th>\n",
       "      <th>...</th>\n",
       "      <th>left_shoulder_angle</th>\n",
       "      <th>right_shoulder_angle</th>\n",
       "      <th>left_elbow_angle</th>\n",
       "      <th>right_elbow_angle</th>\n",
       "      <th>body_angle</th>\n",
       "      <th>left_upper_leg_angle</th>\n",
       "      <th>right_upper_leg_angle</th>\n",
       "      <th>left_lower_leg_angle</th>\n",
       "      <th>right_lower_leg_angle</th>\n",
       "      <th>body_angle_two</th>\n",
       "    </tr>\n",
       "  </thead>\n",
       "  <tbody>\n",
       "    <tr>\n",
       "      <th>0</th>\n",
       "      <td>0.473099</td>\n",
       "      <td>0.595317</td>\n",
       "      <td>-0.009801</td>\n",
       "      <td>0.922177</td>\n",
       "      <td>0.490432</td>\n",
       "      <td>0.600864</td>\n",
       "      <td>-0.007595</td>\n",
       "      <td>0.934002</td>\n",
       "      <td>0.493764</td>\n",
       "      <td>0.598184</td>\n",
       "      <td>...</td>\n",
       "      <td>0.724510</td>\n",
       "      <td>2.516352</td>\n",
       "      <td>2.100608</td>\n",
       "      <td>1.103965</td>\n",
       "      <td>0.144138</td>\n",
       "      <td>0.960215</td>\n",
       "      <td>0.888722</td>\n",
       "      <td>0.295348</td>\n",
       "      <td>0.134367</td>\n",
       "      <td>0.077798</td>\n",
       "    </tr>\n",
       "    <tr>\n",
       "      <th>1</th>\n",
       "      <td>0.664260</td>\n",
       "      <td>0.537223</td>\n",
       "      <td>-0.471522</td>\n",
       "      <td>0.999998</td>\n",
       "      <td>0.672377</td>\n",
       "      <td>0.547067</td>\n",
       "      <td>-0.459567</td>\n",
       "      <td>0.999988</td>\n",
       "      <td>0.672516</td>\n",
       "      <td>0.554884</td>\n",
       "      <td>...</td>\n",
       "      <td>0.449666</td>\n",
       "      <td>3.120502</td>\n",
       "      <td>0.441664</td>\n",
       "      <td>0.356036</td>\n",
       "      <td>0.858536</td>\n",
       "      <td>0.967306</td>\n",
       "      <td>1.348266</td>\n",
       "      <td>0.371630</td>\n",
       "      <td>1.186898</td>\n",
       "      <td>1.089743</td>\n",
       "    </tr>\n",
       "    <tr>\n",
       "      <th>2</th>\n",
       "      <td>0.331220</td>\n",
       "      <td>0.771069</td>\n",
       "      <td>-0.008224</td>\n",
       "      <td>0.999595</td>\n",
       "      <td>0.323003</td>\n",
       "      <td>0.784277</td>\n",
       "      <td>0.003158</td>\n",
       "      <td>0.999226</td>\n",
       "      <td>0.323031</td>\n",
       "      <td>0.785688</td>\n",
       "      <td>...</td>\n",
       "      <td>1.092879</td>\n",
       "      <td>2.219011</td>\n",
       "      <td>1.291582</td>\n",
       "      <td>0.422826</td>\n",
       "      <td>0.045016</td>\n",
       "      <td>1.592805</td>\n",
       "      <td>1.519895</td>\n",
       "      <td>0.515314</td>\n",
       "      <td>0.375610</td>\n",
       "      <td>0.049212</td>\n",
       "    </tr>\n",
       "    <tr>\n",
       "      <th>3</th>\n",
       "      <td>0.479461</td>\n",
       "      <td>0.287201</td>\n",
       "      <td>-0.062110</td>\n",
       "      <td>0.972384</td>\n",
       "      <td>0.496697</td>\n",
       "      <td>0.284109</td>\n",
       "      <td>-0.098756</td>\n",
       "      <td>0.975345</td>\n",
       "      <td>0.503260</td>\n",
       "      <td>0.285566</td>\n",
       "      <td>...</td>\n",
       "      <td>0.805322</td>\n",
       "      <td>2.060770</td>\n",
       "      <td>1.876034</td>\n",
       "      <td>0.972832</td>\n",
       "      <td>0.160541</td>\n",
       "      <td>1.731351</td>\n",
       "      <td>1.102815</td>\n",
       "      <td>0.513599</td>\n",
       "      <td>1.806225</td>\n",
       "      <td>0.019664</td>\n",
       "    </tr>\n",
       "    <tr>\n",
       "      <th>4</th>\n",
       "      <td>0.503709</td>\n",
       "      <td>0.228930</td>\n",
       "      <td>-0.170268</td>\n",
       "      <td>0.998973</td>\n",
       "      <td>0.507365</td>\n",
       "      <td>0.220386</td>\n",
       "      <td>-0.146364</td>\n",
       "      <td>0.998463</td>\n",
       "      <td>0.509803</td>\n",
       "      <td>0.220440</td>\n",
       "      <td>...</td>\n",
       "      <td>1.803341</td>\n",
       "      <td>2.128598</td>\n",
       "      <td>0.058726</td>\n",
       "      <td>0.385180</td>\n",
       "      <td>0.460579</td>\n",
       "      <td>1.578041</td>\n",
       "      <td>1.611779</td>\n",
       "      <td>0.669521</td>\n",
       "      <td>0.706863</td>\n",
       "      <td>0.343416</td>\n",
       "    </tr>\n",
       "  </tbody>\n",
       "</table>\n",
       "<p>5 rows × 144 columns</p>\n",
       "</div>"
      ],
      "text/plain": [
       "     NOSE_x    NOSE_y    NOSE_z  NOSE_visiblity  LEFT_EYE_INNER_x  \\\n",
       "0  0.473099  0.595317 -0.009801        0.922177          0.490432   \n",
       "1  0.664260  0.537223 -0.471522        0.999998          0.672377   \n",
       "2  0.331220  0.771069 -0.008224        0.999595          0.323003   \n",
       "3  0.479461  0.287201 -0.062110        0.972384          0.496697   \n",
       "4  0.503709  0.228930 -0.170268        0.998973          0.507365   \n",
       "\n",
       "   LEFT_EYE_INNER_y  LEFT_EYE_INNER_z  LEFT_EYE_INNER_visiblity  LEFT_EYE_x  \\\n",
       "0          0.600864         -0.007595                  0.934002    0.493764   \n",
       "1          0.547067         -0.459567                  0.999988    0.672516   \n",
       "2          0.784277          0.003158                  0.999226    0.323031   \n",
       "3          0.284109         -0.098756                  0.975345    0.503260   \n",
       "4          0.220386         -0.146364                  0.998463    0.509803   \n",
       "\n",
       "   LEFT_EYE_y  ...  left_shoulder_angle  right_shoulder_angle  \\\n",
       "0    0.598184  ...             0.724510              2.516352   \n",
       "1    0.554884  ...             0.449666              3.120502   \n",
       "2    0.785688  ...             1.092879              2.219011   \n",
       "3    0.285566  ...             0.805322              2.060770   \n",
       "4    0.220440  ...             1.803341              2.128598   \n",
       "\n",
       "   left_elbow_angle  right_elbow_angle  body_angle  left_upper_leg_angle  \\\n",
       "0          2.100608           1.103965    0.144138              0.960215   \n",
       "1          0.441664           0.356036    0.858536              0.967306   \n",
       "2          1.291582           0.422826    0.045016              1.592805   \n",
       "3          1.876034           0.972832    0.160541              1.731351   \n",
       "4          0.058726           0.385180    0.460579              1.578041   \n",
       "\n",
       "   right_upper_leg_angle  left_lower_leg_angle  right_lower_leg_angle  \\\n",
       "0               0.888722              0.295348               0.134367   \n",
       "1               1.348266              0.371630               1.186898   \n",
       "2               1.519895              0.515314               0.375610   \n",
       "3               1.102815              0.513599               1.806225   \n",
       "4               1.611779              0.669521               0.706863   \n",
       "\n",
       "   body_angle_two  \n",
       "0        0.077798  \n",
       "1        1.089743  \n",
       "2        0.049212  \n",
       "3        0.019664  \n",
       "4        0.343416  \n",
       "\n",
       "[5 rows x 144 columns]"
      ]
     },
     "execution_count": 30,
     "metadata": {},
     "output_type": "execute_result"
    }
   ],
   "source": [
    "df.head()"
   ]
  },
  {
   "cell_type": "code",
   "execution_count": 31,
   "metadata": {},
   "outputs": [],
   "source": [
    "df.to_csv(\"complete_test_data.csv\")"
   ]
  },
  {
   "cell_type": "code",
   "execution_count": null,
   "metadata": {},
   "outputs": [],
   "source": []
  }
 ],
 "metadata": {
  "kernelspec": {
   "display_name": "deeplearning",
   "language": "python",
   "name": "deeplearning"
  },
  "language_info": {
   "codemirror_mode": {
    "name": "ipython",
    "version": 3
   },
   "file_extension": ".py",
   "mimetype": "text/x-python",
   "name": "python",
   "nbconvert_exporter": "python",
   "pygments_lexer": "ipython3",
   "version": "3.7.7"
  }
 },
 "nbformat": 4,
 "nbformat_minor": 4
}
