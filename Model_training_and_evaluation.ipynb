{
 "cells": [
  {
   "cell_type": "code",
   "execution_count": 25,
   "metadata": {},
   "outputs": [],
   "source": [
    "import numpy as np\n",
    "import pandas as pd\n",
    "import sklearn\n",
    "import joblib\n"
   ]
  },
  {
   "cell_type": "code",
   "execution_count": 26,
   "metadata": {},
   "outputs": [],
   "source": [
    "from sklearn.linear_model import LogisticRegression\n",
    "from sklearn.svm import SVC\n",
    "from sklearn.ensemble import RandomForestClassifier\n",
    "from sklearn.neighbors import KNeighborsClassifier\n",
    "from sklearn.naive_bayes import GaussianNB\n",
    "from sklearn.metrics import classification_report"
   ]
  },
  {
   "cell_type": "code",
   "execution_count": 27,
   "metadata": {},
   "outputs": [],
   "source": [
    "df=pd.read_csv('complete_dataset.csv')\n",
    "df_test=pd.read_csv('complete_test_data.csv')"
   ]
  },
  {
   "cell_type": "code",
   "execution_count": 28,
   "metadata": {},
   "outputs": [],
   "source": [
    "# df.drop('Unnamed: 0',inplace=True,axis=1)\n",
    "y_train=df['target']\n",
    "df.drop('target',inplace=True,axis=1)\n",
    "X_train=df\n",
    "\n",
    "# df_test.drop('Unnamed: 0',inplace=True,axis=1)\n",
    "y_test=df_test['target']\n",
    "df_test.drop('target',inplace=True,axis=1)\n",
    "X_test=df_test\n"
   ]
  },
  {
   "cell_type": "code",
   "execution_count": 29,
   "metadata": {},
   "outputs": [],
   "source": [
    "from sklearn.preprocessing import MinMaxScaler"
   ]
  },
  {
   "cell_type": "code",
   "execution_count": 30,
   "metadata": {},
   "outputs": [
    {
     "data": {
      "text/plain": [
       "MinMaxScaler()"
      ]
     },
     "execution_count": 30,
     "metadata": {},
     "output_type": "execute_result"
    }
   ],
   "source": [
    "scaler=MinMaxScaler()\n",
    "scaler.fit(X_train)"
   ]
  },
  {
   "cell_type": "code",
   "execution_count": 31,
   "metadata": {},
   "outputs": [
    {
     "data": {
      "text/plain": [
       "['scaler.save']"
      ]
     },
     "execution_count": 31,
     "metadata": {},
     "output_type": "execute_result"
    }
   ],
   "source": [
    "joblib.dump(scaler,'scaler.save')"
   ]
  },
  {
   "cell_type": "markdown",
   "metadata": {},
   "source": [
    "#### Importing scaler which is fitted on training data "
   ]
  },
  {
   "cell_type": "code",
   "execution_count": 32,
   "metadata": {},
   "outputs": [],
   "source": [
    "scaler=joblib.load('scaler.save')"
   ]
  },
  {
   "cell_type": "code",
   "execution_count": 33,
   "metadata": {},
   "outputs": [],
   "source": [
    "X_train=scaler.transform(X_train)"
   ]
  },
  {
   "cell_type": "code",
   "execution_count": 34,
   "metadata": {},
   "outputs": [],
   "source": [
    "X_test=scaler.transform(X_test)"
   ]
  },
  {
   "cell_type": "markdown",
   "metadata": {},
   "source": [
    "#### Logistic Regression "
   ]
  },
  {
   "cell_type": "code",
   "execution_count": 35,
   "metadata": {},
   "outputs": [],
   "source": [
    "lr=LogisticRegression()\n",
    "# lr=joblib.load('logistic.h5')"
   ]
  },
  {
   "cell_type": "code",
   "execution_count": 36,
   "metadata": {},
   "outputs": [
    {
     "name": "stderr",
     "output_type": "stream",
     "text": [
      "E:\\Utkarsh\\envs\\deeplearning\\lib\\site-packages\\sklearn\\linear_model\\_logistic.py:765: ConvergenceWarning: lbfgs failed to converge (status=1):\n",
      "STOP: TOTAL NO. of ITERATIONS REACHED LIMIT.\n",
      "\n",
      "Increase the number of iterations (max_iter) or scale the data as shown in:\n",
      "    https://scikit-learn.org/stable/modules/preprocessing.html\n",
      "Please also refer to the documentation for alternative solver options:\n",
      "    https://scikit-learn.org/stable/modules/linear_model.html#logistic-regression\n",
      "  extra_warning_msg=_LOGISTIC_SOLVER_CONVERGENCE_MSG)\n"
     ]
    },
    {
     "data": {
      "text/plain": [
       "LogisticRegression()"
      ]
     },
     "execution_count": 36,
     "metadata": {},
     "output_type": "execute_result"
    }
   ],
   "source": [
    "lr=LogisticRegression()\n",
    "lr.fit(X_train,y_train)"
   ]
  },
  {
   "cell_type": "code",
   "execution_count": 37,
   "metadata": {},
   "outputs": [
    {
     "name": "stdout",
     "output_type": "stream",
     "text": [
      "                    precision    recall  f1-score   support\n",
      "\n",
      "Adhomukhasvanasana       0.89      0.12      0.22      1111\n",
      "    Utkatakonasana       0.85      0.84      0.85       260\n",
      "        Utkatasana       0.91      0.62      0.73      1387\n",
      "    Virabhadrasana       0.51      0.43      0.47       519\n",
      "      bhujangasana       0.83      0.90      0.87       414\n",
      "        padamasana       0.78      1.00      0.88       796\n",
      "         shavasana       0.95      1.00      0.97      1486\n",
      "          tadasana       0.54      0.82      0.65      1021\n",
      "       trikonasana       0.89      0.88      0.88       885\n",
      "      vrikashasana       0.59      0.92      0.72      1091\n",
      "\n",
      "          accuracy                           0.75      8970\n",
      "         macro avg       0.77      0.75      0.72      8970\n",
      "      weighted avg       0.79      0.75      0.72      8970\n",
      "\n"
     ]
    }
   ],
   "source": [
    "# lr=LogisticRegression()\n",
    "# lr.fit(X_train,y_train)\n",
    "prediction_lr=lr.predict(X_test)\n",
    "print(classification_report(y_test,prediction_lr))"
   ]
  },
  {
   "cell_type": "code",
   "execution_count": 38,
   "metadata": {},
   "outputs": [
    {
     "name": "stdout",
     "output_type": "stream",
     "text": [
      "                    precision    recall  f1-score   support\n",
      "\n",
      "Adhomukhasvanasana       0.89      0.12      0.22      1111\n",
      "    Utkatakonasana       0.85      0.84      0.85       260\n",
      "        Utkatasana       0.91      0.62      0.73      1387\n",
      "    Virabhadrasana       0.51      0.43      0.47       519\n",
      "      bhujangasana       0.83      0.90      0.87       414\n",
      "        padamasana       0.78      1.00      0.88       796\n",
      "         shavasana       0.95      1.00      0.97      1486\n",
      "          tadasana       0.54      0.82      0.65      1021\n",
      "       trikonasana       0.89      0.88      0.88       885\n",
      "      vrikashasana       0.59      0.92      0.72      1091\n",
      "\n",
      "          accuracy                           0.75      8970\n",
      "         macro avg       0.77      0.75      0.72      8970\n",
      "      weighted avg       0.79      0.75      0.72      8970\n",
      "\n"
     ]
    }
   ],
   "source": [
    "print(classification_report(y_test,prediction_lr))"
   ]
  },
  {
   "cell_type": "code",
   "execution_count": 39,
   "metadata": {},
   "outputs": [
    {
     "data": {
      "text/plain": [
       "['logistic.h5']"
      ]
     },
     "execution_count": 39,
     "metadata": {},
     "output_type": "execute_result"
    }
   ],
   "source": [
    "joblib.dump(lr,'logistic.h5')"
   ]
  },
  {
   "cell_type": "markdown",
   "metadata": {},
   "source": [
    "#### Support Vector Machine Classifier "
   ]
  },
  {
   "cell_type": "code",
   "execution_count": 40,
   "metadata": {},
   "outputs": [
    {
     "name": "stdout",
     "output_type": "stream",
     "text": [
      "                    precision    recall  f1-score   support\n",
      "\n",
      "Adhomukhasvanasana       0.47      0.32      0.38      1111\n",
      "    Utkatakonasana       0.32      0.81      0.46       260\n",
      "        Utkatasana       0.80      0.87      0.83      1387\n",
      "    Virabhadrasana       0.51      0.49      0.50       519\n",
      "      bhujangasana       0.50      0.05      0.09       414\n",
      "        padamasana       0.81      1.00      0.89       796\n",
      "         shavasana       0.97      1.00      0.98      1486\n",
      "          tadasana       0.86      0.83      0.84      1021\n",
      "       trikonasana       0.99      0.85      0.91       885\n",
      "      vrikashasana       0.81      0.93      0.87      1091\n",
      "\n",
      "          accuracy                           0.77      8970\n",
      "         macro avg       0.70      0.71      0.68      8970\n",
      "      weighted avg       0.77      0.77      0.76      8970\n",
      "\n"
     ]
    }
   ],
   "source": [
    "# svc=joblib.load('svc.h5')\n",
    "\n",
    "svc=SVC()\n",
    "svc.fit(X_train,y_train)\n",
    "prediction_svc=svc.predict(X_test)\n",
    "\n",
    "print(classification_report(y_test,prediction_svc))"
   ]
  },
  {
   "cell_type": "code",
   "execution_count": 41,
   "metadata": {},
   "outputs": [
    {
     "data": {
      "text/plain": [
       "['svc.h5']"
      ]
     },
     "execution_count": 41,
     "metadata": {},
     "output_type": "execute_result"
    }
   ],
   "source": [
    "joblib.dump(svc,'svc.h5')"
   ]
  },
  {
   "cell_type": "markdown",
   "metadata": {},
   "source": [
    "#### Random Forest Classifier"
   ]
  },
  {
   "cell_type": "code",
   "execution_count": 42,
   "metadata": {},
   "outputs": [
    {
     "name": "stdout",
     "output_type": "stream",
     "text": [
      "                    precision    recall  f1-score   support\n",
      "\n",
      "Adhomukhasvanasana       0.79      0.26      0.40      1111\n",
      "    Utkatakonasana       0.38      0.87      0.53       260\n",
      "        Utkatasana       0.88      0.91      0.90      1387\n",
      "    Virabhadrasana       0.33      0.45      0.38       519\n",
      "      bhujangasana       0.65      0.14      0.24       414\n",
      "        padamasana       0.75      1.00      0.86       796\n",
      "         shavasana       0.98      1.00      0.99      1486\n",
      "          tadasana       0.67      0.85      0.75      1021\n",
      "       trikonasana       0.93      0.81      0.87       885\n",
      "      vrikashasana       0.76      0.78      0.77      1091\n",
      "\n",
      "          accuracy                           0.76      8970\n",
      "         macro avg       0.71      0.71      0.67      8970\n",
      "      weighted avg       0.78      0.76      0.74      8970\n",
      "\n"
     ]
    }
   ],
   "source": [
    "# rf=joblib.load('randomforest.h5')\n",
    "rf=RandomForestClassifier()\n",
    "rf.fit(X_train,y_train)\n",
    "prediction_rf=rf.predict(X_test)\n",
    "\n",
    "print(classification_report(y_test,prediction_rf))"
   ]
  },
  {
   "cell_type": "code",
   "execution_count": 43,
   "metadata": {},
   "outputs": [
    {
     "data": {
      "text/plain": [
       "['randomforest.h5']"
      ]
     },
     "execution_count": 43,
     "metadata": {},
     "output_type": "execute_result"
    }
   ],
   "source": [
    "joblib.dump(rf,'randomforest.h5')"
   ]
  },
  {
   "cell_type": "markdown",
   "metadata": {},
   "source": [
    "#### KNN classifier "
   ]
  },
  {
   "cell_type": "code",
   "execution_count": 44,
   "metadata": {},
   "outputs": [
    {
     "name": "stdout",
     "output_type": "stream",
     "text": [
      "                    precision    recall  f1-score   support\n",
      "\n",
      "Adhomukhasvanasana       0.50      0.29      0.37      1111\n",
      "    Utkatakonasana       0.50      0.84      0.63       260\n",
      "        Utkatasana       0.85      0.69      0.77      1387\n",
      "    Virabhadrasana       0.56      0.52      0.54       519\n",
      "      bhujangasana       0.31      0.17      0.22       414\n",
      "        padamasana       0.71      1.00      0.83       796\n",
      "         shavasana       0.96      1.00      0.98      1486\n",
      "          tadasana       0.71      0.87      0.78      1021\n",
      "       trikonasana       0.89      0.85      0.87       885\n",
      "      vrikashasana       0.75      0.90      0.82      1091\n",
      "\n",
      "          accuracy                           0.75      8970\n",
      "         macro avg       0.67      0.71      0.68      8970\n",
      "      weighted avg       0.74      0.75      0.73      8970\n",
      "\n"
     ]
    }
   ],
   "source": [
    "# knn=joblib.load('knn.h5')\n",
    "knn=KNeighborsClassifier()\n",
    "knn.fit(X_train,y_train)\n",
    "prediction_knn=knn.predict(X_test)\n",
    "\n",
    "print(classification_report(y_test,prediction_knn))"
   ]
  },
  {
   "cell_type": "code",
   "execution_count": 45,
   "metadata": {},
   "outputs": [
    {
     "data": {
      "text/plain": [
       "['knn.h5']"
      ]
     },
     "execution_count": 45,
     "metadata": {},
     "output_type": "execute_result"
    }
   ],
   "source": [
    "joblib.dump(knn,'knn.h5')"
   ]
  },
  {
   "cell_type": "markdown",
   "metadata": {},
   "source": [
    "#### Naive Bayes Classifier "
   ]
  },
  {
   "cell_type": "code",
   "execution_count": 46,
   "metadata": {},
   "outputs": [
    {
     "name": "stderr",
     "output_type": "stream",
     "text": [
      "E:\\Utkarsh\\envs\\deeplearning\\lib\\site-packages\\sklearn\\metrics\\_classification.py:1245: UndefinedMetricWarning: Precision and F-score are ill-defined and being set to 0.0 in labels with no predicted samples. Use `zero_division` parameter to control this behavior.\n",
      "  _warn_prf(average, modifier, msg_start, len(result))\n",
      "E:\\Utkarsh\\envs\\deeplearning\\lib\\site-packages\\sklearn\\metrics\\_classification.py:1245: UndefinedMetricWarning: Precision and F-score are ill-defined and being set to 0.0 in labels with no predicted samples. Use `zero_division` parameter to control this behavior.\n",
      "  _warn_prf(average, modifier, msg_start, len(result))\n",
      "E:\\Utkarsh\\envs\\deeplearning\\lib\\site-packages\\sklearn\\metrics\\_classification.py:1245: UndefinedMetricWarning: Precision and F-score are ill-defined and being set to 0.0 in labels with no predicted samples. Use `zero_division` parameter to control this behavior.\n",
      "  _warn_prf(average, modifier, msg_start, len(result))\n"
     ]
    },
    {
     "name": "stdout",
     "output_type": "stream",
     "text": [
      "                    precision    recall  f1-score   support\n",
      "\n",
      "Adhomukhasvanasana       0.48      0.81      0.61      1111\n",
      "    Utkatakonasana       0.30      0.70      0.42       260\n",
      "        Utkatasana       0.74      0.69      0.71      1387\n",
      "    Virabhadrasana       0.46      0.33      0.38       519\n",
      "      bhujangasana       0.00      0.00      0.00       414\n",
      "        padamasana       1.00      0.87      0.93       796\n",
      "         shavasana       1.00      1.00      1.00      1486\n",
      "          tadasana       0.98      0.78      0.87      1021\n",
      "       trikonasana       0.98      0.73      0.84       885\n",
      "      vrikashasana       0.86      0.91      0.88      1091\n",
      "\n",
      "          accuracy                           0.76      8970\n",
      "         macro avg       0.68      0.68      0.66      8970\n",
      "      weighted avg       0.77      0.76      0.76      8970\n",
      "\n"
     ]
    }
   ],
   "source": [
    "# nb=joblib.load('naivebayes.h5')\n",
    "nb=GaussianNB()\n",
    "nb.fit(X_train,y_train)\n",
    "prediction_nb=nb.predict(X_test)\n",
    "\n",
    "print(classification_report(y_test,prediction_nb))"
   ]
  },
  {
   "cell_type": "code",
   "execution_count": 47,
   "metadata": {},
   "outputs": [
    {
     "data": {
      "text/plain": [
       "['naivebayes.h5']"
      ]
     },
     "execution_count": 47,
     "metadata": {},
     "output_type": "execute_result"
    }
   ],
   "source": [
    "joblib.dump(nb,'naivebayes.h5')"
   ]
  },
  {
   "cell_type": "code",
   "execution_count": 53,
   "metadata": {},
   "outputs": [],
   "source": [
    "# import mediapipe as mp\n",
    "# import cv2 as cv\n",
    "# mp_drawing=mp.solutions.drawing_utils\n",
    "# mp_pose=mp.solutions.pose"
   ]
  },
  {
   "cell_type": "markdown",
   "metadata": {},
   "source": [
    "### Preprocessing Functions for live video/static video/images "
   ]
  },
  {
   "cell_type": "code",
   "execution_count": 54,
   "metadata": {},
   "outputs": [],
   "source": [
    "def calculate_angle(A,B):\n",
    "    unit_A=A/np.linalg.norm(A)\n",
    "    unit_B=B/np.linalg.norm(B)\n",
    "\n",
    "    return np.arccos(np.dot(unit_A,unit_B))\n",
    "\n",
    "\n",
    "def joint_angle(df):\n",
    "    chest_vector=np.transpose(np.array([df['LEFT_SHOULDER_x']-df['RIGHT_SHOULDER_x'],df['LEFT_SHOULDER_y']-df['RIGHT_SHOULDER_y'],df['LEFT_SHOULDER_z']-df['RIGHT_SHOULDER_z']]))\n",
    "    left_upper_arm_vector=np.transpose(np.array([df['LEFT_ELBOW_x']-df['LEFT_SHOULDER_x'],df['LEFT_ELBOW_y']-df['LEFT_SHOULDER_y'],df['LEFT_ELBOW_z']-df['LEFT_SHOULDER_z']]))\n",
    "    right_upper_arm_vector=np.transpose(np.array([df['RIGHT_ELBOW_x']-df['RIGHT_SHOULDER_x'],df['RIGHT_ELBOW_y']-df['RIGHT_SHOULDER_y'],df['RIGHT_ELBOW_z']-df['RIGHT_SHOULDER_z']]))\n",
    "    left_lower_arm_vector=np.transpose(np.array([df['LEFT_WRIST_x']-df['LEFT_ELBOW_x'],df['LEFT_WRIST_y']-df['LEFT_ELBOW_y'],df['LEFT_WRIST_z']-df['LEFT_ELBOW_z']]))\n",
    "    right_lower_arm_vector=np.transpose(np.array([df['RIGHT_WRIST_x']-df['RIGHT_ELBOW_x'],df['RIGHT_WRIST_y']-df['RIGHT_ELBOW_y'],df['RIGHT_WRIST_z']-df['RIGHT_ELBOW_z']]))\n",
    "    lowerbody_vector=np.transpose(np.array([df['LEFT_HIP_x']-df['RIGHT_HIP_x'],df['LEFT_HIP_y']-df['RIGHT_HIP_y'],df['LEFT_HIP_z']-df['RIGHT_HIP_z']]))\n",
    "    left_upper_foot_vector=np.transpose(np.array([df['LEFT_KNEE_x']-df['LEFT_HIP_x'],df['LEFT_KNEE_y']-df['LEFT_HIP_y'],df['LEFT_KNEE_z']-df['LEFT_HIP_z']]))\n",
    "    right_upper_foot_vector=np.transpose(np.array([df['RIGHT_KNEE_x']-df['RIGHT_HIP_x'],df['RIGHT_KNEE_y']-df['RIGHT_HIP_y'],df['RIGHT_KNEE_z']-df['RIGHT_HIP_z']]))\n",
    "    left_lower_foot_vector=np.transpose(np.array([df['LEFT_ANKLE_x']-df['LEFT_KNEE_x'],df['LEFT_ANKLE_y']-df['LEFT_KNEE_y'],df['LEFT_ANKLE_z']-df['LEFT_KNEE_z']]))\n",
    "    right_lower_foot_vector=np.transpose(np.array([df['RIGHT_ANKLE_x']-df['RIGHT_KNEE_x'],df['RIGHT_ANKLE_y']-df['RIGHT_KNEE_y'],df['RIGHT_ANKLE_z']-df['RIGHT_KNEE_z']]))\n",
    "    mouth_vector=np.transpose(np.array([df['MOUTH_LEFT_x']-df['MOUTH_RIGHT_x'],df['MOUTH_LEFT_y']-df['MOUTH_RIGHT_y'],df['MOUTH_LEFT_z']-df['MOUTH_RIGHT_z']]))\n",
    "    \n",
    "    \n",
    "    df['head_angle']=([calculate_angle(mouth_vector[i],(chest_vector[i])) for i in range(len(mouth_vector))])\n",
    "    df['left_shoulder_angle']=([calculate_angle(chest_vector[i],(left_upper_arm_vector[i])) for i in range(len(chest_vector))])\n",
    "    df['right_shoulder_angle']=([calculate_angle(chest_vector[i],(right_upper_arm_vector[i])) for i in range(len(chest_vector))])\n",
    "    df['left_elbow_angle']=([calculate_angle(left_upper_arm_vector[i],(left_lower_arm_vector[i])) for i in range(len(left_upper_arm_vector))])\n",
    "    df['right_elbow_angle']=([calculate_angle(right_upper_arm_vector[i],(right_lower_arm_vector[i])) for i in range(len(right_upper_arm_vector))])\n",
    "    df['body_angle']=([calculate_angle(chest_vector[i],(lowerbody_vector[i])) for i in range(len(chest_vector))])\n",
    "    df['left_upper_leg_angle']=([calculate_angle(lowerbody_vector[i],(left_upper_foot_vector[i])) for i in range(len(lowerbody_vector))])\n",
    "    df['right_upper_leg_angle']=([calculate_angle(lowerbody_vector[i],(right_upper_foot_vector[i]))for i in range(len(lowerbody_vector))])\n",
    "    df['left_lower_leg_angle']=([calculate_angle(left_upper_foot_vector[i],(left_lower_foot_vector[i])) for i in range(len(left_upper_foot_vector))])\n",
    "    df['right_lower_leg_angle']=([calculate_angle(right_upper_foot_vector[i],(right_lower_foot_vector[i])) for i in range(len(right_upper_foot_vector))])\n",
    "    df['body_angle_two']=([calculate_angle(mouth_vector[i],(lowerbody_vector[i])) for i in range(len(lowerbody_vector))])"
   ]
  },
  {
   "cell_type": "code",
   "execution_count": 55,
   "metadata": {},
   "outputs": [],
   "source": [
    "def collect_data(landmarks,data):\n",
    "    curr=[]\n",
    "    for i in mp_pose.PoseLandmark:\n",
    "        val=i.value\n",
    "        curr.append(landmarks[val].x)\n",
    "        curr.append(landmarks[val].y)\n",
    "        curr.append(landmarks[val].z)\n",
    "        curr.append(landmarks[val].visibility)\n",
    "    data.append(curr)\n"
   ]
  },
  {
   "cell_type": "markdown",
   "metadata": {},
   "source": [
    "# For Images "
   ]
  },
  {
   "cell_type": "code",
   "execution_count": 56,
   "metadata": {},
   "outputs": [
    {
     "name": "stdout",
     "output_type": "stream",
     "text": [
      "0.9999999213512634\n",
      "predicted class = trikonasana and confidence = 100.00%\n"
     ]
    }
   ],
   "source": [
    "\n",
    "with mp_pose.Pose(min_detection_confidence=0.7, min_tracking_confidence=0.7) as pose:\n",
    "    \n",
    "    frame = cv.imread(\"test_images\\\\test_image.jpg\")    \n",
    "    image = cv.cvtColor(frame, cv.COLOR_BGR2RGB)\n",
    "    scale_percent = 320 # percent of original size\n",
    "    width = int(image.shape[1] * scale_percent / 100)\n",
    "    height = int(image.shape[0] * scale_percent / 100)\n",
    "    dim = (width, height)\n",
    "  \n",
    "    # resize image\n",
    "    image = cv.resize(image, dim, interpolation = cv.INTER_AREA)\n",
    "    image.flags.writeable = False\n",
    "            # Make detection\n",
    "    results = pose.process(image)\n",
    "            # Recolor back to BGR\n",
    "    image.flags.writeable = True\n",
    "    image = cv.cvtColor(image, cv.COLOR_RGB2BGR)\n",
    "\n",
    "            # Render detections\n",
    "    \n",
    "    landmarks = results.pose_landmarks.landmark\n",
    "    columns=[]\n",
    "    for landmrk in mp_pose.PoseLandmark:\n",
    "        val=str(landmrk).split(\".\")[1]\n",
    "        columns.append(val+\"_x\")\n",
    "        columns.append(val+\"_y\")\n",
    "        columns.append(val+\"_z\")\n",
    "        columns.append(val+\"_visiblity\")\n",
    "    data=[]\n",
    "    \n",
    "    collect_data(landmarks,data)\n",
    "    test_frame=pd.DataFrame(data=data,columns=columns)\n",
    "    joint_angle(test_frame)\n",
    "    mp_drawing.draw_landmarks(image, results.pose_landmarks, mp_pose.POSE_CONNECTIONS,\n",
    "                                    mp_drawing.DrawingSpec(color=(245,117,66), thickness=2, circle_radius=2), \n",
    "                                    mp_drawing.DrawingSpec(color=(245,66,230), thickness=2, circle_radius=2) \n",
    "                                     )               \n",
    "    prediction=lr.predict(test_frame)[0]\n",
    "    y_pred_prob = lr.predict_proba(test_frame)\n",
    "    ix = y_pred_prob.argmax(1).item()\n",
    "    \n",
    "    value=y_pred_prob[0,ix]\n",
    "    print(value)\n",
    "    threshold=0.9700\n",
    "    if(value<threshold):\n",
    "        prediction=\"No pose detected\"\n",
    "    \n",
    "    \n",
    "    font                   = cv.FONT_HERSHEY_SIMPLEX\n",
    "    bottomLeftCornerOfText = (0,20)\n",
    "    fontScale              = 1\n",
    "    fontColor              = (255,0,0)\n",
    "    thickness              = 3\n",
    "    lineType               = 2\n",
    "    cv.putText(image,prediction, \n",
    "    bottomLeftCornerOfText, \n",
    "    font, \n",
    "    fontScale,\n",
    "    fontColor,\n",
    "    thickness,\n",
    "    lineType)\n",
    "    cv.imshow('Mediapipe Feed', image)\n",
    "    \n",
    "    \n",
    "\n",
    "    print(f'predicted class = {prediction} and confidence = {y_pred_prob[0,ix]:.2%}')\n",
    "    # hold the screen until user close it.\n",
    "    cv.waitKey(0)\n",
    "     \n",
    "    # It is for removing/deleting created GUI window from screen\n",
    "    # and memory\n",
    "    cv.destroyAllWindows()\n",
    "    \n",
    "    \n",
    "    \n",
    "    \n"
   ]
  },
  {
   "cell_type": "markdown",
   "metadata": {},
   "source": [
    "# For Live Video or Static Videos"
   ]
  },
  {
   "cell_type": "code",
   "execution_count": 57,
   "metadata": {},
   "outputs": [
    {
     "name": "stdout",
     "output_type": "stream",
     "text": [
      "0.9985072591686917\n",
      "predicted class = tadasana and confidence = 99.85%\n",
      "0.9989878577914068\n",
      "predicted class = tadasana and confidence = 99.90%\n",
      "0.9989711724708147\n",
      "predicted class = tadasana and confidence = 99.90%\n",
      "0.998608872975707\n",
      "predicted class = tadasana and confidence = 99.86%\n",
      "0.9655101939515874\n",
      "predicted class = No pose detected and confidence = 96.55%\n",
      "0.898840585461477\n",
      "predicted class = No pose detected and confidence = 89.88%\n",
      "0.9792610891340566\n",
      "predicted class = vrikashasana and confidence = 97.93%\n",
      "0.9398021545123735\n",
      "predicted class = No pose detected and confidence = 93.98%\n",
      "0.9640760521317913\n",
      "predicted class = No pose detected and confidence = 96.41%\n",
      "0.9929682326350616\n",
      "predicted class = vrikashasana and confidence = 99.30%\n",
      "0.9929469219583249\n",
      "predicted class = vrikashasana and confidence = 99.29%\n",
      "0.9952850688229957\n",
      "predicted class = vrikashasana and confidence = 99.53%\n",
      "0.9982799693700274\n",
      "predicted class = vrikashasana and confidence = 99.83%\n",
      "0.999093781324753\n",
      "predicted class = vrikashasana and confidence = 99.91%\n",
      "0.9989686537241522\n",
      "predicted class = vrikashasana and confidence = 99.90%\n"
     ]
    }
   ],
   "source": [
    "#For videos\n",
    "cap = cv.VideoCapture(\"test_videos/vrikashasana2.mp4\")\n",
    "with mp_pose.Pose(min_detection_confidence=0.7, min_tracking_confidence=0.7) as pose:\n",
    "    while cap.isOpened():\n",
    "        ret, frame = cap.read()\n",
    "        \n",
    "        if ret==True:\n",
    "            # Recolor image to RGB\n",
    "            image = cv.cvtColor(frame, cv.COLOR_BGR2RGB)\n",
    "            image.flags.writeable = False\n",
    "\n",
    "            # Make detection\n",
    "            results = pose.process(image)\n",
    "\n",
    "            # Recolor back to BGR\n",
    "            image.flags.writeable = True\n",
    "            image = cv.cvtColor(image, cv.COLOR_RGB2BGR)\n",
    "\n",
    "            # Render detections\n",
    "            landmarks = results.pose_landmarks.landmark\n",
    "            if(landmarks is None):\n",
    "                pass\n",
    "            data=[]\n",
    "            columns=[]\n",
    "            for landmrk in mp_pose.PoseLandmark:\n",
    "                val=str(landmrk).split(\".\")[1]\n",
    "                columns.append(val+\"_x\")\n",
    "                columns.append(val+\"_y\")\n",
    "                columns.append(val+\"_z\")\n",
    "                columns.append(val+\"_visiblity\")\n",
    "            \n",
    "\n",
    "            collect_data(landmarks,data)\n",
    "            test_frame=pd.DataFrame(data=data,columns=columns)\n",
    "            joint_angle(test_frame)\n",
    "            test_frame=scaler.transform(test_frame)\n",
    "            mp_drawing.draw_landmarks(image, results.pose_landmarks, mp_pose.POSE_CONNECTIONS,\n",
    "                                            mp_drawing.DrawingSpec(color=(245,117,66), thickness=2, circle_radius=2), \n",
    "                                            mp_drawing.DrawingSpec(color=(245,66,230), thickness=2, circle_radius=2) \n",
    "                                             )               \n",
    "\n",
    "\n",
    "            prediction=lr.predict(test_frame)[0]\n",
    "            y_pred_prob = lr.predict_proba(test_frame)\n",
    "            ix = y_pred_prob.argmax(1).item()\n",
    "    \n",
    "            value=y_pred_prob[0,ix]\n",
    "            print(value)\n",
    "            threshold=0.9700\n",
    "            if(value<threshold):\n",
    "                prediction=\"No pose detected\"\n",
    "            \n",
    "            \n",
    "            font                   = cv.FONT_HERSHEY_SIMPLEX\n",
    "            bottomLeftCornerOfText = (0,20)\n",
    "            fontScale              = 1\n",
    "            fontColor              = (255,0,0)\n",
    "            thickness              = 3\n",
    "            lineType               = 2\n",
    "            \n",
    "            cv.putText(image,prediction, \n",
    "            bottomLeftCornerOfText, \n",
    "            font, \n",
    "            fontScale,\n",
    "            fontColor,\n",
    "            thickness,\n",
    "            lineType)\n",
    "            cv.imshow('Mediapipe Feed', image)\n",
    "            \n",
    "            print(f'predicted class = {prediction} and confidence = {y_pred_prob[0,ix]:.2%}')\n",
    "\n",
    "            if cv.waitKey(10) & 0xFF == ord('q'):\n",
    "                break\n",
    "        else:\n",
    "            break\n",
    "\n",
    "    cap.release()\n",
    "    cv.destroyAllWindows()\n"
   ]
  },
  {
   "cell_type": "code",
   "execution_count": null,
   "metadata": {},
   "outputs": [],
   "source": []
  },
  {
   "cell_type": "code",
   "execution_count": 58,
   "metadata": {},
   "outputs": [
    {
     "name": "stdout",
     "output_type": "stream",
     "text": [
      "Name: scikit-learn\n",
      "Version: 0.24.1\n",
      "Summary: A set of python modules for machine learning and data mining\n",
      "Home-page: http://scikit-learn.org\n",
      "Author: None\n",
      "Author-email: None\n",
      "License: new BSD\n",
      "Location: e:\\utkarsh\\envs\\deeplearning\\lib\\site-packages\n",
      "Requires: scipy, threadpoolctl, numpy, joblib\n",
      "Required-by: imbalanced-learn\n",
      "Note: you may need to restart the kernel to use updated packages.\n"
     ]
    }
   ],
   "source": [
    "pip show scikit-learn"
   ]
  },
  {
   "cell_type": "code",
   "execution_count": null,
   "metadata": {},
   "outputs": [],
   "source": []
  }
 ],
 "metadata": {
  "kernelspec": {
   "display_name": "deeplearning",
   "language": "python",
   "name": "deeplearning"
  },
  "language_info": {
   "codemirror_mode": {
    "name": "ipython",
    "version": 3
   },
   "file_extension": ".py",
   "mimetype": "text/x-python",
   "name": "python",
   "nbconvert_exporter": "python",
   "pygments_lexer": "ipython3",
   "version": "3.7.7"
  }
 },
 "nbformat": 4,
 "nbformat_minor": 4
}
