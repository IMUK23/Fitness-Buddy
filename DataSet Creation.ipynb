{
 "cells": [
  {
   "cell_type": "code",
   "execution_count": 32,
   "metadata": {},
   "outputs": [],
   "source": [
    "import mediapipe as mp\n",
    "import numpy as np\n",
    "import pandas as pd \n",
    "import cv2 \n",
    "import os\n",
    "import matplotlib.pyplot as plt\n",
    "import seaborn as sns\n",
    "from IPython.core.display import display, HTML"
   ]
  },
  {
   "cell_type": "code",
   "execution_count": 2,
   "metadata": {},
   "outputs": [],
   "source": [
    "mp_drawing=mp.solutions.drawing_utils\n",
    "mp_pose=mp.solutions.pose"
   ]
  },
  {
   "cell_type": "code",
   "execution_count": 3,
   "metadata": {},
   "outputs": [],
   "source": [
    "import os"
   ]
  },
  {
   "cell_type": "code",
   "execution_count": 4,
   "metadata": {},
   "outputs": [],
   "source": [
    "directory=\"C:\\\\Users\\\\ASUS\\\\Desktop\\\\Project work\\\\major project\\\\new Model Work\\\\videos\\\\Adhomukhasvanasana\"\n",
    "directory2=\"C:\\\\Users\\\\ASUS\\\\Desktop\\\\Project work\\\\major project\\\\new Model Work\\\\videos\\\\UtkataKonasana\"\n",
    "directory3=\"C:\\\\Users\\\\ASUS\\\\Desktop\\\\Project work\\\\major project\\\\new Model Work\\\\videos\\\\Utkatasana\"\n",
    "directory4=\"C:\\\\Users\\\\ASUS\\\\Desktop\\\\Project work\\\\major project\\\\new Model Work\\\\videos\\\\Virabhadrasana\""
   ]
  },
  {
   "cell_type": "code",
   "execution_count": 5,
   "metadata": {},
   "outputs": [
    {
     "name": "stdout",
     "output_type": "stream",
     "text": [
      "22923\n"
     ]
    }
   ],
   "source": [
    "filepaths=[]\n",
    "for filename in os.listdir(directory):\n",
    "    f = os.path.join(directory,filename)\n",
    "    filepaths.append(f)\n",
    "    \n",
    "    \n",
    "for filename in os.listdir(directory2):\n",
    "    f = os.path.join(directory2,filename)\n",
    "    filepaths.append(f)\n",
    "\n",
    "for filename in os.listdir(directory3):\n",
    "    f = os.path.join(directory3,filename)\n",
    "    filepaths.append(f)\n",
    "    \n",
    "for filename in os.listdir(directory4):\n",
    "    f = os.path.join(directory4,filename)\n",
    "    filepaths.append(f)\n",
    "    \n",
    "print(len(filepaths)) \n",
    "\n"
   ]
  },
  {
   "cell_type": "code",
   "execution_count": 6,
   "metadata": {},
   "outputs": [
    {
     "name": "stdout",
     "output_type": "stream",
     "text": [
      "C:\\Users\\ASUS\\Desktop\\Project work\\major project\\new Model Work\\videos\\Adhomukhasvanasana\\Adhomukhasvanasana 487.jpg C:\\Users\\ASUS\\Desktop\\Project work\\major project\\new Model Work\\videos\\UtkataKonasana\\Utkatakonasana 0 (4979).jpg C:\\Users\\ASUS\\Desktop\\Project work\\major project\\new Model Work\\videos\\Utkatasana\\Utkatasana (400).jpg C:\\Users\\ASUS\\Desktop\\Project work\\major project\\new Model Work\\videos\\Virabhadrasana\\Virabhadrasana (7038).jpg\n"
     ]
    }
   ],
   "source": [
    "print(filepaths[4000]+\" \"+filepaths[9000]+\" \"+filepaths[14000]+\" \"+filepaths[22000])\n",
    "columns=[]\n",
    "for lndmrk in mp_pose.PoseLandmark:\n",
    "    val=str(lndmrk).split(\".\")[1]\n",
    "    columns.append(val+\"_x\")\n",
    "    columns.append(val+\"_y\")\n",
    "    columns.append(val+\"_z\")\n",
    "    columns.append(val+\"_visiblity\")\n",
    "columns.append(\"target\")"
   ]
  },
  {
   "cell_type": "code",
   "execution_count": 7,
   "metadata": {},
   "outputs": [],
   "source": [
    "data=[]\n"
   ]
  },
  {
   "cell_type": "code",
   "execution_count": 8,
   "metadata": {},
   "outputs": [],
   "source": [
    "#functions\n",
    "def collect_data(landmarks,data,target):\n",
    "    curr=[]\n",
    "    for i in mp_pose.PoseLandmark:\n",
    "        val=i.value\n",
    "        curr.append(landmarks[val].x)\n",
    "        curr.append(landmarks[val].y)\n",
    "        curr.append(landmarks[val].z)\n",
    "        curr.append(landmarks[val].visibility)\n",
    "    \n",
    "    curr.append(target)\n",
    "    data.append(curr)\n",
    "    \n",
    "    \n",
    "def extract_target(path):\n",
    "    return path.split(\"\\\\\")[-1].split(\" \")[0]\n",
    "\n",
    "\n",
    "def extract_datapoints(path):\n",
    "    \n",
    "## Setup mediapipe instance\n",
    "    with mp_pose.Pose(min_detection_confidence=0.7, min_tracking_confidence=0.7) as pose:\n",
    "        \n",
    "        frame = cv2.imread(path)\n",
    "            # Recolor image to RGB\n",
    "        image = cv2.cvtColor(frame, cv2.COLOR_BGR2RGB)\n",
    "        image.flags.writeable = False\n",
    "\n",
    "            # Make detection\n",
    "        results = pose.process(image)\n",
    "\n",
    "            # Recolor back to BGR\n",
    "        image.flags.writeable = True\n",
    "        image = cv2.cvtColor(image, cv2.COLOR_RGB2BGR)\n",
    "\n",
    "            # Extract landmarks\n",
    "        try:\n",
    "            landmarks = results.pose_landmarks.landmark\n",
    "            target=extract_target(path)\n",
    "            collect_data(landmarks,data,target)\n",
    "\n",
    "\n",
    "        except:\n",
    "            print(\"Error\")\n",
    "            pass\n",
    "\n",
    "\n",
    "            # Render detections\n",
    "        mp_drawing.draw_landmarks(image, results.pose_landmarks, mp_pose.POSE_CONNECTIONS,\n",
    "                                    mp_drawing.DrawingSpec(color=(245,117,66), thickness=2, circle_radius=2), \n",
    "                                    mp_drawing.DrawingSpec(color=(245,66,230), thickness=2, circle_radius=2) \n",
    "                                     )               \n",
    "\n",
    "            \n",
    "\n",
    "            \n",
    "\n",
    "    \n",
    "    cv2.destroyAllWindows()"
   ]
  },
  {
   "cell_type": "code",
   "execution_count": 9,
   "metadata": {},
   "outputs": [
    {
     "data": {
      "text/plain": [
       "22923"
      ]
     },
     "execution_count": 9,
     "metadata": {},
     "output_type": "execute_result"
    }
   ],
   "source": [
    "len(filepaths)\n",
    "# 16001"
   ]
  },
  {
   "cell_type": "code",
   "execution_count": 10,
   "metadata": {},
   "outputs": [
    {
     "name": "stderr",
     "output_type": "stream",
     "text": [
      "  6%|████▌                                                                          | 401/6922 [02:21<37:14,  2.92it/s]"
     ]
    },
    {
     "name": "stdout",
     "output_type": "stream",
     "text": [
      "Error\n"
     ]
    },
    {
     "name": "stderr",
     "output_type": "stream",
     "text": [
      "  8%|██████▎                                                                        | 553/6922 [03:18<30:20,  3.50it/s]"
     ]
    },
    {
     "name": "stdout",
     "output_type": "stream",
     "text": [
      "Error\n"
     ]
    },
    {
     "name": "stderr",
     "output_type": "stream",
     "text": [
      "\r",
      "  8%|██████▎                                                                        | 554/6922 [03:19<29:52,  3.55it/s]"
     ]
    },
    {
     "name": "stdout",
     "output_type": "stream",
     "text": [
      "Error\n"
     ]
    },
    {
     "name": "stderr",
     "output_type": "stream",
     "text": [
      "\r",
      "  8%|██████▎                                                                        | 555/6922 [03:19<28:27,  3.73it/s]"
     ]
    },
    {
     "name": "stdout",
     "output_type": "stream",
     "text": [
      "Error\n"
     ]
    },
    {
     "name": "stderr",
     "output_type": "stream",
     "text": [
      "\r",
      "  8%|██████▎                                                                        | 556/6922 [03:19<28:02,  3.78it/s]"
     ]
    },
    {
     "name": "stdout",
     "output_type": "stream",
     "text": [
      "Error\n"
     ]
    },
    {
     "name": "stderr",
     "output_type": "stream",
     "text": [
      "\r",
      "  8%|██████▎                                                                        | 557/6922 [03:20<27:51,  3.81it/s]"
     ]
    },
    {
     "name": "stdout",
     "output_type": "stream",
     "text": [
      "Error\n"
     ]
    },
    {
     "name": "stderr",
     "output_type": "stream",
     "text": [
      "  8%|██████▍                                                                        | 559/6922 [03:20<28:47,  3.68it/s]"
     ]
    },
    {
     "name": "stdout",
     "output_type": "stream",
     "text": [
      "Error\n"
     ]
    },
    {
     "name": "stderr",
     "output_type": "stream",
     "text": [
      "\r",
      "  8%|██████▍                                                                        | 560/6922 [03:20<27:34,  3.85it/s]"
     ]
    },
    {
     "name": "stdout",
     "output_type": "stream",
     "text": [
      "Error\n"
     ]
    },
    {
     "name": "stderr",
     "output_type": "stream",
     "text": [
      "\r",
      "  8%|██████▍                                                                        | 561/6922 [03:21<27:59,  3.79it/s]"
     ]
    },
    {
     "name": "stdout",
     "output_type": "stream",
     "text": [
      "Error\n"
     ]
    },
    {
     "name": "stderr",
     "output_type": "stream",
     "text": [
      "\r",
      "  8%|██████▍                                                                        | 562/6922 [03:21<27:29,  3.86it/s]"
     ]
    },
    {
     "name": "stdout",
     "output_type": "stream",
     "text": [
      "Error\n"
     ]
    },
    {
     "name": "stderr",
     "output_type": "stream",
     "text": [
      "\r",
      "  8%|██████▍                                                                        | 563/6922 [03:21<28:31,  3.71it/s]"
     ]
    },
    {
     "name": "stdout",
     "output_type": "stream",
     "text": [
      "Error\n"
     ]
    },
    {
     "name": "stderr",
     "output_type": "stream",
     "text": [
      "\r",
      "  8%|██████▍                                                                        | 564/6922 [03:21<28:50,  3.67it/s]"
     ]
    },
    {
     "name": "stdout",
     "output_type": "stream",
     "text": [
      "Error\n"
     ]
    },
    {
     "name": "stderr",
     "output_type": "stream",
     "text": [
      " 13%|██████████▌                                                                    | 925/6922 [05:14<29:31,  3.38it/s]"
     ]
    },
    {
     "name": "stdout",
     "output_type": "stream",
     "text": [
      "Error\n"
     ]
    },
    {
     "name": "stderr",
     "output_type": "stream",
     "text": [
      "\r",
      " 13%|██████████▌                                                                    | 926/6922 [05:15<30:16,  3.30it/s]"
     ]
    },
    {
     "name": "stdout",
     "output_type": "stream",
     "text": [
      "Error\n"
     ]
    },
    {
     "name": "stderr",
     "output_type": "stream",
     "text": [
      " 22%|█████████████████▍                                                            | 1547/6922 [08:52<27:26,  3.26it/s]"
     ]
    },
    {
     "name": "stdout",
     "output_type": "stream",
     "text": [
      "Error\n"
     ]
    },
    {
     "name": "stderr",
     "output_type": "stream",
     "text": [
      " 23%|█████████████████▌                                                            | 1558/6922 [08:56<28:33,  3.13it/s]"
     ]
    },
    {
     "name": "stdout",
     "output_type": "stream",
     "text": [
      "Error\n"
     ]
    },
    {
     "name": "stderr",
     "output_type": "stream",
     "text": [
      " 25%|███████████████████▊                                                          | 1758/6922 [10:05<29:01,  2.97it/s]"
     ]
    },
    {
     "name": "stdout",
     "output_type": "stream",
     "text": [
      "Error\n"
     ]
    },
    {
     "name": "stderr",
     "output_type": "stream",
     "text": [
      " 26%|███████████████████▉                                                          | 1769/6922 [10:08<27:34,  3.11it/s]"
     ]
    },
    {
     "name": "stdout",
     "output_type": "stream",
     "text": [
      "Error\n"
     ]
    },
    {
     "name": "stderr",
     "output_type": "stream",
     "text": [
      " 26%|████████████████████                                                          | 1780/6922 [10:12<28:12,  3.04it/s]"
     ]
    },
    {
     "name": "stdout",
     "output_type": "stream",
     "text": [
      "Error\n"
     ]
    },
    {
     "name": "stderr",
     "output_type": "stream",
     "text": [
      " 26%|████████████████████▏                                                         | 1791/6922 [10:16<28:05,  3.05it/s]"
     ]
    },
    {
     "name": "stdout",
     "output_type": "stream",
     "text": [
      "Error\n"
     ]
    },
    {
     "name": "stderr",
     "output_type": "stream",
     "text": [
      " 26%|████████████████████▎                                                         | 1802/6922 [10:20<28:25,  3.00it/s]"
     ]
    },
    {
     "name": "stdout",
     "output_type": "stream",
     "text": [
      "Error\n"
     ]
    },
    {
     "name": "stderr",
     "output_type": "stream",
     "text": [
      " 26%|████████████████████▍                                                         | 1813/6922 [10:23<26:49,  3.17it/s]"
     ]
    },
    {
     "name": "stdout",
     "output_type": "stream",
     "text": [
      "Error\n"
     ]
    },
    {
     "name": "stderr",
     "output_type": "stream",
     "text": [
      " 26%|████████████████████▌                                                         | 1824/6922 [10:27<27:13,  3.12it/s]"
     ]
    },
    {
     "name": "stdout",
     "output_type": "stream",
     "text": [
      "Error\n"
     ]
    },
    {
     "name": "stderr",
     "output_type": "stream",
     "text": [
      " 27%|████████████████████▋                                                         | 1835/6922 [10:31<27:14,  3.11it/s]"
     ]
    },
    {
     "name": "stdout",
     "output_type": "stream",
     "text": [
      "Error\n"
     ]
    },
    {
     "name": "stderr",
     "output_type": "stream",
     "text": [
      " 27%|████████████████████▊                                                         | 1847/6922 [10:35<27:06,  3.12it/s]"
     ]
    },
    {
     "name": "stdout",
     "output_type": "stream",
     "text": [
      "Error\n"
     ]
    },
    {
     "name": "stderr",
     "output_type": "stream",
     "text": [
      " 27%|████████████████████▉                                                         | 1858/6922 [10:38<26:59,  3.13it/s]"
     ]
    },
    {
     "name": "stdout",
     "output_type": "stream",
     "text": [
      "Error\n"
     ]
    },
    {
     "name": "stderr",
     "output_type": "stream",
     "text": [
      " 42%|████████████████████████████████▋                                             | 2902/6922 [16:47<21:58,  3.05it/s]"
     ]
    },
    {
     "name": "stdout",
     "output_type": "stream",
     "text": [
      "Error\n"
     ]
    },
    {
     "name": "stderr",
     "output_type": "stream",
     "text": [
      " 42%|█████████████████████████████████                                             | 2935/6922 [16:59<23:08,  2.87it/s]"
     ]
    },
    {
     "name": "stdout",
     "output_type": "stream",
     "text": [
      "Error\n"
     ]
    },
    {
     "name": "stderr",
     "output_type": "stream",
     "text": [
      " 43%|█████████████████████████████████▏                                            | 2946/6922 [17:03<23:21,  2.84it/s]"
     ]
    },
    {
     "name": "stdout",
     "output_type": "stream",
     "text": [
      "Error\n"
     ]
    },
    {
     "name": "stderr",
     "output_type": "stream",
     "text": [
      " 43%|█████████████████████████████████▎                                            | 2958/6922 [17:07<21:56,  3.01it/s]"
     ]
    },
    {
     "name": "stdout",
     "output_type": "stream",
     "text": [
      "Error\n"
     ]
    },
    {
     "name": "stderr",
     "output_type": "stream",
     "text": [
      " 43%|█████████████████████████████████▌                                            | 2980/6922 [17:15<22:08,  2.97it/s]"
     ]
    },
    {
     "name": "stdout",
     "output_type": "stream",
     "text": [
      "Error\n"
     ]
    },
    {
     "name": "stderr",
     "output_type": "stream",
     "text": [
      " 43%|█████████████████████████████████▋                                            | 2991/6922 [17:19<22:52,  2.86it/s]"
     ]
    },
    {
     "name": "stdout",
     "output_type": "stream",
     "text": [
      "Error\n"
     ]
    },
    {
     "name": "stderr",
     "output_type": "stream",
     "text": [
      " 47%|████████████████████████████████████▊                                         | 3268/6922 [19:00<21:51,  2.79it/s]"
     ]
    },
    {
     "name": "stdout",
     "output_type": "stream",
     "text": [
      "Error\n"
     ]
    },
    {
     "name": "stderr",
     "output_type": "stream",
     "text": [
      " 57%|████████████████████████████████████████████▎                                 | 3935/6922 [23:06<17:46,  2.80it/s]"
     ]
    },
    {
     "name": "stdout",
     "output_type": "stream",
     "text": [
      "Error\n"
     ]
    },
    {
     "name": "stderr",
     "output_type": "stream",
     "text": [
      " 57%|████████████████████████████████████████████▋                                 | 3969/6922 [23:18<16:45,  2.94it/s]"
     ]
    },
    {
     "name": "stdout",
     "output_type": "stream",
     "text": [
      "Error\n"
     ]
    },
    {
     "name": "stderr",
     "output_type": "stream",
     "text": [
      " 57%|████████████████████████████████████████████▊                                 | 3980/6922 [23:22<17:57,  2.73it/s]"
     ]
    },
    {
     "name": "stdout",
     "output_type": "stream",
     "text": [
      "Error\n"
     ]
    },
    {
     "name": "stderr",
     "output_type": "stream",
     "text": [
      " 58%|█████████████████████████████████████████████                                 | 4002/6922 [23:30<17:25,  2.79it/s]"
     ]
    },
    {
     "name": "stdout",
     "output_type": "stream",
     "text": [
      "Error\n"
     ]
    },
    {
     "name": "stderr",
     "output_type": "stream",
     "text": [
      " 58%|█████████████████████████████████████████████▏                                | 4013/6922 [23:35<17:30,  2.77it/s]"
     ]
    },
    {
     "name": "stdout",
     "output_type": "stream",
     "text": [
      "Error\n"
     ]
    },
    {
     "name": "stderr",
     "output_type": "stream",
     "text": [
      " 58%|█████████████████████████████████████████████▎                                | 4024/6922 [23:39<16:51,  2.86it/s]"
     ]
    },
    {
     "name": "stdout",
     "output_type": "stream",
     "text": [
      "Error\n"
     ]
    },
    {
     "name": "stderr",
     "output_type": "stream",
     "text": [
      " 62%|████████████████████████████████████████████████▍                             | 4302/6922 [25:26<15:27,  2.83it/s]"
     ]
    },
    {
     "name": "stdout",
     "output_type": "stream",
     "text": [
      "Error\n"
     ]
    },
    {
     "name": "stderr",
     "output_type": "stream",
     "text": [
      " 62%|████████████████████████████████████████████████▌                             | 4313/6922 [25:30<16:48,  2.59it/s]"
     ]
    },
    {
     "name": "stdout",
     "output_type": "stream",
     "text": [
      "Error\n"
     ]
    },
    {
     "name": "stderr",
     "output_type": "stream",
     "text": [
      " 62%|████████████████████████████████████████████████▋                             | 4324/6922 [25:34<15:35,  2.78it/s]"
     ]
    },
    {
     "name": "stdout",
     "output_type": "stream",
     "text": [
      "Error\n"
     ]
    },
    {
     "name": "stderr",
     "output_type": "stream",
     "text": [
      " 63%|████████████████████████████████████████████████▊                             | 4335/6922 [25:38<15:22,  2.80it/s]"
     ]
    },
    {
     "name": "stdout",
     "output_type": "stream",
     "text": [
      "Error\n"
     ]
    },
    {
     "name": "stderr",
     "output_type": "stream",
     "text": [
      " 63%|████████████████████████████████████████████████▉                             | 4346/6922 [25:42<15:25,  2.78it/s]"
     ]
    },
    {
     "name": "stdout",
     "output_type": "stream",
     "text": [
      "Error\n"
     ]
    },
    {
     "name": "stderr",
     "output_type": "stream",
     "text": [
      " 63%|█████████████████████████████████████████████████                             | 4357/6922 [25:47<15:25,  2.77it/s]"
     ]
    },
    {
     "name": "stdout",
     "output_type": "stream",
     "text": [
      "Error\n"
     ]
    },
    {
     "name": "stderr",
     "output_type": "stream",
     "text": [
      " 63%|█████████████████████████████████████████████████▏                            | 4368/6922 [25:51<15:26,  2.76it/s]"
     ]
    },
    {
     "name": "stdout",
     "output_type": "stream",
     "text": [
      "Error\n"
     ]
    },
    {
     "name": "stderr",
     "output_type": "stream",
     "text": [
      " 63%|█████████████████████████████████████████████████▎                            | 4379/6922 [25:55<15:48,  2.68it/s]"
     ]
    },
    {
     "name": "stdout",
     "output_type": "stream",
     "text": [
      "Error\n"
     ]
    },
    {
     "name": "stderr",
     "output_type": "stream",
     "text": [
      " 63%|█████████████████████████████████████████████████▍                            | 4390/6922 [25:59<15:12,  2.78it/s]"
     ]
    },
    {
     "name": "stdout",
     "output_type": "stream",
     "text": [
      "Error\n"
     ]
    },
    {
     "name": "stderr",
     "output_type": "stream",
     "text": [
      " 64%|█████████████████████████████████████████████████▌                            | 4402/6922 [26:03<14:53,  2.82it/s]"
     ]
    },
    {
     "name": "stdout",
     "output_type": "stream",
     "text": [
      "Error\n"
     ]
    },
    {
     "name": "stderr",
     "output_type": "stream",
     "text": [
      " 64%|█████████████████████████████████████████████████▋                            | 4413/6922 [26:07<15:03,  2.78it/s]"
     ]
    },
    {
     "name": "stdout",
     "output_type": "stream",
     "text": [
      "Error\n"
     ]
    },
    {
     "name": "stderr",
     "output_type": "stream",
     "text": [
      " 64%|█████████████████████████████████████████████████▉                            | 4435/6922 [26:16<14:37,  2.84it/s]"
     ]
    },
    {
     "name": "stdout",
     "output_type": "stream",
     "text": [
      "Error\n"
     ]
    },
    {
     "name": "stderr",
     "output_type": "stream",
     "text": [
      " 64%|██████████████████████████████████████████████████                            | 4446/6922 [26:20<15:11,  2.72it/s]"
     ]
    },
    {
     "name": "stdout",
     "output_type": "stream",
     "text": [
      "Error\n"
     ]
    },
    {
     "name": "stderr",
     "output_type": "stream",
     "text": [
      " 64%|██████████████████████████████████████████████████▏                           | 4457/6922 [26:24<14:44,  2.79it/s]"
     ]
    },
    {
     "name": "stdout",
     "output_type": "stream",
     "text": [
      "Error\n"
     ]
    },
    {
     "name": "stderr",
     "output_type": "stream",
     "text": [
      " 65%|██████████████████████████████████████████████████▎                           | 4468/6922 [26:28<14:12,  2.88it/s]"
     ]
    },
    {
     "name": "stdout",
     "output_type": "stream",
     "text": [
      "Error\n"
     ]
    },
    {
     "name": "stderr",
     "output_type": "stream",
     "text": [
      " 65%|██████████████████████████████████████████████████▍                           | 4479/6922 [26:32<14:44,  2.76it/s]"
     ]
    },
    {
     "name": "stdout",
     "output_type": "stream",
     "text": [
      "Error\n"
     ]
    },
    {
     "name": "stderr",
     "output_type": "stream",
     "text": [
      " 74%|█████████████████████████████████████████████████████████▋                    | 5124/6922 [30:39<11:05,  2.70it/s]"
     ]
    },
    {
     "name": "stdout",
     "output_type": "stream",
     "text": [
      "Error\n"
     ]
    },
    {
     "name": "stderr",
     "output_type": "stream",
     "text": [
      " 74%|█████████████████████████████████████████████████████████▊                    | 5135/6922 [30:43<10:46,  2.76it/s]"
     ]
    },
    {
     "name": "stdout",
     "output_type": "stream",
     "text": [
      "Error\n"
     ]
    },
    {
     "name": "stderr",
     "output_type": "stream",
     "text": [
      " 74%|█████████████████████████████████████████████████████████▉                    | 5146/6922 [30:47<10:54,  2.71it/s]"
     ]
    },
    {
     "name": "stdout",
     "output_type": "stream",
     "text": [
      "Error\n"
     ]
    },
    {
     "name": "stderr",
     "output_type": "stream",
     "text": [
      " 75%|██████████████████████████████████████████████████████████                    | 5157/6922 [30:51<10:43,  2.74it/s]"
     ]
    },
    {
     "name": "stdout",
     "output_type": "stream",
     "text": [
      "Error\n"
     ]
    },
    {
     "name": "stderr",
     "output_type": "stream",
     "text": [
      " 75%|██████████████████████████████████████████████████████████▏                   | 5168/6922 [30:56<10:52,  2.69it/s]"
     ]
    },
    {
     "name": "stdout",
     "output_type": "stream",
     "text": [
      "Error\n"
     ]
    },
    {
     "name": "stderr",
     "output_type": "stream",
     "text": [
      " 75%|██████████████████████████████████████████████████████████▎                   | 5180/6922 [31:00<10:37,  2.73it/s]"
     ]
    },
    {
     "name": "stdout",
     "output_type": "stream",
     "text": [
      "Error\n"
     ]
    },
    {
     "name": "stderr",
     "output_type": "stream",
     "text": [
      " 75%|██████████████████████████████████████████████████████████▍                   | 5191/6922 [31:04<10:41,  2.70it/s]"
     ]
    },
    {
     "name": "stdout",
     "output_type": "stream",
     "text": [
      "Error\n"
     ]
    },
    {
     "name": "stderr",
     "output_type": "stream",
     "text": [
      " 75%|██████████████████████████████████████████████████████████▌                   | 5202/6922 [31:08<10:13,  2.80it/s]"
     ]
    },
    {
     "name": "stdout",
     "output_type": "stream",
     "text": [
      "Error\n"
     ]
    },
    {
     "name": "stderr",
     "output_type": "stream",
     "text": [
      " 75%|██████████████████████████████████████████████████████████▋                   | 5213/6922 [31:13<10:33,  2.70it/s]"
     ]
    },
    {
     "name": "stdout",
     "output_type": "stream",
     "text": [
      "Error\n"
     ]
    },
    {
     "name": "stderr",
     "output_type": "stream",
     "text": [
      " 75%|██████████████████████████████████████████████████████████▊                   | 5224/6922 [31:17<10:28,  2.70it/s]"
     ]
    },
    {
     "name": "stdout",
     "output_type": "stream",
     "text": [
      "Error\n"
     ]
    },
    {
     "name": "stderr",
     "output_type": "stream",
     "text": [
      " 76%|██████████████████████████████████████████████████████████▉                   | 5235/6922 [31:21<10:01,  2.80it/s]"
     ]
    },
    {
     "name": "stdout",
     "output_type": "stream",
     "text": [
      "Error\n"
     ]
    },
    {
     "name": "stderr",
     "output_type": "stream",
     "text": [
      " 76%|███████████████████████████████████████████████████████████                   | 5246/6922 [31:25<10:15,  2.72it/s]"
     ]
    },
    {
     "name": "stdout",
     "output_type": "stream",
     "text": [
      "Error\n"
     ]
    },
    {
     "name": "stderr",
     "output_type": "stream",
     "text": [
      " 76%|███████████████████████████████████████████████████████████▏                  | 5257/6922 [31:30<10:06,  2.74it/s]"
     ]
    },
    {
     "name": "stdout",
     "output_type": "stream",
     "text": [
      "Error\n"
     ]
    },
    {
     "name": "stderr",
     "output_type": "stream",
     "text": [
      " 76%|███████████████████████████████████████████████████████████▎                  | 5268/6922 [31:34<10:07,  2.72it/s]"
     ]
    },
    {
     "name": "stdout",
     "output_type": "stream",
     "text": [
      "Error\n"
     ]
    },
    {
     "name": "stderr",
     "output_type": "stream",
     "text": [
      " 76%|███████████████████████████████████████████████████████████▍                  | 5279/6922 [31:38<09:57,  2.75it/s]"
     ]
    },
    {
     "name": "stdout",
     "output_type": "stream",
     "text": [
      "Error\n"
     ]
    },
    {
     "name": "stderr",
     "output_type": "stream",
     "text": [
      " 76%|███████████████████████████████████████████████████████████▌                  | 5291/6922 [31:42<09:56,  2.73it/s]"
     ]
    },
    {
     "name": "stdout",
     "output_type": "stream",
     "text": [
      "Error\n"
     ]
    },
    {
     "name": "stderr",
     "output_type": "stream",
     "text": [
      " 77%|███████████████████████████████████████████████████████████▋                  | 5302/6922 [31:47<10:02,  2.69it/s]"
     ]
    },
    {
     "name": "stdout",
     "output_type": "stream",
     "text": [
      "Error\n"
     ]
    },
    {
     "name": "stderr",
     "output_type": "stream",
     "text": [
      " 77%|███████████████████████████████████████████████████████████▊                  | 5313/6922 [31:51<09:39,  2.78it/s]"
     ]
    },
    {
     "name": "stdout",
     "output_type": "stream",
     "text": [
      "Error\n"
     ]
    },
    {
     "name": "stderr",
     "output_type": "stream",
     "text": [
      " 77%|███████████████████████████████████████████████████████████▉                  | 5324/6922 [31:55<09:41,  2.75it/s]"
     ]
    },
    {
     "name": "stdout",
     "output_type": "stream",
     "text": [
      "Error\n"
     ]
    },
    {
     "name": "stderr",
     "output_type": "stream",
     "text": [
      " 77%|████████████████████████████████████████████████████████████                  | 5335/6922 [31:59<09:52,  2.68it/s]"
     ]
    },
    {
     "name": "stdout",
     "output_type": "stream",
     "text": [
      "Error\n"
     ]
    },
    {
     "name": "stderr",
     "output_type": "stream",
     "text": [
      " 77%|████████████████████████████████████████████████████████████▏                 | 5346/6922 [32:03<09:18,  2.82it/s]"
     ]
    },
    {
     "name": "stdout",
     "output_type": "stream",
     "text": [
      "Error\n"
     ]
    },
    {
     "name": "stderr",
     "output_type": "stream",
     "text": [
      " 77%|████████████████████████████████████████████████████████████▎                 | 5357/6922 [32:07<09:11,  2.84it/s]"
     ]
    },
    {
     "name": "stdout",
     "output_type": "stream",
     "text": [
      "Error\n"
     ]
    },
    {
     "name": "stderr",
     "output_type": "stream",
     "text": [
      " 78%|████████████████████████████████████████████████████████████▍                 | 5368/6922 [32:11<09:05,  2.85it/s]"
     ]
    },
    {
     "name": "stdout",
     "output_type": "stream",
     "text": [
      "Error\n"
     ]
    },
    {
     "name": "stderr",
     "output_type": "stream",
     "text": [
      " 78%|████████████████████████████████████████████████████████████▌                 | 5379/6922 [32:15<08:50,  2.91it/s]"
     ]
    },
    {
     "name": "stdout",
     "output_type": "stream",
     "text": [
      "Error\n"
     ]
    },
    {
     "name": "stderr",
     "output_type": "stream",
     "text": [
      " 78%|████████████████████████████████████████████████████████████▋                 | 5390/6922 [32:20<09:30,  2.69it/s]"
     ]
    },
    {
     "name": "stdout",
     "output_type": "stream",
     "text": [
      "Error\n"
     ]
    },
    {
     "name": "stderr",
     "output_type": "stream",
     "text": [
      " 78%|████████████████████████████████████████████████████████████▊                 | 5402/6922 [32:24<09:36,  2.64it/s]"
     ]
    },
    {
     "name": "stdout",
     "output_type": "stream",
     "text": [
      "Error\n"
     ]
    },
    {
     "name": "stderr",
     "output_type": "stream",
     "text": [
      " 78%|████████████████████████████████████████████████████████████▉                 | 5413/6922 [32:28<09:14,  2.72it/s]"
     ]
    },
    {
     "name": "stdout",
     "output_type": "stream",
     "text": [
      "Error\n"
     ]
    },
    {
     "name": "stderr",
     "output_type": "stream",
     "text": [
      " 78%|█████████████████████████████████████████████████████████████                 | 5424/6922 [32:33<08:59,  2.78it/s]"
     ]
    },
    {
     "name": "stdout",
     "output_type": "stream",
     "text": [
      "Error\n"
     ]
    },
    {
     "name": "stderr",
     "output_type": "stream",
     "text": [
      " 79%|█████████████████████████████████████████████████████████████▏                | 5435/6922 [32:37<09:10,  2.70it/s]"
     ]
    },
    {
     "name": "stdout",
     "output_type": "stream",
     "text": [
      "Error\n"
     ]
    },
    {
     "name": "stderr",
     "output_type": "stream",
     "text": [
      " 79%|█████████████████████████████████████████████████████████████▎                | 5446/6922 [32:41<09:06,  2.70it/s]"
     ]
    },
    {
     "name": "stdout",
     "output_type": "stream",
     "text": [
      "Error\n"
     ]
    },
    {
     "name": "stderr",
     "output_type": "stream",
     "text": [
      " 79%|█████████████████████████████████████████████████████████████▍                | 5457/6922 [32:45<08:46,  2.78it/s]"
     ]
    },
    {
     "name": "stdout",
     "output_type": "stream",
     "text": [
      "Error\n"
     ]
    },
    {
     "name": "stderr",
     "output_type": "stream",
     "text": [
      " 79%|█████████████████████████████████████████████████████████████▌                | 5468/6922 [32:49<08:46,  2.76it/s]"
     ]
    },
    {
     "name": "stdout",
     "output_type": "stream",
     "text": [
      "Error\n"
     ]
    },
    {
     "name": "stderr",
     "output_type": "stream",
     "text": [
      " 79%|█████████████████████████████████████████████████████████████▋                | 5479/6922 [32:53<08:46,  2.74it/s]"
     ]
    },
    {
     "name": "stdout",
     "output_type": "stream",
     "text": [
      "Error\n"
     ]
    },
    {
     "name": "stderr",
     "output_type": "stream",
     "text": [
      " 80%|██████████████████████████████████████████████████████████████                | 5513/6922 [33:06<08:51,  2.65it/s]"
     ]
    },
    {
     "name": "stdout",
     "output_type": "stream",
     "text": [
      "Error\n"
     ]
    },
    {
     "name": "stderr",
     "output_type": "stream",
     "text": [
      " 80%|██████████████████████████████████████████████████████████████▏               | 5524/6922 [33:11<08:30,  2.74it/s]"
     ]
    },
    {
     "name": "stdout",
     "output_type": "stream",
     "text": [
      "Error\n"
     ]
    },
    {
     "name": "stderr",
     "output_type": "stream",
     "text": [
      " 80%|██████████████████████████████████████████████████████████████▎               | 5535/6922 [33:15<08:18,  2.78it/s]"
     ]
    },
    {
     "name": "stdout",
     "output_type": "stream",
     "text": [
      "Error\n"
     ]
    },
    {
     "name": "stderr",
     "output_type": "stream",
     "text": [
      " 96%|███████████████████████████████████████████████████████████████████████████   | 6664/6922 [40:33<01:34,  2.74it/s]"
     ]
    },
    {
     "name": "stdout",
     "output_type": "stream",
     "text": [
      "Error\n"
     ]
    },
    {
     "name": "stderr",
     "output_type": "stream",
     "text": [
      "\r",
      " 96%|███████████████████████████████████████████████████████████████████████████   | 6665/6922 [40:33<01:30,  2.83it/s]"
     ]
    },
    {
     "name": "stdout",
     "output_type": "stream",
     "text": [
      "Error\n"
     ]
    },
    {
     "name": "stderr",
     "output_type": "stream",
     "text": [
      " 96%|███████████████████████████████████████████████████████████████████████████▏  | 6667/6922 [40:34<01:30,  2.82it/s]"
     ]
    },
    {
     "name": "stdout",
     "output_type": "stream",
     "text": [
      "Error\n"
     ]
    },
    {
     "name": "stderr",
     "output_type": "stream",
     "text": [
      "\r",
      " 96%|███████████████████████████████████████████████████████████████████████████▏  | 6668/6922 [40:34<01:26,  2.92it/s]"
     ]
    },
    {
     "name": "stdout",
     "output_type": "stream",
     "text": [
      "Error\n"
     ]
    },
    {
     "name": "stderr",
     "output_type": "stream",
     "text": [
      "\r",
      " 96%|███████████████████████████████████████████████████████████████████████████▏  | 6669/6922 [40:34<01:24,  3.01it/s]"
     ]
    },
    {
     "name": "stdout",
     "output_type": "stream",
     "text": [
      "Error\n"
     ]
    },
    {
     "name": "stderr",
     "output_type": "stream",
     "text": [
      "\r",
      " 96%|███████████████████████████████████████████████████████████████████████████▏  | 6670/6922 [40:35<01:26,  2.90it/s]"
     ]
    },
    {
     "name": "stdout",
     "output_type": "stream",
     "text": [
      "Error\n"
     ]
    },
    {
     "name": "stderr",
     "output_type": "stream",
     "text": [
      "\r",
      " 96%|███████████████████████████████████████████████████████████████████████████▏  | 6671/6922 [40:35<01:23,  3.01it/s]"
     ]
    },
    {
     "name": "stdout",
     "output_type": "stream",
     "text": [
      "Error\n"
     ]
    },
    {
     "name": "stderr",
     "output_type": "stream",
     "text": [
      "\r",
      " 96%|███████████████████████████████████████████████████████████████████████████▏  | 6672/6922 [40:35<01:25,  2.94it/s]"
     ]
    },
    {
     "name": "stdout",
     "output_type": "stream",
     "text": [
      "Error\n"
     ]
    },
    {
     "name": "stderr",
     "output_type": "stream",
     "text": [
      "\r",
      " 96%|███████████████████████████████████████████████████████████████████████████▏  | 6673/6922 [40:36<01:25,  2.91it/s]"
     ]
    },
    {
     "name": "stdout",
     "output_type": "stream",
     "text": [
      "Error\n"
     ]
    },
    {
     "name": "stderr",
     "output_type": "stream",
     "text": [
      "\r",
      " 96%|███████████████████████████████████████████████████████████████████████████▏  | 6674/6922 [40:36<01:23,  2.96it/s]"
     ]
    },
    {
     "name": "stdout",
     "output_type": "stream",
     "text": [
      "Error\n"
     ]
    },
    {
     "name": "stderr",
     "output_type": "stream",
     "text": [
      "\r",
      " 96%|███████████████████████████████████████████████████████████████████████████▏  | 6675/6922 [40:36<01:19,  3.10it/s]"
     ]
    },
    {
     "name": "stdout",
     "output_type": "stream",
     "text": [
      "Error\n"
     ]
    },
    {
     "name": "stderr",
     "output_type": "stream",
     "text": [
      "\r",
      " 96%|███████████████████████████████████████████████████████████████████████████▏  | 6676/6922 [40:37<01:19,  3.09it/s]"
     ]
    },
    {
     "name": "stdout",
     "output_type": "stream",
     "text": [
      "Error\n"
     ]
    },
    {
     "name": "stderr",
     "output_type": "stream",
     "text": [
      " 96%|███████████████████████████████████████████████████████████████████████████▎  | 6678/6922 [40:37<01:23,  2.93it/s]"
     ]
    },
    {
     "name": "stdout",
     "output_type": "stream",
     "text": [
      "Error\n"
     ]
    },
    {
     "name": "stderr",
     "output_type": "stream",
     "text": [
      "\r",
      " 96%|███████████████████████████████████████████████████████████████████████████▎  | 6679/6922 [40:38<01:22,  2.96it/s]"
     ]
    },
    {
     "name": "stdout",
     "output_type": "stream",
     "text": [
      "Error\n"
     ]
    },
    {
     "name": "stderr",
     "output_type": "stream",
     "text": [
      "\r",
      " 97%|███████████████████████████████████████████████████████████████████████████▎  | 6680/6922 [40:38<01:21,  2.98it/s]"
     ]
    },
    {
     "name": "stdout",
     "output_type": "stream",
     "text": [
      "Error\n"
     ]
    },
    {
     "name": "stderr",
     "output_type": "stream",
     "text": [
      "\r",
      " 97%|███████████████████████████████████████████████████████████████████████████▎  | 6681/6922 [40:38<01:19,  3.04it/s]"
     ]
    },
    {
     "name": "stdout",
     "output_type": "stream",
     "text": [
      "Error\n"
     ]
    },
    {
     "name": "stderr",
     "output_type": "stream",
     "text": [
      "\r",
      " 97%|███████████████████████████████████████████████████████████████████████████▎  | 6682/6922 [40:39<01:17,  3.10it/s]"
     ]
    },
    {
     "name": "stdout",
     "output_type": "stream",
     "text": [
      "Error\n"
     ]
    },
    {
     "name": "stderr",
     "output_type": "stream",
     "text": [
      "\r",
      " 97%|███████████████████████████████████████████████████████████████████████████▎  | 6683/6922 [40:39<01:18,  3.05it/s]"
     ]
    },
    {
     "name": "stdout",
     "output_type": "stream",
     "text": [
      "Error\n"
     ]
    },
    {
     "name": "stderr",
     "output_type": "stream",
     "text": [
      "\r",
      " 97%|███████████████████████████████████████████████████████████████████████████▎  | 6684/6922 [40:39<01:18,  3.02it/s]"
     ]
    },
    {
     "name": "stdout",
     "output_type": "stream",
     "text": [
      "Error\n"
     ]
    },
    {
     "name": "stderr",
     "output_type": "stream",
     "text": [
      "\r",
      " 97%|███████████████████████████████████████████████████████████████████████████▎  | 6685/6922 [40:40<01:18,  3.03it/s]"
     ]
    },
    {
     "name": "stdout",
     "output_type": "stream",
     "text": [
      "Error\n"
     ]
    },
    {
     "name": "stderr",
     "output_type": "stream",
     "text": [
      "\r",
      " 97%|███████████████████████████████████████████████████████████████████████████▎  | 6686/6922 [40:40<01:21,  2.91it/s]"
     ]
    },
    {
     "name": "stdout",
     "output_type": "stream",
     "text": [
      "Error\n"
     ]
    },
    {
     "name": "stderr",
     "output_type": "stream",
     "text": [
      "\r",
      " 97%|███████████████████████████████████████████████████████████████████████████▎  | 6687/6922 [40:40<01:17,  3.02it/s]"
     ]
    },
    {
     "name": "stdout",
     "output_type": "stream",
     "text": [
      "Error\n"
     ]
    },
    {
     "name": "stderr",
     "output_type": "stream",
     "text": [
      " 97%|███████████████████████████████████████████████████████████████████████████▎  | 6689/6922 [40:41<01:21,  2.87it/s]"
     ]
    },
    {
     "name": "stdout",
     "output_type": "stream",
     "text": [
      "Error\n"
     ]
    },
    {
     "name": "stderr",
     "output_type": "stream",
     "text": [
      "\r",
      " 97%|███████████████████████████████████████████████████████████████████████████▍  | 6690/6922 [40:42<01:22,  2.82it/s]"
     ]
    },
    {
     "name": "stdout",
     "output_type": "stream",
     "text": [
      "Error\n"
     ]
    },
    {
     "name": "stderr",
     "output_type": "stream",
     "text": [
      "\r",
      " 97%|███████████████████████████████████████████████████████████████████████████▍  | 6691/6922 [40:42<01:20,  2.88it/s]"
     ]
    },
    {
     "name": "stdout",
     "output_type": "stream",
     "text": [
      "Error\n"
     ]
    },
    {
     "name": "stderr",
     "output_type": "stream",
     "text": [
      "\r",
      " 97%|███████████████████████████████████████████████████████████████████████████▍  | 6692/6922 [40:42<01:18,  2.94it/s]"
     ]
    },
    {
     "name": "stdout",
     "output_type": "stream",
     "text": [
      "Error\n"
     ]
    },
    {
     "name": "stderr",
     "output_type": "stream",
     "text": [
      "\r",
      " 97%|███████████████████████████████████████████████████████████████████████████▍  | 6693/6922 [40:42<01:17,  2.96it/s]"
     ]
    },
    {
     "name": "stdout",
     "output_type": "stream",
     "text": [
      "Error\n"
     ]
    },
    {
     "name": "stderr",
     "output_type": "stream",
     "text": [
      "\r",
      " 97%|███████████████████████████████████████████████████████████████████████████▍  | 6694/6922 [40:43<01:17,  2.93it/s]"
     ]
    },
    {
     "name": "stdout",
     "output_type": "stream",
     "text": [
      "Error\n"
     ]
    },
    {
     "name": "stderr",
     "output_type": "stream",
     "text": [
      "\r",
      " 97%|███████████████████████████████████████████████████████████████████████████▍  | 6695/6922 [40:43<01:16,  2.95it/s]"
     ]
    },
    {
     "name": "stdout",
     "output_type": "stream",
     "text": [
      "Error\n"
     ]
    },
    {
     "name": "stderr",
     "output_type": "stream",
     "text": [
      "\r",
      " 97%|███████████████████████████████████████████████████████████████████████████▍  | 6696/6922 [40:44<01:16,  2.95it/s]"
     ]
    },
    {
     "name": "stdout",
     "output_type": "stream",
     "text": [
      "Error\n"
     ]
    },
    {
     "name": "stderr",
     "output_type": "stream",
     "text": [
      "\r",
      " 97%|███████████████████████████████████████████████████████████████████████████▍  | 6697/6922 [40:44<01:16,  2.95it/s]"
     ]
    },
    {
     "name": "stdout",
     "output_type": "stream",
     "text": [
      "Error\n"
     ]
    },
    {
     "name": "stderr",
     "output_type": "stream",
     "text": [
      "\r",
      " 97%|███████████████████████████████████████████████████████████████████████████▍  | 6698/6922 [40:44<01:15,  2.98it/s]"
     ]
    },
    {
     "name": "stdout",
     "output_type": "stream",
     "text": [
      "Error\n"
     ]
    },
    {
     "name": "stderr",
     "output_type": "stream",
     "text": [
      " 97%|███████████████████████████████████████████████████████████████████████████▌  | 6701/6922 [40:45<01:18,  2.83it/s]"
     ]
    },
    {
     "name": "stdout",
     "output_type": "stream",
     "text": [
      "Error\n"
     ]
    },
    {
     "name": "stderr",
     "output_type": "stream",
     "text": [
      "\r",
      " 97%|███████████████████████████████████████████████████████████████████████████▌  | 6702/6922 [40:46<01:17,  2.83it/s]"
     ]
    },
    {
     "name": "stdout",
     "output_type": "stream",
     "text": [
      "Error\n"
     ]
    },
    {
     "name": "stderr",
     "output_type": "stream",
     "text": [
      "\r",
      " 97%|███████████████████████████████████████████████████████████████████████████▌  | 6703/6922 [40:46<01:17,  2.83it/s]"
     ]
    },
    {
     "name": "stdout",
     "output_type": "stream",
     "text": [
      "Error\n"
     ]
    },
    {
     "name": "stderr",
     "output_type": "stream",
     "text": [
      "\r",
      " 97%|███████████████████████████████████████████████████████████████████████████▌  | 6704/6922 [40:46<01:15,  2.89it/s]"
     ]
    },
    {
     "name": "stdout",
     "output_type": "stream",
     "text": [
      "Error\n"
     ]
    },
    {
     "name": "stderr",
     "output_type": "stream",
     "text": [
      "\r",
      " 97%|███████████████████████████████████████████████████████████████████████████▌  | 6705/6922 [40:47<01:15,  2.86it/s]"
     ]
    },
    {
     "name": "stdout",
     "output_type": "stream",
     "text": [
      "Error\n"
     ]
    },
    {
     "name": "stderr",
     "output_type": "stream",
     "text": [
      "\r",
      " 97%|███████████████████████████████████████████████████████████████████████████▌  | 6706/6922 [40:47<01:15,  2.86it/s]"
     ]
    },
    {
     "name": "stdout",
     "output_type": "stream",
     "text": [
      "Error\n"
     ]
    },
    {
     "name": "stderr",
     "output_type": "stream",
     "text": [
      "\r",
      " 97%|███████████████████████████████████████████████████████████████████████████▌  | 6707/6922 [40:47<01:12,  2.96it/s]"
     ]
    },
    {
     "name": "stdout",
     "output_type": "stream",
     "text": [
      "Error\n"
     ]
    },
    {
     "name": "stderr",
     "output_type": "stream",
     "text": [
      "\r",
      " 97%|███████████████████████████████████████████████████████████████████████████▌  | 6708/6922 [40:48<01:11,  3.00it/s]"
     ]
    },
    {
     "name": "stdout",
     "output_type": "stream",
     "text": [
      "Error\n"
     ]
    },
    {
     "name": "stderr",
     "output_type": "stream",
     "text": [
      "\r",
      " 97%|███████████████████████████████████████████████████████████████████████████▌  | 6709/6922 [40:48<01:09,  3.08it/s]"
     ]
    },
    {
     "name": "stdout",
     "output_type": "stream",
     "text": [
      "Error\n"
     ]
    },
    {
     "name": "stderr",
     "output_type": "stream",
     "text": [
      "\r",
      " 97%|███████████████████████████████████████████████████████████████████████████▌  | 6710/6922 [40:48<01:07,  3.14it/s]"
     ]
    },
    {
     "name": "stdout",
     "output_type": "stream",
     "text": [
      "Error\n"
     ]
    },
    {
     "name": "stderr",
     "output_type": "stream",
     "text": [
      " 97%|███████████████████████████████████████████████████████████████████████████▋  | 6712/6922 [40:49<01:11,  2.93it/s]"
     ]
    },
    {
     "name": "stdout",
     "output_type": "stream",
     "text": [
      "Error\n"
     ]
    },
    {
     "name": "stderr",
     "output_type": "stream",
     "text": [
      "\r",
      " 97%|███████████████████████████████████████████████████████████████████████████▋  | 6713/6922 [40:49<01:09,  3.02it/s]"
     ]
    },
    {
     "name": "stdout",
     "output_type": "stream",
     "text": [
      "Error\n"
     ]
    },
    {
     "name": "stderr",
     "output_type": "stream",
     "text": [
      "\r",
      " 97%|███████████████████████████████████████████████████████████████████████████▋  | 6714/6922 [40:50<01:09,  2.98it/s]"
     ]
    },
    {
     "name": "stdout",
     "output_type": "stream",
     "text": [
      "Error\n"
     ]
    },
    {
     "name": "stderr",
     "output_type": "stream",
     "text": [
      "\r",
      " 97%|███████████████████████████████████████████████████████████████████████████▋  | 6715/6922 [40:50<01:09,  2.99it/s]"
     ]
    },
    {
     "name": "stdout",
     "output_type": "stream",
     "text": [
      "Error\n"
     ]
    },
    {
     "name": "stderr",
     "output_type": "stream",
     "text": [
      "\r",
      " 97%|███████████████████████████████████████████████████████████████████████████▋  | 6716/6922 [40:50<01:07,  3.07it/s]"
     ]
    },
    {
     "name": "stdout",
     "output_type": "stream",
     "text": [
      "Error\n"
     ]
    },
    {
     "name": "stderr",
     "output_type": "stream",
     "text": [
      "\r",
      " 97%|███████████████████████████████████████████████████████████████████████████▋  | 6717/6922 [40:51<01:06,  3.06it/s]"
     ]
    },
    {
     "name": "stdout",
     "output_type": "stream",
     "text": [
      "Error\n"
     ]
    },
    {
     "name": "stderr",
     "output_type": "stream",
     "text": [
      "\r",
      " 97%|███████████████████████████████████████████████████████████████████████████▋  | 6718/6922 [40:51<01:08,  3.00it/s]"
     ]
    },
    {
     "name": "stdout",
     "output_type": "stream",
     "text": [
      "Error\n"
     ]
    },
    {
     "name": "stderr",
     "output_type": "stream",
     "text": [
      "\r",
      " 97%|███████████████████████████████████████████████████████████████████████████▋  | 6719/6922 [40:51<01:07,  3.02it/s]"
     ]
    },
    {
     "name": "stdout",
     "output_type": "stream",
     "text": [
      "Error\n"
     ]
    },
    {
     "name": "stderr",
     "output_type": "stream",
     "text": [
      "\r",
      " 97%|███████████████████████████████████████████████████████████████████████████▋  | 6720/6922 [40:52<01:07,  3.01it/s]"
     ]
    },
    {
     "name": "stdout",
     "output_type": "stream",
     "text": [
      "Error\n"
     ]
    },
    {
     "name": "stderr",
     "output_type": "stream",
     "text": [
      "\r",
      " 97%|███████████████████████████████████████████████████████████████████████████▋  | 6721/6922 [40:52<01:05,  3.05it/s]"
     ]
    },
    {
     "name": "stdout",
     "output_type": "stream",
     "text": [
      "Error\n"
     ]
    },
    {
     "name": "stderr",
     "output_type": "stream",
     "text": [
      " 97%|███████████████████████████████████████████████████████████████████████████▊  | 6723/6922 [40:53<01:06,  3.00it/s]"
     ]
    },
    {
     "name": "stdout",
     "output_type": "stream",
     "text": [
      "Error\n"
     ]
    },
    {
     "name": "stderr",
     "output_type": "stream",
     "text": [
      "\r",
      " 97%|███████████████████████████████████████████████████████████████████████████▊  | 6724/6922 [40:53<01:06,  2.99it/s]"
     ]
    },
    {
     "name": "stdout",
     "output_type": "stream",
     "text": [
      "Error\n"
     ]
    },
    {
     "name": "stderr",
     "output_type": "stream",
     "text": [
      "\r",
      " 97%|███████████████████████████████████████████████████████████████████████████▊  | 6725/6922 [40:53<01:05,  3.02it/s]"
     ]
    },
    {
     "name": "stdout",
     "output_type": "stream",
     "text": [
      "Error\n"
     ]
    },
    {
     "name": "stderr",
     "output_type": "stream",
     "text": [
      "\r",
      " 97%|███████████████████████████████████████████████████████████████████████████▊  | 6726/6922 [40:54<01:04,  3.04it/s]"
     ]
    },
    {
     "name": "stdout",
     "output_type": "stream",
     "text": [
      "Error\n"
     ]
    },
    {
     "name": "stderr",
     "output_type": "stream",
     "text": [
      "\r",
      " 97%|███████████████████████████████████████████████████████████████████████████▊  | 6727/6922 [40:54<01:04,  3.05it/s]"
     ]
    },
    {
     "name": "stdout",
     "output_type": "stream",
     "text": [
      "Error\n"
     ]
    },
    {
     "name": "stderr",
     "output_type": "stream",
     "text": [
      "\r",
      " 97%|███████████████████████████████████████████████████████████████████████████▊  | 6728/6922 [40:54<01:05,  2.97it/s]"
     ]
    },
    {
     "name": "stdout",
     "output_type": "stream",
     "text": [
      "Error\n"
     ]
    },
    {
     "name": "stderr",
     "output_type": "stream",
     "text": [
      " 97%|███████████████████████████████████████████████████████████████████████████▉  | 6742/6922 [41:00<01:09,  2.60it/s]"
     ]
    },
    {
     "name": "stdout",
     "output_type": "stream",
     "text": [
      "Error\n"
     ]
    },
    {
     "name": "stderr",
     "output_type": "stream",
     "text": [
      "\r",
      " 97%|███████████████████████████████████████████████████████████████████████████▉  | 6743/6922 [41:00<01:05,  2.72it/s]"
     ]
    },
    {
     "name": "stdout",
     "output_type": "stream",
     "text": [
      "Error\n"
     ]
    },
    {
     "name": "stderr",
     "output_type": "stream",
     "text": [
      " 97%|████████████████████████████████████████████████████████████████████████████  | 6745/6922 [41:01<01:03,  2.79it/s]"
     ]
    },
    {
     "name": "stdout",
     "output_type": "stream",
     "text": [
      "Error\n"
     ]
    },
    {
     "name": "stderr",
     "output_type": "stream",
     "text": [
      "\r",
      " 97%|████████████████████████████████████████████████████████████████████████████  | 6746/6922 [41:01<01:01,  2.87it/s]"
     ]
    },
    {
     "name": "stdout",
     "output_type": "stream",
     "text": [
      "Error\n"
     ]
    },
    {
     "name": "stderr",
     "output_type": "stream",
     "text": [
      "\r",
      " 97%|████████████████████████████████████████████████████████████████████████████  | 6747/6922 [41:01<00:59,  2.96it/s]"
     ]
    },
    {
     "name": "stdout",
     "output_type": "stream",
     "text": [
      "Error\n"
     ]
    },
    {
     "name": "stderr",
     "output_type": "stream",
     "text": [
      "\r",
      " 97%|████████████████████████████████████████████████████████████████████████████  | 6748/6922 [41:02<00:59,  2.94it/s]"
     ]
    },
    {
     "name": "stdout",
     "output_type": "stream",
     "text": [
      "Error\n"
     ]
    },
    {
     "name": "stderr",
     "output_type": "stream",
     "text": [
      "\r",
      " 98%|████████████████████████████████████████████████████████████████████████████  | 6749/6922 [41:02<00:58,  2.97it/s]"
     ]
    },
    {
     "name": "stdout",
     "output_type": "stream",
     "text": [
      "Error\n"
     ]
    },
    {
     "name": "stderr",
     "output_type": "stream",
     "text": [
      "\r",
      " 98%|████████████████████████████████████████████████████████████████████████████  | 6750/6922 [41:02<00:57,  3.01it/s]"
     ]
    },
    {
     "name": "stdout",
     "output_type": "stream",
     "text": [
      "Error\n"
     ]
    },
    {
     "name": "stderr",
     "output_type": "stream",
     "text": [
      "\r",
      " 98%|████████████████████████████████████████████████████████████████████████████  | 6751/6922 [41:03<00:57,  2.98it/s]"
     ]
    },
    {
     "name": "stdout",
     "output_type": "stream",
     "text": [
      "Error\n"
     ]
    },
    {
     "name": "stderr",
     "output_type": "stream",
     "text": [
      "\r",
      " 98%|████████████████████████████████████████████████████████████████████████████  | 6752/6922 [41:03<00:56,  2.99it/s]"
     ]
    },
    {
     "name": "stdout",
     "output_type": "stream",
     "text": [
      "Error\n"
     ]
    },
    {
     "name": "stderr",
     "output_type": "stream",
     "text": [
      "\r",
      " 98%|████████████████████████████████████████████████████████████████████████████  | 6753/6922 [41:03<00:54,  3.10it/s]"
     ]
    },
    {
     "name": "stdout",
     "output_type": "stream",
     "text": [
      "Error\n"
     ]
    },
    {
     "name": "stderr",
     "output_type": "stream",
     "text": [
      "\r",
      " 98%|████████████████████████████████████████████████████████████████████████████  | 6754/6922 [41:04<00:53,  3.16it/s]"
     ]
    },
    {
     "name": "stdout",
     "output_type": "stream",
     "text": [
      "Error\n"
     ]
    },
    {
     "name": "stderr",
     "output_type": "stream",
     "text": [
      " 98%|████████████████████████████████████████████████████████████████████████████▏ | 6756/6922 [41:04<00:55,  3.01it/s]"
     ]
    },
    {
     "name": "stdout",
     "output_type": "stream",
     "text": [
      "Error\n"
     ]
    },
    {
     "name": "stderr",
     "output_type": "stream",
     "text": [
      "\r",
      " 98%|████████████████████████████████████████████████████████████████████████████▏ | 6757/6922 [41:05<00:54,  3.01it/s]"
     ]
    },
    {
     "name": "stdout",
     "output_type": "stream",
     "text": [
      "Error\n"
     ]
    },
    {
     "name": "stderr",
     "output_type": "stream",
     "text": [
      "\r",
      " 98%|████████████████████████████████████████████████████████████████████████████▏ | 6758/6922 [41:05<00:54,  3.01it/s]"
     ]
    },
    {
     "name": "stdout",
     "output_type": "stream",
     "text": [
      "Error\n"
     ]
    },
    {
     "name": "stderr",
     "output_type": "stream",
     "text": [
      "\r",
      " 98%|████████████████████████████████████████████████████████████████████████████▏ | 6759/6922 [41:05<00:52,  3.08it/s]"
     ]
    },
    {
     "name": "stdout",
     "output_type": "stream",
     "text": [
      "Error\n"
     ]
    },
    {
     "name": "stderr",
     "output_type": "stream",
     "text": [
      "\r",
      " 98%|████████████████████████████████████████████████████████████████████████████▏ | 6760/6922 [41:06<00:52,  3.11it/s]"
     ]
    },
    {
     "name": "stdout",
     "output_type": "stream",
     "text": [
      "Error\n"
     ]
    },
    {
     "name": "stderr",
     "output_type": "stream",
     "text": [
      "\r",
      " 98%|████████████████████████████████████████████████████████████████████████████▏ | 6761/6922 [41:06<00:52,  3.07it/s]"
     ]
    },
    {
     "name": "stdout",
     "output_type": "stream",
     "text": [
      "Error\n"
     ]
    },
    {
     "name": "stderr",
     "output_type": "stream",
     "text": [
      "\r",
      " 98%|████████████████████████████████████████████████████████████████████████████▏ | 6762/6922 [41:06<00:53,  2.99it/s]"
     ]
    },
    {
     "name": "stdout",
     "output_type": "stream",
     "text": [
      "Error\n"
     ]
    },
    {
     "name": "stderr",
     "output_type": "stream",
     "text": [
      "\r",
      " 98%|████████████████████████████████████████████████████████████████████████████▏ | 6763/6922 [41:07<00:52,  3.02it/s]"
     ]
    },
    {
     "name": "stdout",
     "output_type": "stream",
     "text": [
      "Error\n"
     ]
    },
    {
     "name": "stderr",
     "output_type": "stream",
     "text": [
      "\r",
      " 98%|████████████████████████████████████████████████████████████████████████████▏ | 6764/6922 [41:07<00:51,  3.07it/s]"
     ]
    },
    {
     "name": "stdout",
     "output_type": "stream",
     "text": [
      "Error\n"
     ]
    },
    {
     "name": "stderr",
     "output_type": "stream",
     "text": [
      "\r",
      " 98%|████████████████████████████████████████████████████████████████████████████▏ | 6765/6922 [41:07<00:51,  3.03it/s]"
     ]
    },
    {
     "name": "stdout",
     "output_type": "stream",
     "text": [
      "Error\n"
     ]
    },
    {
     "name": "stderr",
     "output_type": "stream",
     "text": [
      " 98%|████████████████████████████████████████████████████████████████████████████▎ | 6767/6922 [41:08<00:52,  2.95it/s]"
     ]
    },
    {
     "name": "stdout",
     "output_type": "stream",
     "text": [
      "Error\n"
     ]
    },
    {
     "name": "stderr",
     "output_type": "stream",
     "text": [
      "\r",
      " 98%|████████████████████████████████████████████████████████████████████████████▎ | 6768/6922 [41:08<00:53,  2.89it/s]"
     ]
    },
    {
     "name": "stdout",
     "output_type": "stream",
     "text": [
      "Error\n"
     ]
    },
    {
     "name": "stderr",
     "output_type": "stream",
     "text": [
      "\r",
      " 98%|████████████████████████████████████████████████████████████████████████████▎ | 6769/6922 [41:09<00:50,  3.03it/s]"
     ]
    },
    {
     "name": "stdout",
     "output_type": "stream",
     "text": [
      "Error\n"
     ]
    },
    {
     "name": "stderr",
     "output_type": "stream",
     "text": [
      "\r",
      " 98%|████████████████████████████████████████████████████████████████████████████▎ | 6770/6922 [41:09<00:50,  3.00it/s]"
     ]
    },
    {
     "name": "stdout",
     "output_type": "stream",
     "text": [
      "Error\n"
     ]
    },
    {
     "name": "stderr",
     "output_type": "stream",
     "text": [
      "\r",
      " 98%|████████████████████████████████████████████████████████████████████████████▎ | 6771/6922 [41:09<00:50,  3.02it/s]"
     ]
    },
    {
     "name": "stdout",
     "output_type": "stream",
     "text": [
      "Error\n"
     ]
    },
    {
     "name": "stderr",
     "output_type": "stream",
     "text": [
      "\r",
      " 98%|████████████████████████████████████████████████████████████████████████████▎ | 6772/6922 [41:10<00:50,  2.95it/s]"
     ]
    },
    {
     "name": "stdout",
     "output_type": "stream",
     "text": [
      "Error\n"
     ]
    },
    {
     "name": "stderr",
     "output_type": "stream",
     "text": [
      "\r",
      " 98%|████████████████████████████████████████████████████████████████████████████▎ | 6773/6922 [41:10<00:50,  2.98it/s]"
     ]
    },
    {
     "name": "stdout",
     "output_type": "stream",
     "text": [
      "Error\n"
     ]
    },
    {
     "name": "stderr",
     "output_type": "stream",
     "text": [
      "\r",
      " 98%|████████████████████████████████████████████████████████████████████████████▎ | 6774/6922 [41:10<00:49,  2.96it/s]"
     ]
    },
    {
     "name": "stdout",
     "output_type": "stream",
     "text": [
      "Error\n"
     ]
    },
    {
     "name": "stderr",
     "output_type": "stream",
     "text": [
      "\r",
      " 98%|████████████████████████████████████████████████████████████████████████████▎ | 6775/6922 [41:11<00:51,  2.87it/s]"
     ]
    },
    {
     "name": "stdout",
     "output_type": "stream",
     "text": [
      "Error\n"
     ]
    },
    {
     "name": "stderr",
     "output_type": "stream",
     "text": [
      "\r",
      " 98%|████████████████████████████████████████████████████████████████████████████▎ | 6776/6922 [41:11<00:49,  2.97it/s]"
     ]
    },
    {
     "name": "stdout",
     "output_type": "stream",
     "text": [
      "Error\n"
     ]
    },
    {
     "name": "stderr",
     "output_type": "stream",
     "text": [
      " 98%|████████████████████████████████████████████████████████████████████████████▍ | 6779/6922 [41:12<00:53,  2.68it/s]"
     ]
    },
    {
     "name": "stdout",
     "output_type": "stream",
     "text": [
      "Error\n"
     ]
    },
    {
     "name": "stderr",
     "output_type": "stream",
     "text": [
      "\r",
      " 98%|████████████████████████████████████████████████████████████████████████████▍ | 6780/6922 [41:13<00:51,  2.76it/s]"
     ]
    },
    {
     "name": "stdout",
     "output_type": "stream",
     "text": [
      "Error\n"
     ]
    },
    {
     "name": "stderr",
     "output_type": "stream",
     "text": [
      "\r",
      " 98%|████████████████████████████████████████████████████████████████████████████▍ | 6781/6922 [41:13<00:48,  2.90it/s]"
     ]
    },
    {
     "name": "stdout",
     "output_type": "stream",
     "text": [
      "Error\n"
     ]
    },
    {
     "name": "stderr",
     "output_type": "stream",
     "text": [
      " 98%|████████████████████████████████████████████████████████████████████████████▍ | 6783/6922 [41:14<00:49,  2.83it/s]"
     ]
    },
    {
     "name": "stdout",
     "output_type": "stream",
     "text": [
      "Error\n"
     ]
    },
    {
     "name": "stderr",
     "output_type": "stream",
     "text": [
      " 98%|████████████████████████████████████████████████████████████████████████████▍ | 6787/6922 [41:15<00:51,  2.61it/s]"
     ]
    },
    {
     "name": "stdout",
     "output_type": "stream",
     "text": [
      "Error\n"
     ]
    },
    {
     "name": "stderr",
     "output_type": "stream",
     "text": [
      " 98%|████████████████████████████████████████████████████████████████████████████▌ | 6789/6922 [41:16<00:51,  2.59it/s]"
     ]
    },
    {
     "name": "stdout",
     "output_type": "stream",
     "text": [
      "Error\n"
     ]
    },
    {
     "name": "stderr",
     "output_type": "stream",
     "text": [
      "\r",
      " 98%|████████████████████████████████████████████████████████████████████████████▌ | 6790/6922 [41:16<00:50,  2.61it/s]"
     ]
    },
    {
     "name": "stdout",
     "output_type": "stream",
     "text": [
      "Error\n"
     ]
    },
    {
     "name": "stderr",
     "output_type": "stream",
     "text": [
      " 98%|████████████████████████████████████████████████████████████████████████████▌ | 6798/6922 [41:19<00:45,  2.74it/s]"
     ]
    },
    {
     "name": "stdout",
     "output_type": "stream",
     "text": [
      "Error\n"
     ]
    },
    {
     "name": "stderr",
     "output_type": "stream",
     "text": [
      " 98%|████████████████████████████████████████████████████████████████████████████▋ | 6800/6922 [41:20<00:42,  2.85it/s]"
     ]
    },
    {
     "name": "stdout",
     "output_type": "stream",
     "text": [
      "Error\n"
     ]
    },
    {
     "name": "stderr",
     "output_type": "stream",
     "text": [
      "\r",
      " 98%|████████████████████████████████████████████████████████████████████████████▋ | 6801/6922 [41:20<00:42,  2.84it/s]"
     ]
    },
    {
     "name": "stdout",
     "output_type": "stream",
     "text": [
      "Error\n"
     ]
    },
    {
     "name": "stderr",
     "output_type": "stream",
     "text": [
      "\r",
      " 98%|████████████████████████████████████████████████████████████████████████████▋ | 6802/6922 [41:21<00:42,  2.83it/s]"
     ]
    },
    {
     "name": "stdout",
     "output_type": "stream",
     "text": [
      "Error\n"
     ]
    },
    {
     "name": "stderr",
     "output_type": "stream",
     "text": [
      "\r",
      " 98%|████████████████████████████████████████████████████████████████████████████▋ | 6803/6922 [41:21<00:41,  2.88it/s]"
     ]
    },
    {
     "name": "stdout",
     "output_type": "stream",
     "text": [
      "Error\n"
     ]
    },
    {
     "name": "stderr",
     "output_type": "stream",
     "text": [
      "\r",
      " 98%|████████████████████████████████████████████████████████████████████████████▋ | 6804/6922 [41:21<00:40,  2.94it/s]"
     ]
    },
    {
     "name": "stdout",
     "output_type": "stream",
     "text": [
      "Error\n"
     ]
    },
    {
     "name": "stderr",
     "output_type": "stream",
     "text": [
      "\r",
      " 98%|████████████████████████████████████████████████████████████████████████████▋ | 6805/6922 [41:22<00:38,  3.02it/s]"
     ]
    },
    {
     "name": "stdout",
     "output_type": "stream",
     "text": [
      "Error\n"
     ]
    },
    {
     "name": "stderr",
     "output_type": "stream",
     "text": [
      "\r",
      " 98%|████████████████████████████████████████████████████████████████████████████▋ | 6806/6922 [41:22<00:38,  2.98it/s]"
     ]
    },
    {
     "name": "stdout",
     "output_type": "stream",
     "text": [
      "Error\n"
     ]
    },
    {
     "name": "stderr",
     "output_type": "stream",
     "text": [
      "\r",
      " 98%|████████████████████████████████████████████████████████████████████████████▋ | 6807/6922 [41:22<00:37,  3.08it/s]"
     ]
    },
    {
     "name": "stdout",
     "output_type": "stream",
     "text": [
      "Error\n"
     ]
    },
    {
     "name": "stderr",
     "output_type": "stream",
     "text": [
      "\r",
      " 98%|████████████████████████████████████████████████████████████████████████████▋ | 6808/6922 [41:23<00:37,  3.00it/s]"
     ]
    },
    {
     "name": "stdout",
     "output_type": "stream",
     "text": [
      "Error\n"
     ]
    },
    {
     "name": "stderr",
     "output_type": "stream",
     "text": [
      "\r",
      " 98%|████████████████████████████████████████████████████████████████████████████▋ | 6809/6922 [41:23<00:38,  2.96it/s]"
     ]
    },
    {
     "name": "stdout",
     "output_type": "stream",
     "text": [
      "Error\n"
     ]
    },
    {
     "name": "stderr",
     "output_type": "stream",
     "text": [
      " 98%|████████████████████████████████████████████████████████████████████████████▊ | 6812/6922 [41:24<00:38,  2.83it/s]"
     ]
    },
    {
     "name": "stdout",
     "output_type": "stream",
     "text": [
      "Error\n"
     ]
    },
    {
     "name": "stderr",
     "output_type": "stream",
     "text": [
      " 98%|████████████████████████████████████████████████████████████████████████████▊ | 6814/6922 [41:25<00:38,  2.83it/s]"
     ]
    },
    {
     "name": "stdout",
     "output_type": "stream",
     "text": [
      "Error\n"
     ]
    },
    {
     "name": "stderr",
     "output_type": "stream",
     "text": [
      "\r",
      " 98%|████████████████████████████████████████████████████████████████████████████▊ | 6815/6922 [41:25<00:36,  2.90it/s]"
     ]
    },
    {
     "name": "stdout",
     "output_type": "stream",
     "text": [
      "Error\n"
     ]
    },
    {
     "name": "stderr",
     "output_type": "stream",
     "text": [
      "\r",
      " 98%|████████████████████████████████████████████████████████████████████████████▊ | 6816/6922 [41:26<00:35,  2.98it/s]"
     ]
    },
    {
     "name": "stdout",
     "output_type": "stream",
     "text": [
      "Error\n"
     ]
    },
    {
     "name": "stderr",
     "output_type": "stream",
     "text": [
      "\r",
      " 98%|████████████████████████████████████████████████████████████████████████████▊ | 6817/6922 [41:26<00:35,  2.93it/s]"
     ]
    },
    {
     "name": "stdout",
     "output_type": "stream",
     "text": [
      "Error\n"
     ]
    },
    {
     "name": "stderr",
     "output_type": "stream",
     "text": [
      "\r",
      " 98%|████████████████████████████████████████████████████████████████████████████▊ | 6818/6922 [41:26<00:34,  3.02it/s]"
     ]
    },
    {
     "name": "stdout",
     "output_type": "stream",
     "text": [
      "Error\n"
     ]
    },
    {
     "name": "stderr",
     "output_type": "stream",
     "text": [
      " 99%|████████████████████████████████████████████████████████████████████████████▊ | 6820/6922 [41:27<00:36,  2.81it/s]"
     ]
    },
    {
     "name": "stdout",
     "output_type": "stream",
     "text": [
      "Error\n"
     ]
    },
    {
     "name": "stderr",
     "output_type": "stream",
     "text": [
      "\r",
      " 99%|████████████████████████████████████████████████████████████████████████████▊ | 6821/6922 [41:27<00:34,  2.97it/s]"
     ]
    },
    {
     "name": "stdout",
     "output_type": "stream",
     "text": [
      "Error\n"
     ]
    },
    {
     "name": "stderr",
     "output_type": "stream",
     "text": [
      " 99%|████████████████████████████████████████████████████████████████████████████▉ | 6824/6922 [41:28<00:36,  2.71it/s]"
     ]
    },
    {
     "name": "stdout",
     "output_type": "stream",
     "text": [
      "Error\n"
     ]
    },
    {
     "name": "stderr",
     "output_type": "stream",
     "text": [
      "\r",
      " 99%|████████████████████████████████████████████████████████████████████████████▉ | 6825/6922 [41:29<00:37,  2.59it/s]"
     ]
    },
    {
     "name": "stdout",
     "output_type": "stream",
     "text": [
      "Error\n"
     ]
    },
    {
     "name": "stderr",
     "output_type": "stream",
     "text": [
      "\r",
      " 99%|████████████████████████████████████████████████████████████████████████████▉ | 6826/6922 [41:29<00:37,  2.57it/s]"
     ]
    },
    {
     "name": "stdout",
     "output_type": "stream",
     "text": [
      "Error\n"
     ]
    },
    {
     "name": "stderr",
     "output_type": "stream",
     "text": [
      " 99%|████████████████████████████████████████████████████████████████████████████▉ | 6828/6922 [41:30<00:34,  2.74it/s]"
     ]
    },
    {
     "name": "stdout",
     "output_type": "stream",
     "text": [
      "Error\n"
     ]
    },
    {
     "name": "stderr",
     "output_type": "stream",
     "text": [
      "\r",
      " 99%|████████████████████████████████████████████████████████████████████████████▉ | 6829/6922 [41:30<00:33,  2.79it/s]"
     ]
    },
    {
     "name": "stdout",
     "output_type": "stream",
     "text": [
      "Error\n"
     ]
    },
    {
     "name": "stderr",
     "output_type": "stream",
     "text": [
      "\r",
      " 99%|████████████████████████████████████████████████████████████████████████████▉ | 6830/6922 [41:31<00:34,  2.66it/s]"
     ]
    },
    {
     "name": "stdout",
     "output_type": "stream",
     "text": [
      "Error\n"
     ]
    },
    {
     "name": "stderr",
     "output_type": "stream",
     "text": [
      "\r",
      " 99%|████████████████████████████████████████████████████████████████████████████▉ | 6831/6922 [41:31<00:32,  2.79it/s]"
     ]
    },
    {
     "name": "stdout",
     "output_type": "stream",
     "text": [
      "Error\n"
     ]
    },
    {
     "name": "stderr",
     "output_type": "stream",
     "text": [
      "\r",
      " 99%|████████████████████████████████████████████████████████████████████████████▉ | 6832/6922 [41:31<00:31,  2.82it/s]"
     ]
    },
    {
     "name": "stdout",
     "output_type": "stream",
     "text": [
      "Error\n"
     ]
    },
    {
     "name": "stderr",
     "output_type": "stream",
     "text": [
      " 99%|█████████████████████████████████████████████████████████████████████████████ | 6835/6922 [41:33<00:32,  2.65it/s]"
     ]
    },
    {
     "name": "stdout",
     "output_type": "stream",
     "text": [
      "Error\n"
     ]
    },
    {
     "name": "stderr",
     "output_type": "stream",
     "text": [
      "\r",
      " 99%|█████████████████████████████████████████████████████████████████████████████ | 6836/6922 [41:33<00:32,  2.64it/s]"
     ]
    },
    {
     "name": "stdout",
     "output_type": "stream",
     "text": [
      "Error\n"
     ]
    },
    {
     "name": "stderr",
     "output_type": "stream",
     "text": [
      " 99%|█████████████████████████████████████████████████████████████████████████████ | 6840/6922 [41:35<00:31,  2.63it/s]"
     ]
    },
    {
     "name": "stdout",
     "output_type": "stream",
     "text": [
      "Error\n"
     ]
    },
    {
     "name": "stderr",
     "output_type": "stream",
     "text": [
      "\r",
      " 99%|█████████████████████████████████████████████████████████████████████████████ | 6841/6922 [41:35<00:31,  2.54it/s]"
     ]
    },
    {
     "name": "stdout",
     "output_type": "stream",
     "text": [
      "Error\n"
     ]
    },
    {
     "name": "stderr",
     "output_type": "stream",
     "text": [
      " 99%|█████████████████████████████████████████████████████████████████████████████ | 6843/6922 [41:36<00:28,  2.73it/s]"
     ]
    },
    {
     "name": "stdout",
     "output_type": "stream",
     "text": [
      "Error\n"
     ]
    },
    {
     "name": "stderr",
     "output_type": "stream",
     "text": [
      " 99%|█████████████████████████████████████████████████████████████████████████████▏| 6845/6922 [41:36<00:28,  2.75it/s]"
     ]
    },
    {
     "name": "stdout",
     "output_type": "stream",
     "text": [
      "Error\n"
     ]
    },
    {
     "name": "stderr",
     "output_type": "stream",
     "text": [
      "\r",
      " 99%|█████████████████████████████████████████████████████████████████████████████▏| 6846/6922 [41:37<00:27,  2.78it/s]"
     ]
    },
    {
     "name": "stdout",
     "output_type": "stream",
     "text": [
      "Error\n"
     ]
    },
    {
     "name": "stderr",
     "output_type": "stream",
     "text": [
      "\r",
      " 99%|█████████████████████████████████████████████████████████████████████████████▏| 6847/6922 [41:37<00:26,  2.87it/s]"
     ]
    },
    {
     "name": "stdout",
     "output_type": "stream",
     "text": [
      "Error\n"
     ]
    },
    {
     "name": "stderr",
     "output_type": "stream",
     "text": [
      "\r",
      " 99%|█████████████████████████████████████████████████████████████████████████████▏| 6848/6922 [41:37<00:26,  2.84it/s]"
     ]
    },
    {
     "name": "stdout",
     "output_type": "stream",
     "text": [
      "Error\n"
     ]
    },
    {
     "name": "stderr",
     "output_type": "stream",
     "text": [
      "\r",
      " 99%|█████████████████████████████████████████████████████████████████████████████▏| 6849/6922 [41:38<00:25,  2.81it/s]"
     ]
    },
    {
     "name": "stdout",
     "output_type": "stream",
     "text": [
      "Error\n"
     ]
    },
    {
     "name": "stderr",
     "output_type": "stream",
     "text": [
      "\r",
      " 99%|█████████████████████████████████████████████████████████████████████████████▏| 6850/6922 [41:38<00:25,  2.78it/s]"
     ]
    },
    {
     "name": "stdout",
     "output_type": "stream",
     "text": [
      "Error\n"
     ]
    },
    {
     "name": "stderr",
     "output_type": "stream",
     "text": [
      "\r",
      " 99%|█████████████████████████████████████████████████████████████████████████████▏| 6851/6922 [41:39<00:25,  2.79it/s]"
     ]
    },
    {
     "name": "stdout",
     "output_type": "stream",
     "text": [
      "Error\n"
     ]
    },
    {
     "name": "stderr",
     "output_type": "stream",
     "text": [
      "\r",
      " 99%|█████████████████████████████████████████████████████████████████████████████▏| 6852/6922 [41:39<00:24,  2.84it/s]"
     ]
    },
    {
     "name": "stdout",
     "output_type": "stream",
     "text": [
      "Error\n"
     ]
    },
    {
     "name": "stderr",
     "output_type": "stream",
     "text": [
      "\r",
      " 99%|█████████████████████████████████████████████████████████████████████████████▏| 6853/6922 [41:39<00:23,  2.88it/s]"
     ]
    },
    {
     "name": "stdout",
     "output_type": "stream",
     "text": [
      "Error\n"
     ]
    },
    {
     "name": "stderr",
     "output_type": "stream",
     "text": [
      "\r",
      " 99%|█████████████████████████████████████████████████████████████████████████████▏| 6854/6922 [41:40<00:23,  2.94it/s]"
     ]
    },
    {
     "name": "stdout",
     "output_type": "stream",
     "text": [
      "Error\n"
     ]
    },
    {
     "name": "stderr",
     "output_type": "stream",
     "text": [
      " 99%|█████████████████████████████████████████████████████████████████████████████▎| 6856/6922 [41:40<00:23,  2.87it/s]"
     ]
    },
    {
     "name": "stdout",
     "output_type": "stream",
     "text": [
      "Error\n"
     ]
    },
    {
     "name": "stderr",
     "output_type": "stream",
     "text": [
      "\r",
      " 99%|█████████████████████████████████████████████████████████████████████████████▎| 6857/6922 [41:41<00:22,  2.87it/s]"
     ]
    },
    {
     "name": "stdout",
     "output_type": "stream",
     "text": [
      "Error\n"
     ]
    },
    {
     "name": "stderr",
     "output_type": "stream",
     "text": [
      "\r",
      " 99%|█████████████████████████████████████████████████████████████████████████████▎| 6858/6922 [41:41<00:21,  2.96it/s]"
     ]
    },
    {
     "name": "stdout",
     "output_type": "stream",
     "text": [
      "Error\n"
     ]
    },
    {
     "name": "stderr",
     "output_type": "stream",
     "text": [
      "\r",
      " 99%|█████████████████████████████████████████████████████████████████████████████▎| 6859/6922 [41:41<00:21,  2.90it/s]"
     ]
    },
    {
     "name": "stdout",
     "output_type": "stream",
     "text": [
      "Error\n"
     ]
    },
    {
     "name": "stderr",
     "output_type": "stream",
     "text": [
      "\r",
      " 99%|█████████████████████████████████████████████████████████████████████████████▎| 6860/6922 [41:42<00:20,  2.97it/s]"
     ]
    },
    {
     "name": "stdout",
     "output_type": "stream",
     "text": [
      "Error\n"
     ]
    },
    {
     "name": "stderr",
     "output_type": "stream",
     "text": [
      "\r",
      " 99%|█████████████████████████████████████████████████████████████████████████████▎| 6861/6922 [41:42<00:20,  3.00it/s]"
     ]
    },
    {
     "name": "stdout",
     "output_type": "stream",
     "text": [
      "Error\n"
     ]
    },
    {
     "name": "stderr",
     "output_type": "stream",
     "text": [
      "\r",
      " 99%|█████████████████████████████████████████████████████████████████████████████▎| 6862/6922 [41:42<00:20,  2.98it/s]"
     ]
    },
    {
     "name": "stdout",
     "output_type": "stream",
     "text": [
      "Error\n"
     ]
    },
    {
     "name": "stderr",
     "output_type": "stream",
     "text": [
      " 99%|█████████████████████████████████████████████████████████████████████████████▎| 6864/6922 [41:43<00:20,  2.80it/s]"
     ]
    },
    {
     "name": "stdout",
     "output_type": "stream",
     "text": [
      "Error\n"
     ]
    },
    {
     "name": "stderr",
     "output_type": "stream",
     "text": [
      "\r",
      " 99%|█████████████████████████████████████████████████████████████████████████████▎| 6865/6922 [41:43<00:20,  2.84it/s]"
     ]
    },
    {
     "name": "stdout",
     "output_type": "stream",
     "text": [
      "Error\n"
     ]
    },
    {
     "name": "stderr",
     "output_type": "stream",
     "text": [
      " 99%|█████████████████████████████████████████████████████████████████████████████▍| 6867/6922 [41:44<00:19,  2.89it/s]"
     ]
    },
    {
     "name": "stdout",
     "output_type": "stream",
     "text": [
      "Error\n"
     ]
    },
    {
     "name": "stderr",
     "output_type": "stream",
     "text": [
      "100%|██████████████████████████████████████████████████████████████████████████████| 6922/6922 [42:05<00:00,  2.74it/s]\n"
     ]
    }
   ],
   "source": [
    "from tqdm import tqdm\n",
    "for i in tqdm(filepaths[16001:]):\n",
    "    if(i.split(\".\")[1]==\"jpg\"):\n",
    "        \n",
    "#         print(i)\n",
    "        extract_datapoints(i)"
   ]
  },
  {
   "cell_type": "code",
   "execution_count": 11,
   "metadata": {},
   "outputs": [
    {
     "data": {
      "text/plain": [
       "6680"
      ]
     },
     "execution_count": 11,
     "metadata": {},
     "output_type": "execute_result"
    }
   ],
   "source": [
    "len(data)"
   ]
  },
  {
   "cell_type": "code",
   "execution_count": 12,
   "metadata": {},
   "outputs": [],
   "source": [
    "df=pd.DataFrame(data=data,columns=columns)"
   ]
  },
  {
   "cell_type": "code",
   "execution_count": 13,
   "metadata": {},
   "outputs": [],
   "source": [
    "df.to_csv(\"additionaldata2.csv\")\n",
    "\n"
   ]
  },
  {
   "cell_type": "code",
   "execution_count": 83,
   "metadata": {},
   "outputs": [],
   "source": [
    "#Next time create dataset and csv and at last merge all csv into one and shuffle the dataset\n",
    "#Done till 30 videos"
   ]
  },
  {
   "cell_type": "code",
   "execution_count": 14,
   "metadata": {},
   "outputs": [],
   "source": [
    "\n",
    "df1=pd.read_csv(\"additionaldata.csv\")\n"
   ]
  },
  {
   "cell_type": "code",
   "execution_count": 35,
   "metadata": {},
   "outputs": [
    {
     "name": "stdout",
     "output_type": "stream",
     "text": [
      "<class 'pandas.core.frame.DataFrame'>\n",
      "RangeIndex: 21780 entries, 0 to 21779\n",
      "Columns: 133 entries, NOSE_x to target\n",
      "dtypes: float64(132), object(1)\n",
      "memory usage: 22.1+ MB\n"
     ]
    },
    {
     "ename": "KeyboardInterrupt",
     "evalue": "",
     "output_type": "error",
     "traceback": [
      "\u001b[1;31m---------------------------------------------------------------------------\u001b[0m",
      "\u001b[1;31mKeyboardInterrupt\u001b[0m                         Traceback (most recent call last)",
      "\u001b[1;32m<ipython-input-35-526f520cc42b>\u001b[0m in \u001b[0;36m<module>\u001b[1;34m\u001b[0m\n\u001b[0;32m      1\u001b[0m \u001b[0mdf1\u001b[0m\u001b[1;33m.\u001b[0m\u001b[0minfo\u001b[0m\u001b[1;33m(\u001b[0m\u001b[1;33m)\u001b[0m\u001b[1;33m\u001b[0m\u001b[1;33m\u001b[0m\u001b[0m\n\u001b[1;32m----> 2\u001b[1;33m \u001b[0mdf1\u001b[0m\u001b[1;33m=\u001b[0m\u001b[0mdf1\u001b[0m\u001b[1;33m.\u001b[0m\u001b[0mappend\u001b[0m\u001b[1;33m(\u001b[0m\u001b[0mdf\u001b[0m\u001b[1;33m)\u001b[0m\u001b[1;33m\u001b[0m\u001b[1;33m\u001b[0m\u001b[0m\n\u001b[0m\u001b[0;32m      3\u001b[0m \u001b[0mdf1\u001b[0m\u001b[1;33m.\u001b[0m\u001b[0minfo\u001b[0m\u001b[1;33m(\u001b[0m\u001b[1;33m)\u001b[0m\u001b[1;33m\u001b[0m\u001b[1;33m\u001b[0m\u001b[0m\n",
      "\u001b[1;32mE:\\Utkarsh\\envs\\deeplearning\\lib\\site-packages\\pandas\\core\\frame.py\u001b[0m in \u001b[0;36mappend\u001b[1;34m(self, other, ignore_index, verify_integrity, sort)\u001b[0m\n\u001b[0;32m   7083\u001b[0m             \u001b[0mignore_index\u001b[0m\u001b[1;33m=\u001b[0m\u001b[0mignore_index\u001b[0m\u001b[1;33m,\u001b[0m\u001b[1;33m\u001b[0m\u001b[1;33m\u001b[0m\u001b[0m\n\u001b[0;32m   7084\u001b[0m             \u001b[0mverify_integrity\u001b[0m\u001b[1;33m=\u001b[0m\u001b[0mverify_integrity\u001b[0m\u001b[1;33m,\u001b[0m\u001b[1;33m\u001b[0m\u001b[1;33m\u001b[0m\u001b[0m\n\u001b[1;32m-> 7085\u001b[1;33m             \u001b[0msort\u001b[0m\u001b[1;33m=\u001b[0m\u001b[0msort\u001b[0m\u001b[1;33m,\u001b[0m\u001b[1;33m\u001b[0m\u001b[1;33m\u001b[0m\u001b[0m\n\u001b[0m\u001b[0;32m   7086\u001b[0m         )\n\u001b[0;32m   7087\u001b[0m \u001b[1;33m\u001b[0m\u001b[0m\n",
      "\u001b[1;32mE:\\Utkarsh\\envs\\deeplearning\\lib\\site-packages\\pandas\\core\\reshape\\concat.py\u001b[0m in \u001b[0;36mconcat\u001b[1;34m(objs, axis, join, ignore_index, keys, levels, names, verify_integrity, sort, copy)\u001b[0m\n\u001b[0;32m    282\u001b[0m     )\n\u001b[0;32m    283\u001b[0m \u001b[1;33m\u001b[0m\u001b[0m\n\u001b[1;32m--> 284\u001b[1;33m     \u001b[1;32mreturn\u001b[0m \u001b[0mop\u001b[0m\u001b[1;33m.\u001b[0m\u001b[0mget_result\u001b[0m\u001b[1;33m(\u001b[0m\u001b[1;33m)\u001b[0m\u001b[1;33m\u001b[0m\u001b[1;33m\u001b[0m\u001b[0m\n\u001b[0m\u001b[0;32m    285\u001b[0m \u001b[1;33m\u001b[0m\u001b[0m\n\u001b[0;32m    286\u001b[0m \u001b[1;33m\u001b[0m\u001b[0m\n",
      "\u001b[1;32mE:\\Utkarsh\\envs\\deeplearning\\lib\\site-packages\\pandas\\core\\reshape\\concat.py\u001b[0m in \u001b[0;36mget_result\u001b[1;34m(self)\u001b[0m\n\u001b[0;32m    495\u001b[0m \u001b[1;33m\u001b[0m\u001b[0m\n\u001b[0;32m    496\u001b[0m             new_data = concatenate_block_managers(\n\u001b[1;32m--> 497\u001b[1;33m                 \u001b[0mmgrs_indexers\u001b[0m\u001b[1;33m,\u001b[0m \u001b[0mself\u001b[0m\u001b[1;33m.\u001b[0m\u001b[0mnew_axes\u001b[0m\u001b[1;33m,\u001b[0m \u001b[0mconcat_axis\u001b[0m\u001b[1;33m=\u001b[0m\u001b[0mself\u001b[0m\u001b[1;33m.\u001b[0m\u001b[0maxis\u001b[0m\u001b[1;33m,\u001b[0m \u001b[0mcopy\u001b[0m\u001b[1;33m=\u001b[0m\u001b[0mself\u001b[0m\u001b[1;33m.\u001b[0m\u001b[0mcopy\u001b[0m\u001b[1;33m\u001b[0m\u001b[1;33m\u001b[0m\u001b[0m\n\u001b[0m\u001b[0;32m    498\u001b[0m             )\n\u001b[0;32m    499\u001b[0m             \u001b[1;32mif\u001b[0m \u001b[1;32mnot\u001b[0m \u001b[0mself\u001b[0m\u001b[1;33m.\u001b[0m\u001b[0mcopy\u001b[0m\u001b[1;33m:\u001b[0m\u001b[1;33m\u001b[0m\u001b[1;33m\u001b[0m\u001b[0m\n",
      "\u001b[1;32mE:\\Utkarsh\\envs\\deeplearning\\lib\\site-packages\\pandas\\core\\internals\\managers.py\u001b[0m in \u001b[0;36mconcatenate_block_managers\u001b[1;34m(mgrs_indexers, axes, concat_axis, copy)\u001b[0m\n\u001b[0;32m   2020\u001b[0m         \u001b[1;32melse\u001b[0m\u001b[1;33m:\u001b[0m\u001b[1;33m\u001b[0m\u001b[1;33m\u001b[0m\u001b[0m\n\u001b[0;32m   2021\u001b[0m             b = make_block(\n\u001b[1;32m-> 2022\u001b[1;33m                 \u001b[0mconcatenate_join_units\u001b[0m\u001b[1;33m(\u001b[0m\u001b[0mjoin_units\u001b[0m\u001b[1;33m,\u001b[0m \u001b[0mconcat_axis\u001b[0m\u001b[1;33m,\u001b[0m \u001b[0mcopy\u001b[0m\u001b[1;33m=\u001b[0m\u001b[0mcopy\u001b[0m\u001b[1;33m)\u001b[0m\u001b[1;33m,\u001b[0m\u001b[1;33m\u001b[0m\u001b[1;33m\u001b[0m\u001b[0m\n\u001b[0m\u001b[0;32m   2023\u001b[0m                 \u001b[0mplacement\u001b[0m\u001b[1;33m=\u001b[0m\u001b[0mplacement\u001b[0m\u001b[1;33m,\u001b[0m\u001b[1;33m\u001b[0m\u001b[1;33m\u001b[0m\u001b[0m\n\u001b[0;32m   2024\u001b[0m             )\n",
      "\u001b[1;32mE:\\Utkarsh\\envs\\deeplearning\\lib\\site-packages\\pandas\\core\\internals\\concat.py\u001b[0m in \u001b[0;36mconcatenate_join_units\u001b[1;34m(join_units, concat_axis, copy)\u001b[0m\n\u001b[0;32m    246\u001b[0m     to_concat = [\n\u001b[0;32m    247\u001b[0m         \u001b[0mju\u001b[0m\u001b[1;33m.\u001b[0m\u001b[0mget_reindexed_values\u001b[0m\u001b[1;33m(\u001b[0m\u001b[0mempty_dtype\u001b[0m\u001b[1;33m=\u001b[0m\u001b[0mempty_dtype\u001b[0m\u001b[1;33m,\u001b[0m \u001b[0mupcasted_na\u001b[0m\u001b[1;33m=\u001b[0m\u001b[0mupcasted_na\u001b[0m\u001b[1;33m)\u001b[0m\u001b[1;33m\u001b[0m\u001b[1;33m\u001b[0m\u001b[0m\n\u001b[1;32m--> 248\u001b[1;33m         \u001b[1;32mfor\u001b[0m \u001b[0mju\u001b[0m \u001b[1;32min\u001b[0m \u001b[0mjoin_units\u001b[0m\u001b[1;33m\u001b[0m\u001b[1;33m\u001b[0m\u001b[0m\n\u001b[0m\u001b[0;32m    249\u001b[0m     ]\n\u001b[0;32m    250\u001b[0m \u001b[1;33m\u001b[0m\u001b[0m\n",
      "\u001b[1;32mE:\\Utkarsh\\envs\\deeplearning\\lib\\site-packages\\pandas\\core\\internals\\concat.py\u001b[0m in \u001b[0;36m<listcomp>\u001b[1;34m(.0)\u001b[0m\n\u001b[0;32m    246\u001b[0m     to_concat = [\n\u001b[0;32m    247\u001b[0m         \u001b[0mju\u001b[0m\u001b[1;33m.\u001b[0m\u001b[0mget_reindexed_values\u001b[0m\u001b[1;33m(\u001b[0m\u001b[0mempty_dtype\u001b[0m\u001b[1;33m=\u001b[0m\u001b[0mempty_dtype\u001b[0m\u001b[1;33m,\u001b[0m \u001b[0mupcasted_na\u001b[0m\u001b[1;33m=\u001b[0m\u001b[0mupcasted_na\u001b[0m\u001b[1;33m)\u001b[0m\u001b[1;33m\u001b[0m\u001b[1;33m\u001b[0m\u001b[0m\n\u001b[1;32m--> 248\u001b[1;33m         \u001b[1;32mfor\u001b[0m \u001b[0mju\u001b[0m \u001b[1;32min\u001b[0m \u001b[0mjoin_units\u001b[0m\u001b[1;33m\u001b[0m\u001b[1;33m\u001b[0m\u001b[0m\n\u001b[0m\u001b[0;32m    249\u001b[0m     ]\n\u001b[0;32m    250\u001b[0m \u001b[1;33m\u001b[0m\u001b[0m\n",
      "\u001b[1;32mE:\\Utkarsh\\envs\\deeplearning\\lib\\site-packages\\pandas\\core\\internals\\concat.py\u001b[0m in \u001b[0;36mget_reindexed_values\u001b[1;34m(self, empty_dtype, upcasted_na)\u001b[0m\n\u001b[0;32m    229\u001b[0m         \u001b[1;32melse\u001b[0m\u001b[1;33m:\u001b[0m\u001b[1;33m\u001b[0m\u001b[1;33m\u001b[0m\u001b[0m\n\u001b[0;32m    230\u001b[0m             \u001b[1;32mfor\u001b[0m \u001b[0max\u001b[0m\u001b[1;33m,\u001b[0m \u001b[0mindexer\u001b[0m \u001b[1;32min\u001b[0m \u001b[0mself\u001b[0m\u001b[1;33m.\u001b[0m\u001b[0mindexers\u001b[0m\u001b[1;33m.\u001b[0m\u001b[0mitems\u001b[0m\u001b[1;33m(\u001b[0m\u001b[1;33m)\u001b[0m\u001b[1;33m:\u001b[0m\u001b[1;33m\u001b[0m\u001b[1;33m\u001b[0m\u001b[0m\n\u001b[1;32m--> 231\u001b[1;33m                 \u001b[0mvalues\u001b[0m \u001b[1;33m=\u001b[0m \u001b[0malgos\u001b[0m\u001b[1;33m.\u001b[0m\u001b[0mtake_nd\u001b[0m\u001b[1;33m(\u001b[0m\u001b[0mvalues\u001b[0m\u001b[1;33m,\u001b[0m \u001b[0mindexer\u001b[0m\u001b[1;33m,\u001b[0m \u001b[0maxis\u001b[0m\u001b[1;33m=\u001b[0m\u001b[0max\u001b[0m\u001b[1;33m,\u001b[0m \u001b[0mfill_value\u001b[0m\u001b[1;33m=\u001b[0m\u001b[0mfill_value\u001b[0m\u001b[1;33m)\u001b[0m\u001b[1;33m\u001b[0m\u001b[1;33m\u001b[0m\u001b[0m\n\u001b[0m\u001b[0;32m    232\u001b[0m \u001b[1;33m\u001b[0m\u001b[0m\n\u001b[0;32m    233\u001b[0m         \u001b[1;32mreturn\u001b[0m \u001b[0mvalues\u001b[0m\u001b[1;33m\u001b[0m\u001b[1;33m\u001b[0m\u001b[0m\n",
      "\u001b[1;31mKeyboardInterrupt\u001b[0m: "
     ]
    }
   ],
   "source": [
    "df1.info()\n",
    "df1=df1.append(df)\n",
    "df1.info()"
   ]
  },
  {
   "cell_type": "code",
   "execution_count": 17,
   "metadata": {},
   "outputs": [],
   "source": [
    "df1 = df1.sample(frac=1).reset_index(drop=True)"
   ]
  },
  {
   "cell_type": "code",
   "execution_count": 18,
   "metadata": {},
   "outputs": [
    {
     "data": {
      "text/html": [
       "<div>\n",
       "<style scoped>\n",
       "    .dataframe tbody tr th:only-of-type {\n",
       "        vertical-align: middle;\n",
       "    }\n",
       "\n",
       "    .dataframe tbody tr th {\n",
       "        vertical-align: top;\n",
       "    }\n",
       "\n",
       "    .dataframe thead th {\n",
       "        text-align: right;\n",
       "    }\n",
       "</style>\n",
       "<table border=\"1\" class=\"dataframe\">\n",
       "  <thead>\n",
       "    <tr style=\"text-align: right;\">\n",
       "      <th></th>\n",
       "      <th>Unnamed: 0</th>\n",
       "      <th>NOSE_x</th>\n",
       "      <th>NOSE_y</th>\n",
       "      <th>NOSE_z</th>\n",
       "      <th>NOSE_visiblity</th>\n",
       "      <th>LEFT_EYE_INNER_x</th>\n",
       "      <th>LEFT_EYE_INNER_y</th>\n",
       "      <th>LEFT_EYE_INNER_z</th>\n",
       "      <th>LEFT_EYE_INNER_visiblity</th>\n",
       "      <th>LEFT_EYE_x</th>\n",
       "      <th>...</th>\n",
       "      <th>RIGHT_HEEL_visiblity</th>\n",
       "      <th>LEFT_FOOT_INDEX_x</th>\n",
       "      <th>LEFT_FOOT_INDEX_y</th>\n",
       "      <th>LEFT_FOOT_INDEX_z</th>\n",
       "      <th>LEFT_FOOT_INDEX_visiblity</th>\n",
       "      <th>RIGHT_FOOT_INDEX_x</th>\n",
       "      <th>RIGHT_FOOT_INDEX_y</th>\n",
       "      <th>RIGHT_FOOT_INDEX_z</th>\n",
       "      <th>RIGHT_FOOT_INDEX_visiblity</th>\n",
       "      <th>target</th>\n",
       "    </tr>\n",
       "  </thead>\n",
       "  <tbody>\n",
       "    <tr>\n",
       "      <th>0</th>\n",
       "      <td>NaN</td>\n",
       "      <td>0.578448</td>\n",
       "      <td>0.298039</td>\n",
       "      <td>-0.317112</td>\n",
       "      <td>0.999999</td>\n",
       "      <td>0.578381</td>\n",
       "      <td>0.282798</td>\n",
       "      <td>-0.298318</td>\n",
       "      <td>0.999998</td>\n",
       "      <td>0.579210</td>\n",
       "      <td>...</td>\n",
       "      <td>0.968246</td>\n",
       "      <td>0.760104</td>\n",
       "      <td>0.783357</td>\n",
       "      <td>-0.077465</td>\n",
       "      <td>0.983457</td>\n",
       "      <td>0.322369</td>\n",
       "      <td>0.780748</td>\n",
       "      <td>-0.172348</td>\n",
       "      <td>0.994242</td>\n",
       "      <td>Virabhadrasana</td>\n",
       "    </tr>\n",
       "    <tr>\n",
       "      <th>1</th>\n",
       "      <td>NaN</td>\n",
       "      <td>0.359901</td>\n",
       "      <td>0.461018</td>\n",
       "      <td>-0.231700</td>\n",
       "      <td>0.999497</td>\n",
       "      <td>0.358821</td>\n",
       "      <td>0.447564</td>\n",
       "      <td>-0.210097</td>\n",
       "      <td>0.999693</td>\n",
       "      <td>0.358722</td>\n",
       "      <td>...</td>\n",
       "      <td>0.956003</td>\n",
       "      <td>0.477286</td>\n",
       "      <td>0.953005</td>\n",
       "      <td>-0.024563</td>\n",
       "      <td>0.989073</td>\n",
       "      <td>0.185604</td>\n",
       "      <td>0.875756</td>\n",
       "      <td>0.183238</td>\n",
       "      <td>0.982086</td>\n",
       "      <td>Virabhadrasana</td>\n",
       "    </tr>\n",
       "    <tr>\n",
       "      <th>2</th>\n",
       "      <td>3147.0</td>\n",
       "      <td>0.419541</td>\n",
       "      <td>0.249250</td>\n",
       "      <td>-0.155843</td>\n",
       "      <td>0.997396</td>\n",
       "      <td>0.411996</td>\n",
       "      <td>0.233838</td>\n",
       "      <td>-0.121864</td>\n",
       "      <td>0.996887</td>\n",
       "      <td>0.411841</td>\n",
       "      <td>...</td>\n",
       "      <td>0.849862</td>\n",
       "      <td>0.443583</td>\n",
       "      <td>0.884018</td>\n",
       "      <td>0.127326</td>\n",
       "      <td>0.421305</td>\n",
       "      <td>0.432150</td>\n",
       "      <td>0.890322</td>\n",
       "      <td>-0.217247</td>\n",
       "      <td>0.876923</td>\n",
       "      <td>Adhomukhasvanasana</td>\n",
       "    </tr>\n",
       "    <tr>\n",
       "      <th>3</th>\n",
       "      <td>7908.0</td>\n",
       "      <td>0.475262</td>\n",
       "      <td>0.286882</td>\n",
       "      <td>-0.688793</td>\n",
       "      <td>0.999953</td>\n",
       "      <td>0.485981</td>\n",
       "      <td>0.271818</td>\n",
       "      <td>-0.664184</td>\n",
       "      <td>0.999890</td>\n",
       "      <td>0.491492</td>\n",
       "      <td>...</td>\n",
       "      <td>0.948495</td>\n",
       "      <td>0.738753</td>\n",
       "      <td>0.933790</td>\n",
       "      <td>0.021645</td>\n",
       "      <td>0.993262</td>\n",
       "      <td>0.192034</td>\n",
       "      <td>0.939074</td>\n",
       "      <td>0.051685</td>\n",
       "      <td>0.993845</td>\n",
       "      <td>Utkatakonasana</td>\n",
       "    </tr>\n",
       "    <tr>\n",
       "      <th>4</th>\n",
       "      <td>10959.0</td>\n",
       "      <td>0.247435</td>\n",
       "      <td>0.193161</td>\n",
       "      <td>-0.536878</td>\n",
       "      <td>0.999965</td>\n",
       "      <td>0.233303</td>\n",
       "      <td>0.160199</td>\n",
       "      <td>-0.583995</td>\n",
       "      <td>0.999958</td>\n",
       "      <td>0.237158</td>\n",
       "      <td>...</td>\n",
       "      <td>0.415161</td>\n",
       "      <td>0.874289</td>\n",
       "      <td>0.551771</td>\n",
       "      <td>0.267591</td>\n",
       "      <td>0.979100</td>\n",
       "      <td>0.817789</td>\n",
       "      <td>0.503128</td>\n",
       "      <td>0.510651</td>\n",
       "      <td>0.633577</td>\n",
       "      <td>Utkatasana</td>\n",
       "    </tr>\n",
       "    <tr>\n",
       "      <th>5</th>\n",
       "      <td>8160.0</td>\n",
       "      <td>0.498662</td>\n",
       "      <td>0.321754</td>\n",
       "      <td>-0.731871</td>\n",
       "      <td>0.999964</td>\n",
       "      <td>0.506481</td>\n",
       "      <td>0.307300</td>\n",
       "      <td>-0.714694</td>\n",
       "      <td>0.999914</td>\n",
       "      <td>0.510917</td>\n",
       "      <td>...</td>\n",
       "      <td>0.950582</td>\n",
       "      <td>0.786235</td>\n",
       "      <td>0.920865</td>\n",
       "      <td>-0.014112</td>\n",
       "      <td>0.988027</td>\n",
       "      <td>0.160227</td>\n",
       "      <td>0.913358</td>\n",
       "      <td>0.044717</td>\n",
       "      <td>0.988304</td>\n",
       "      <td>Utkatakonasana</td>\n",
       "    </tr>\n",
       "    <tr>\n",
       "      <th>6</th>\n",
       "      <td>3784.0</td>\n",
       "      <td>0.610082</td>\n",
       "      <td>0.130429</td>\n",
       "      <td>-0.394544</td>\n",
       "      <td>0.999553</td>\n",
       "      <td>0.612240</td>\n",
       "      <td>0.113283</td>\n",
       "      <td>-0.360823</td>\n",
       "      <td>0.998947</td>\n",
       "      <td>0.614397</td>\n",
       "      <td>...</td>\n",
       "      <td>0.880889</td>\n",
       "      <td>0.612472</td>\n",
       "      <td>0.933699</td>\n",
       "      <td>0.315603</td>\n",
       "      <td>0.664486</td>\n",
       "      <td>0.612133</td>\n",
       "      <td>0.957887</td>\n",
       "      <td>-0.104822</td>\n",
       "      <td>0.945510</td>\n",
       "      <td>Adhomukhasvanasana</td>\n",
       "    </tr>\n",
       "    <tr>\n",
       "      <th>7</th>\n",
       "      <td>13602.0</td>\n",
       "      <td>0.436532</td>\n",
       "      <td>0.663153</td>\n",
       "      <td>-0.049324</td>\n",
       "      <td>0.996976</td>\n",
       "      <td>0.421991</td>\n",
       "      <td>0.666053</td>\n",
       "      <td>-0.074976</td>\n",
       "      <td>0.998014</td>\n",
       "      <td>0.420292</td>\n",
       "      <td>...</td>\n",
       "      <td>0.562301</td>\n",
       "      <td>0.692919</td>\n",
       "      <td>0.799473</td>\n",
       "      <td>-0.018318</td>\n",
       "      <td>0.976076</td>\n",
       "      <td>0.685614</td>\n",
       "      <td>0.785580</td>\n",
       "      <td>0.286900</td>\n",
       "      <td>0.614779</td>\n",
       "      <td>Utkatasana</td>\n",
       "    </tr>\n",
       "    <tr>\n",
       "      <th>8</th>\n",
       "      <td>10142.0</td>\n",
       "      <td>0.212298</td>\n",
       "      <td>0.420778</td>\n",
       "      <td>-0.285506</td>\n",
       "      <td>0.999941</td>\n",
       "      <td>0.207417</td>\n",
       "      <td>0.391636</td>\n",
       "      <td>-0.282805</td>\n",
       "      <td>0.999925</td>\n",
       "      <td>0.209579</td>\n",
       "      <td>...</td>\n",
       "      <td>0.786141</td>\n",
       "      <td>0.739807</td>\n",
       "      <td>0.811021</td>\n",
       "      <td>0.176983</td>\n",
       "      <td>0.977522</td>\n",
       "      <td>0.721384</td>\n",
       "      <td>0.771303</td>\n",
       "      <td>0.543152</td>\n",
       "      <td>0.751479</td>\n",
       "      <td>Utkatasana</td>\n",
       "    </tr>\n",
       "    <tr>\n",
       "      <th>9</th>\n",
       "      <td>5954.0</td>\n",
       "      <td>0.531751</td>\n",
       "      <td>0.195809</td>\n",
       "      <td>-0.443402</td>\n",
       "      <td>0.999994</td>\n",
       "      <td>0.540080</td>\n",
       "      <td>0.173124</td>\n",
       "      <td>-0.410314</td>\n",
       "      <td>0.999993</td>\n",
       "      <td>0.545188</td>\n",
       "      <td>...</td>\n",
       "      <td>0.417312</td>\n",
       "      <td>0.770749</td>\n",
       "      <td>1.071904</td>\n",
       "      <td>-0.379331</td>\n",
       "      <td>0.323833</td>\n",
       "      <td>0.238744</td>\n",
       "      <td>1.070316</td>\n",
       "      <td>-0.387674</td>\n",
       "      <td>0.255677</td>\n",
       "      <td>Utkatakonasana</td>\n",
       "    </tr>\n",
       "    <tr>\n",
       "      <th>10</th>\n",
       "      <td>NaN</td>\n",
       "      <td>0.621781</td>\n",
       "      <td>0.319850</td>\n",
       "      <td>-0.070734</td>\n",
       "      <td>0.999765</td>\n",
       "      <td>0.618851</td>\n",
       "      <td>0.305894</td>\n",
       "      <td>-0.055313</td>\n",
       "      <td>0.999600</td>\n",
       "      <td>0.618271</td>\n",
       "      <td>...</td>\n",
       "      <td>0.986483</td>\n",
       "      <td>0.727132</td>\n",
       "      <td>0.770871</td>\n",
       "      <td>0.066041</td>\n",
       "      <td>0.962734</td>\n",
       "      <td>0.387700</td>\n",
       "      <td>0.790864</td>\n",
       "      <td>-0.155633</td>\n",
       "      <td>0.993234</td>\n",
       "      <td>Virabhadrasana</td>\n",
       "    </tr>\n",
       "    <tr>\n",
       "      <th>11</th>\n",
       "      <td>8676.0</td>\n",
       "      <td>0.493092</td>\n",
       "      <td>0.415791</td>\n",
       "      <td>-0.421358</td>\n",
       "      <td>0.999958</td>\n",
       "      <td>0.504711</td>\n",
       "      <td>0.404430</td>\n",
       "      <td>-0.387085</td>\n",
       "      <td>0.999824</td>\n",
       "      <td>0.510319</td>\n",
       "      <td>...</td>\n",
       "      <td>0.996710</td>\n",
       "      <td>0.812516</td>\n",
       "      <td>0.937988</td>\n",
       "      <td>-0.094733</td>\n",
       "      <td>0.976659</td>\n",
       "      <td>0.173937</td>\n",
       "      <td>0.927076</td>\n",
       "      <td>-0.048853</td>\n",
       "      <td>0.993557</td>\n",
       "      <td>Utkatakonasana</td>\n",
       "    </tr>\n",
       "    <tr>\n",
       "      <th>12</th>\n",
       "      <td>13966.0</td>\n",
       "      <td>0.499351</td>\n",
       "      <td>0.700446</td>\n",
       "      <td>-0.032108</td>\n",
       "      <td>0.999886</td>\n",
       "      <td>0.488353</td>\n",
       "      <td>0.706411</td>\n",
       "      <td>-0.057172</td>\n",
       "      <td>0.999912</td>\n",
       "      <td>0.487533</td>\n",
       "      <td>...</td>\n",
       "      <td>0.654298</td>\n",
       "      <td>0.685168</td>\n",
       "      <td>0.761559</td>\n",
       "      <td>0.094154</td>\n",
       "      <td>0.979491</td>\n",
       "      <td>0.674834</td>\n",
       "      <td>0.747757</td>\n",
       "      <td>0.384922</td>\n",
       "      <td>0.736912</td>\n",
       "      <td>Utkatasana</td>\n",
       "    </tr>\n",
       "    <tr>\n",
       "      <th>13</th>\n",
       "      <td>9070.0</td>\n",
       "      <td>0.512955</td>\n",
       "      <td>0.409315</td>\n",
       "      <td>-0.398791</td>\n",
       "      <td>0.999996</td>\n",
       "      <td>0.523023</td>\n",
       "      <td>0.395495</td>\n",
       "      <td>-0.355732</td>\n",
       "      <td>0.999991</td>\n",
       "      <td>0.529014</td>\n",
       "      <td>...</td>\n",
       "      <td>0.996647</td>\n",
       "      <td>0.823859</td>\n",
       "      <td>0.915044</td>\n",
       "      <td>-0.051806</td>\n",
       "      <td>0.979106</td>\n",
       "      <td>0.183032</td>\n",
       "      <td>0.908819</td>\n",
       "      <td>-0.041064</td>\n",
       "      <td>0.992576</td>\n",
       "      <td>Utkatakonasana</td>\n",
       "    </tr>\n",
       "    <tr>\n",
       "      <th>14</th>\n",
       "      <td>156.0</td>\n",
       "      <td>0.623434</td>\n",
       "      <td>0.212896</td>\n",
       "      <td>-0.325934</td>\n",
       "      <td>0.999922</td>\n",
       "      <td>0.627378</td>\n",
       "      <td>0.197233</td>\n",
       "      <td>-0.288842</td>\n",
       "      <td>0.999826</td>\n",
       "      <td>0.629735</td>\n",
       "      <td>...</td>\n",
       "      <td>0.878453</td>\n",
       "      <td>0.609054</td>\n",
       "      <td>0.917831</td>\n",
       "      <td>0.384183</td>\n",
       "      <td>0.621257</td>\n",
       "      <td>0.624636</td>\n",
       "      <td>0.949365</td>\n",
       "      <td>0.003317</td>\n",
       "      <td>0.941672</td>\n",
       "      <td>Adhomukhasvanasana</td>\n",
       "    </tr>\n",
       "    <tr>\n",
       "      <th>15</th>\n",
       "      <td>NaN</td>\n",
       "      <td>0.578512</td>\n",
       "      <td>0.297994</td>\n",
       "      <td>-0.315734</td>\n",
       "      <td>0.999999</td>\n",
       "      <td>0.578443</td>\n",
       "      <td>0.282773</td>\n",
       "      <td>-0.296942</td>\n",
       "      <td>0.999998</td>\n",
       "      <td>0.579266</td>\n",
       "      <td>...</td>\n",
       "      <td>0.968222</td>\n",
       "      <td>0.760027</td>\n",
       "      <td>0.783327</td>\n",
       "      <td>-0.075815</td>\n",
       "      <td>0.983430</td>\n",
       "      <td>0.322315</td>\n",
       "      <td>0.781075</td>\n",
       "      <td>-0.171113</td>\n",
       "      <td>0.994253</td>\n",
       "      <td>Virabhadrasana</td>\n",
       "    </tr>\n",
       "    <tr>\n",
       "      <th>16</th>\n",
       "      <td>8465.0</td>\n",
       "      <td>0.511186</td>\n",
       "      <td>0.419417</td>\n",
       "      <td>-0.242767</td>\n",
       "      <td>0.999996</td>\n",
       "      <td>0.520108</td>\n",
       "      <td>0.407353</td>\n",
       "      <td>-0.200162</td>\n",
       "      <td>0.999991</td>\n",
       "      <td>0.526132</td>\n",
       "      <td>...</td>\n",
       "      <td>0.986476</td>\n",
       "      <td>0.814232</td>\n",
       "      <td>0.934794</td>\n",
       "      <td>-0.189936</td>\n",
       "      <td>0.964723</td>\n",
       "      <td>0.174148</td>\n",
       "      <td>0.930144</td>\n",
       "      <td>-0.133255</td>\n",
       "      <td>0.981807</td>\n",
       "      <td>Utkatakonasana</td>\n",
       "    </tr>\n",
       "    <tr>\n",
       "      <th>17</th>\n",
       "      <td>4598.0</td>\n",
       "      <td>0.511573</td>\n",
       "      <td>0.263223</td>\n",
       "      <td>-0.385361</td>\n",
       "      <td>0.999992</td>\n",
       "      <td>0.520226</td>\n",
       "      <td>0.245436</td>\n",
       "      <td>-0.350576</td>\n",
       "      <td>0.999993</td>\n",
       "      <td>0.524941</td>\n",
       "      <td>...</td>\n",
       "      <td>0.975740</td>\n",
       "      <td>0.746510</td>\n",
       "      <td>0.948546</td>\n",
       "      <td>-0.186927</td>\n",
       "      <td>0.958518</td>\n",
       "      <td>0.279767</td>\n",
       "      <td>0.950138</td>\n",
       "      <td>-0.177364</td>\n",
       "      <td>0.974785</td>\n",
       "      <td>Utkatakonasana</td>\n",
       "    </tr>\n",
       "    <tr>\n",
       "      <th>18</th>\n",
       "      <td>5313.0</td>\n",
       "      <td>0.339059</td>\n",
       "      <td>0.211452</td>\n",
       "      <td>-0.758825</td>\n",
       "      <td>0.999957</td>\n",
       "      <td>0.351835</td>\n",
       "      <td>0.184380</td>\n",
       "      <td>-0.722685</td>\n",
       "      <td>0.999916</td>\n",
       "      <td>0.358192</td>\n",
       "      <td>...</td>\n",
       "      <td>0.077722</td>\n",
       "      <td>0.424412</td>\n",
       "      <td>1.377947</td>\n",
       "      <td>0.124465</td>\n",
       "      <td>0.050771</td>\n",
       "      <td>0.235578</td>\n",
       "      <td>1.379886</td>\n",
       "      <td>0.026728</td>\n",
       "      <td>0.076624</td>\n",
       "      <td>Utkatakonasana</td>\n",
       "    </tr>\n",
       "    <tr>\n",
       "      <th>19</th>\n",
       "      <td>3538.0</td>\n",
       "      <td>0.504700</td>\n",
       "      <td>0.222164</td>\n",
       "      <td>-0.799706</td>\n",
       "      <td>0.999955</td>\n",
       "      <td>0.514060</td>\n",
       "      <td>0.206847</td>\n",
       "      <td>-0.769868</td>\n",
       "      <td>0.999909</td>\n",
       "      <td>0.520458</td>\n",
       "      <td>...</td>\n",
       "      <td>0.830700</td>\n",
       "      <td>0.554058</td>\n",
       "      <td>0.973211</td>\n",
       "      <td>0.256699</td>\n",
       "      <td>0.965214</td>\n",
       "      <td>0.482078</td>\n",
       "      <td>0.972061</td>\n",
       "      <td>0.241178</td>\n",
       "      <td>0.969440</td>\n",
       "      <td>Adhomukhasvanasana</td>\n",
       "    </tr>\n",
       "    <tr>\n",
       "      <th>20</th>\n",
       "      <td>NaN</td>\n",
       "      <td>0.471486</td>\n",
       "      <td>0.265947</td>\n",
       "      <td>-0.032118</td>\n",
       "      <td>0.999455</td>\n",
       "      <td>0.473190</td>\n",
       "      <td>0.249713</td>\n",
       "      <td>-0.054632</td>\n",
       "      <td>0.999481</td>\n",
       "      <td>0.474619</td>\n",
       "      <td>...</td>\n",
       "      <td>0.986503</td>\n",
       "      <td>0.663693</td>\n",
       "      <td>0.781742</td>\n",
       "      <td>-0.125009</td>\n",
       "      <td>0.997574</td>\n",
       "      <td>0.344046</td>\n",
       "      <td>0.764024</td>\n",
       "      <td>0.051673</td>\n",
       "      <td>0.991098</td>\n",
       "      <td>Virabhadrasana</td>\n",
       "    </tr>\n",
       "    <tr>\n",
       "      <th>21</th>\n",
       "      <td>6849.0</td>\n",
       "      <td>0.492939</td>\n",
       "      <td>0.258166</td>\n",
       "      <td>-0.426658</td>\n",
       "      <td>1.000000</td>\n",
       "      <td>0.500897</td>\n",
       "      <td>0.245194</td>\n",
       "      <td>-0.397268</td>\n",
       "      <td>0.999999</td>\n",
       "      <td>0.505068</td>\n",
       "      <td>...</td>\n",
       "      <td>0.971123</td>\n",
       "      <td>0.712324</td>\n",
       "      <td>0.792751</td>\n",
       "      <td>-0.125505</td>\n",
       "      <td>0.968332</td>\n",
       "      <td>0.268912</td>\n",
       "      <td>0.799728</td>\n",
       "      <td>-0.113718</td>\n",
       "      <td>0.968168</td>\n",
       "      <td>Utkatakonasana</td>\n",
       "    </tr>\n",
       "    <tr>\n",
       "      <th>22</th>\n",
       "      <td>14837.0</td>\n",
       "      <td>0.537163</td>\n",
       "      <td>0.425039</td>\n",
       "      <td>-0.141571</td>\n",
       "      <td>0.999996</td>\n",
       "      <td>0.532234</td>\n",
       "      <td>0.409761</td>\n",
       "      <td>-0.119829</td>\n",
       "      <td>0.999990</td>\n",
       "      <td>0.531592</td>\n",
       "      <td>...</td>\n",
       "      <td>0.981145</td>\n",
       "      <td>0.721527</td>\n",
       "      <td>0.900760</td>\n",
       "      <td>-0.088058</td>\n",
       "      <td>0.993523</td>\n",
       "      <td>0.290585</td>\n",
       "      <td>0.899704</td>\n",
       "      <td>-0.192758</td>\n",
       "      <td>0.995511</td>\n",
       "      <td>Virabhadrasana</td>\n",
       "    </tr>\n",
       "    <tr>\n",
       "      <th>23</th>\n",
       "      <td>NaN</td>\n",
       "      <td>0.517192</td>\n",
       "      <td>0.279886</td>\n",
       "      <td>0.043730</td>\n",
       "      <td>0.999976</td>\n",
       "      <td>0.525537</td>\n",
       "      <td>0.284589</td>\n",
       "      <td>0.031302</td>\n",
       "      <td>0.999985</td>\n",
       "      <td>0.525782</td>\n",
       "      <td>...</td>\n",
       "      <td>0.972750</td>\n",
       "      <td>0.656957</td>\n",
       "      <td>0.770951</td>\n",
       "      <td>-0.237348</td>\n",
       "      <td>0.993618</td>\n",
       "      <td>0.327438</td>\n",
       "      <td>0.761601</td>\n",
       "      <td>0.007388</td>\n",
       "      <td>0.957398</td>\n",
       "      <td>Virabhadrasana</td>\n",
       "    </tr>\n",
       "    <tr>\n",
       "      <th>24</th>\n",
       "      <td>8866.0</td>\n",
       "      <td>0.503241</td>\n",
       "      <td>0.415823</td>\n",
       "      <td>-0.309054</td>\n",
       "      <td>0.999997</td>\n",
       "      <td>0.513997</td>\n",
       "      <td>0.401374</td>\n",
       "      <td>-0.262235</td>\n",
       "      <td>0.999993</td>\n",
       "      <td>0.519735</td>\n",
       "      <td>...</td>\n",
       "      <td>0.995864</td>\n",
       "      <td>0.819422</td>\n",
       "      <td>0.923059</td>\n",
       "      <td>-0.089679</td>\n",
       "      <td>0.970793</td>\n",
       "      <td>0.188539</td>\n",
       "      <td>0.920387</td>\n",
       "      <td>-0.069295</td>\n",
       "      <td>0.990866</td>\n",
       "      <td>Utkatakonasana</td>\n",
       "    </tr>\n",
       "    <tr>\n",
       "      <th>25</th>\n",
       "      <td>769.0</td>\n",
       "      <td>0.616324</td>\n",
       "      <td>0.274210</td>\n",
       "      <td>0.014299</td>\n",
       "      <td>0.999140</td>\n",
       "      <td>0.607824</td>\n",
       "      <td>0.258669</td>\n",
       "      <td>0.032244</td>\n",
       "      <td>0.998838</td>\n",
       "      <td>0.606133</td>\n",
       "      <td>...</td>\n",
       "      <td>0.910259</td>\n",
       "      <td>0.602482</td>\n",
       "      <td>0.908666</td>\n",
       "      <td>0.452034</td>\n",
       "      <td>0.290862</td>\n",
       "      <td>0.619379</td>\n",
       "      <td>0.943821</td>\n",
       "      <td>0.014849</td>\n",
       "      <td>0.879134</td>\n",
       "      <td>Adhomukhasvanasana</td>\n",
       "    </tr>\n",
       "    <tr>\n",
       "      <th>26</th>\n",
       "      <td>5371.0</td>\n",
       "      <td>0.557179</td>\n",
       "      <td>0.206310</td>\n",
       "      <td>-0.240874</td>\n",
       "      <td>0.999988</td>\n",
       "      <td>0.562057</td>\n",
       "      <td>0.190793</td>\n",
       "      <td>-0.210883</td>\n",
       "      <td>0.999989</td>\n",
       "      <td>0.566594</td>\n",
       "      <td>...</td>\n",
       "      <td>0.942411</td>\n",
       "      <td>0.772843</td>\n",
       "      <td>0.913603</td>\n",
       "      <td>-0.089298</td>\n",
       "      <td>0.947902</td>\n",
       "      <td>0.335781</td>\n",
       "      <td>0.907905</td>\n",
       "      <td>-0.069518</td>\n",
       "      <td>0.959591</td>\n",
       "      <td>Utkatakonasana</td>\n",
       "    </tr>\n",
       "    <tr>\n",
       "      <th>27</th>\n",
       "      <td>NaN</td>\n",
       "      <td>0.273776</td>\n",
       "      <td>0.427705</td>\n",
       "      <td>-0.067044</td>\n",
       "      <td>0.999624</td>\n",
       "      <td>0.265845</td>\n",
       "      <td>0.417654</td>\n",
       "      <td>-0.086806</td>\n",
       "      <td>0.999748</td>\n",
       "      <td>0.266062</td>\n",
       "      <td>...</td>\n",
       "      <td>0.962873</td>\n",
       "      <td>0.715632</td>\n",
       "      <td>0.442178</td>\n",
       "      <td>-0.062692</td>\n",
       "      <td>0.987086</td>\n",
       "      <td>0.393879</td>\n",
       "      <td>0.765444</td>\n",
       "      <td>-0.013580</td>\n",
       "      <td>0.991153</td>\n",
       "      <td>Virabhadrasana</td>\n",
       "    </tr>\n",
       "    <tr>\n",
       "      <th>28</th>\n",
       "      <td>NaN</td>\n",
       "      <td>0.609052</td>\n",
       "      <td>0.310314</td>\n",
       "      <td>-0.020568</td>\n",
       "      <td>0.999832</td>\n",
       "      <td>0.603907</td>\n",
       "      <td>0.297560</td>\n",
       "      <td>-0.006947</td>\n",
       "      <td>0.999783</td>\n",
       "      <td>0.602641</td>\n",
       "      <td>...</td>\n",
       "      <td>0.986328</td>\n",
       "      <td>0.722464</td>\n",
       "      <td>0.772227</td>\n",
       "      <td>0.007230</td>\n",
       "      <td>0.954294</td>\n",
       "      <td>0.391367</td>\n",
       "      <td>0.792641</td>\n",
       "      <td>-0.210408</td>\n",
       "      <td>0.993468</td>\n",
       "      <td>Virabhadrasana</td>\n",
       "    </tr>\n",
       "    <tr>\n",
       "      <th>29</th>\n",
       "      <td>NaN</td>\n",
       "      <td>0.611633</td>\n",
       "      <td>0.589598</td>\n",
       "      <td>-0.352713</td>\n",
       "      <td>0.999983</td>\n",
       "      <td>0.614589</td>\n",
       "      <td>0.575297</td>\n",
       "      <td>-0.341342</td>\n",
       "      <td>0.999953</td>\n",
       "      <td>0.614195</td>\n",
       "      <td>...</td>\n",
       "      <td>0.982284</td>\n",
       "      <td>0.477071</td>\n",
       "      <td>0.954583</td>\n",
       "      <td>0.321620</td>\n",
       "      <td>0.979015</td>\n",
       "      <td>0.220632</td>\n",
       "      <td>0.553326</td>\n",
       "      <td>0.334735</td>\n",
       "      <td>0.988361</td>\n",
       "      <td>Virabhadrasana</td>\n",
       "    </tr>\n",
       "    <tr>\n",
       "      <th>30</th>\n",
       "      <td>1995.0</td>\n",
       "      <td>0.451030</td>\n",
       "      <td>0.251597</td>\n",
       "      <td>-0.322673</td>\n",
       "      <td>0.998656</td>\n",
       "      <td>0.445479</td>\n",
       "      <td>0.234561</td>\n",
       "      <td>-0.288826</td>\n",
       "      <td>0.998825</td>\n",
       "      <td>0.446177</td>\n",
       "      <td>...</td>\n",
       "      <td>0.817633</td>\n",
       "      <td>0.464239</td>\n",
       "      <td>0.910936</td>\n",
       "      <td>0.161013</td>\n",
       "      <td>0.466483</td>\n",
       "      <td>0.452048</td>\n",
       "      <td>0.913964</td>\n",
       "      <td>-0.138960</td>\n",
       "      <td>0.855406</td>\n",
       "      <td>Adhomukhasvanasana</td>\n",
       "    </tr>\n",
       "    <tr>\n",
       "      <th>31</th>\n",
       "      <td>3208.0</td>\n",
       "      <td>0.420134</td>\n",
       "      <td>0.252395</td>\n",
       "      <td>-0.180681</td>\n",
       "      <td>0.998693</td>\n",
       "      <td>0.412851</td>\n",
       "      <td>0.237510</td>\n",
       "      <td>-0.145246</td>\n",
       "      <td>0.998516</td>\n",
       "      <td>0.412578</td>\n",
       "      <td>...</td>\n",
       "      <td>0.807595</td>\n",
       "      <td>0.442286</td>\n",
       "      <td>0.884614</td>\n",
       "      <td>0.136023</td>\n",
       "      <td>0.341060</td>\n",
       "      <td>0.432448</td>\n",
       "      <td>0.891250</td>\n",
       "      <td>-0.192049</td>\n",
       "      <td>0.825835</td>\n",
       "      <td>Adhomukhasvanasana</td>\n",
       "    </tr>\n",
       "    <tr>\n",
       "      <th>32</th>\n",
       "      <td>NaN</td>\n",
       "      <td>0.517501</td>\n",
       "      <td>0.274906</td>\n",
       "      <td>-0.009162</td>\n",
       "      <td>0.999982</td>\n",
       "      <td>0.526459</td>\n",
       "      <td>0.281081</td>\n",
       "      <td>-0.022559</td>\n",
       "      <td>0.999988</td>\n",
       "      <td>0.526757</td>\n",
       "      <td>...</td>\n",
       "      <td>0.981151</td>\n",
       "      <td>0.563209</td>\n",
       "      <td>0.753909</td>\n",
       "      <td>-0.164781</td>\n",
       "      <td>0.996690</td>\n",
       "      <td>0.418529</td>\n",
       "      <td>0.766072</td>\n",
       "      <td>0.073924</td>\n",
       "      <td>0.973607</td>\n",
       "      <td>Virabhadrasana</td>\n",
       "    </tr>\n",
       "    <tr>\n",
       "      <th>33</th>\n",
       "      <td>843.0</td>\n",
       "      <td>0.598654</td>\n",
       "      <td>0.261596</td>\n",
       "      <td>-0.088170</td>\n",
       "      <td>0.999933</td>\n",
       "      <td>0.594360</td>\n",
       "      <td>0.249306</td>\n",
       "      <td>-0.057351</td>\n",
       "      <td>0.999930</td>\n",
       "      <td>0.595754</td>\n",
       "      <td>...</td>\n",
       "      <td>0.917928</td>\n",
       "      <td>0.605628</td>\n",
       "      <td>0.912239</td>\n",
       "      <td>0.370560</td>\n",
       "      <td>0.316559</td>\n",
       "      <td>0.621719</td>\n",
       "      <td>0.938988</td>\n",
       "      <td>-0.059330</td>\n",
       "      <td>0.911781</td>\n",
       "      <td>Adhomukhasvanasana</td>\n",
       "    </tr>\n",
       "    <tr>\n",
       "      <th>34</th>\n",
       "      <td>1405.0</td>\n",
       "      <td>0.625188</td>\n",
       "      <td>0.292448</td>\n",
       "      <td>0.026634</td>\n",
       "      <td>0.999523</td>\n",
       "      <td>0.616378</td>\n",
       "      <td>0.279441</td>\n",
       "      <td>0.042765</td>\n",
       "      <td>0.999359</td>\n",
       "      <td>0.614758</td>\n",
       "      <td>...</td>\n",
       "      <td>0.945885</td>\n",
       "      <td>0.609435</td>\n",
       "      <td>0.919963</td>\n",
       "      <td>0.458018</td>\n",
       "      <td>0.436128</td>\n",
       "      <td>0.622978</td>\n",
       "      <td>0.946064</td>\n",
       "      <td>0.011668</td>\n",
       "      <td>0.942387</td>\n",
       "      <td>Adhomukhasvanasana</td>\n",
       "    </tr>\n",
       "    <tr>\n",
       "      <th>35</th>\n",
       "      <td>NaN</td>\n",
       "      <td>0.585047</td>\n",
       "      <td>0.406209</td>\n",
       "      <td>-0.000546</td>\n",
       "      <td>0.999867</td>\n",
       "      <td>0.578968</td>\n",
       "      <td>0.392813</td>\n",
       "      <td>0.013042</td>\n",
       "      <td>0.999835</td>\n",
       "      <td>0.577574</td>\n",
       "      <td>...</td>\n",
       "      <td>0.983686</td>\n",
       "      <td>0.732123</td>\n",
       "      <td>0.889549</td>\n",
       "      <td>0.082548</td>\n",
       "      <td>0.954845</td>\n",
       "      <td>0.374874</td>\n",
       "      <td>0.918167</td>\n",
       "      <td>-0.233544</td>\n",
       "      <td>0.989522</td>\n",
       "      <td>Virabhadrasana</td>\n",
       "    </tr>\n",
       "    <tr>\n",
       "      <th>36</th>\n",
       "      <td>NaN</td>\n",
       "      <td>0.807148</td>\n",
       "      <td>0.254158</td>\n",
       "      <td>0.019922</td>\n",
       "      <td>0.999953</td>\n",
       "      <td>0.807581</td>\n",
       "      <td>0.240609</td>\n",
       "      <td>0.032665</td>\n",
       "      <td>0.999926</td>\n",
       "      <td>0.807113</td>\n",
       "      <td>...</td>\n",
       "      <td>0.977028</td>\n",
       "      <td>0.703153</td>\n",
       "      <td>0.771084</td>\n",
       "      <td>0.017764</td>\n",
       "      <td>0.945479</td>\n",
       "      <td>0.472508</td>\n",
       "      <td>0.693809</td>\n",
       "      <td>-0.205757</td>\n",
       "      <td>0.992916</td>\n",
       "      <td>Virabhadrasana</td>\n",
       "    </tr>\n",
       "    <tr>\n",
       "      <th>37</th>\n",
       "      <td>NaN</td>\n",
       "      <td>0.579219</td>\n",
       "      <td>0.369816</td>\n",
       "      <td>-0.078646</td>\n",
       "      <td>0.999394</td>\n",
       "      <td>0.573366</td>\n",
       "      <td>0.355698</td>\n",
       "      <td>-0.060565</td>\n",
       "      <td>0.998632</td>\n",
       "      <td>0.572118</td>\n",
       "      <td>...</td>\n",
       "      <td>0.977859</td>\n",
       "      <td>0.715549</td>\n",
       "      <td>0.884472</td>\n",
       "      <td>0.121255</td>\n",
       "      <td>0.965464</td>\n",
       "      <td>0.354258</td>\n",
       "      <td>0.905619</td>\n",
       "      <td>-0.124914</td>\n",
       "      <td>0.986495</td>\n",
       "      <td>Virabhadrasana</td>\n",
       "    </tr>\n",
       "    <tr>\n",
       "      <th>38</th>\n",
       "      <td>NaN</td>\n",
       "      <td>0.469777</td>\n",
       "      <td>0.304757</td>\n",
       "      <td>-0.197041</td>\n",
       "      <td>0.999925</td>\n",
       "      <td>0.476188</td>\n",
       "      <td>0.289016</td>\n",
       "      <td>-0.195496</td>\n",
       "      <td>0.999754</td>\n",
       "      <td>0.479482</td>\n",
       "      <td>...</td>\n",
       "      <td>0.988027</td>\n",
       "      <td>0.746074</td>\n",
       "      <td>0.786308</td>\n",
       "      <td>-0.143898</td>\n",
       "      <td>0.985524</td>\n",
       "      <td>0.290380</td>\n",
       "      <td>0.775739</td>\n",
       "      <td>-0.125545</td>\n",
       "      <td>0.984671</td>\n",
       "      <td>Virabhadrasana</td>\n",
       "    </tr>\n",
       "    <tr>\n",
       "      <th>39</th>\n",
       "      <td>14869.0</td>\n",
       "      <td>0.531527</td>\n",
       "      <td>0.363706</td>\n",
       "      <td>-0.145648</td>\n",
       "      <td>0.999737</td>\n",
       "      <td>0.526668</td>\n",
       "      <td>0.346544</td>\n",
       "      <td>-0.131194</td>\n",
       "      <td>0.999540</td>\n",
       "      <td>0.525633</td>\n",
       "      <td>...</td>\n",
       "      <td>0.858051</td>\n",
       "      <td>0.715021</td>\n",
       "      <td>0.890028</td>\n",
       "      <td>-0.048449</td>\n",
       "      <td>0.984362</td>\n",
       "      <td>0.322360</td>\n",
       "      <td>0.905227</td>\n",
       "      <td>0.043189</td>\n",
       "      <td>0.972289</td>\n",
       "      <td>Virabhadrasana</td>\n",
       "    </tr>\n",
       "    <tr>\n",
       "      <th>40</th>\n",
       "      <td>NaN</td>\n",
       "      <td>0.324800</td>\n",
       "      <td>0.468530</td>\n",
       "      <td>-0.107716</td>\n",
       "      <td>0.998706</td>\n",
       "      <td>0.318969</td>\n",
       "      <td>0.460664</td>\n",
       "      <td>-0.090631</td>\n",
       "      <td>0.999086</td>\n",
       "      <td>0.318765</td>\n",
       "      <td>...</td>\n",
       "      <td>0.871888</td>\n",
       "      <td>0.470807</td>\n",
       "      <td>0.943715</td>\n",
       "      <td>-0.251194</td>\n",
       "      <td>0.991532</td>\n",
       "      <td>0.173847</td>\n",
       "      <td>0.860301</td>\n",
       "      <td>0.374388</td>\n",
       "      <td>0.939426</td>\n",
       "      <td>Virabhadrasana</td>\n",
       "    </tr>\n",
       "    <tr>\n",
       "      <th>41</th>\n",
       "      <td>3948.0</td>\n",
       "      <td>0.584660</td>\n",
       "      <td>0.119612</td>\n",
       "      <td>-0.407544</td>\n",
       "      <td>0.999911</td>\n",
       "      <td>0.586263</td>\n",
       "      <td>0.101983</td>\n",
       "      <td>-0.369027</td>\n",
       "      <td>0.999840</td>\n",
       "      <td>0.588472</td>\n",
       "      <td>...</td>\n",
       "      <td>0.884776</td>\n",
       "      <td>0.604092</td>\n",
       "      <td>0.938494</td>\n",
       "      <td>0.399888</td>\n",
       "      <td>0.736527</td>\n",
       "      <td>0.608468</td>\n",
       "      <td>0.951303</td>\n",
       "      <td>-0.032129</td>\n",
       "      <td>0.952811</td>\n",
       "      <td>Adhomukhasvanasana</td>\n",
       "    </tr>\n",
       "    <tr>\n",
       "      <th>42</th>\n",
       "      <td>2495.0</td>\n",
       "      <td>0.553128</td>\n",
       "      <td>0.190127</td>\n",
       "      <td>-0.076287</td>\n",
       "      <td>0.995929</td>\n",
       "      <td>0.542467</td>\n",
       "      <td>0.183757</td>\n",
       "      <td>-0.054303</td>\n",
       "      <td>0.994628</td>\n",
       "      <td>0.541277</td>\n",
       "      <td>...</td>\n",
       "      <td>0.866725</td>\n",
       "      <td>0.564665</td>\n",
       "      <td>0.871137</td>\n",
       "      <td>0.351541</td>\n",
       "      <td>0.336522</td>\n",
       "      <td>0.562688</td>\n",
       "      <td>0.875836</td>\n",
       "      <td>-0.055658</td>\n",
       "      <td>0.871114</td>\n",
       "      <td>Adhomukhasvanasana</td>\n",
       "    </tr>\n",
       "    <tr>\n",
       "      <th>43</th>\n",
       "      <td>NaN</td>\n",
       "      <td>0.518254</td>\n",
       "      <td>0.275668</td>\n",
       "      <td>-0.020763</td>\n",
       "      <td>0.999873</td>\n",
       "      <td>0.527387</td>\n",
       "      <td>0.282431</td>\n",
       "      <td>-0.033333</td>\n",
       "      <td>0.999897</td>\n",
       "      <td>0.527797</td>\n",
       "      <td>...</td>\n",
       "      <td>0.988108</td>\n",
       "      <td>0.709451</td>\n",
       "      <td>0.758403</td>\n",
       "      <td>-0.242804</td>\n",
       "      <td>0.975254</td>\n",
       "      <td>0.333552</td>\n",
       "      <td>0.775904</td>\n",
       "      <td>0.092883</td>\n",
       "      <td>0.957056</td>\n",
       "      <td>Virabhadrasana</td>\n",
       "    </tr>\n",
       "    <tr>\n",
       "      <th>44</th>\n",
       "      <td>11743.0</td>\n",
       "      <td>0.314779</td>\n",
       "      <td>0.444248</td>\n",
       "      <td>-0.031720</td>\n",
       "      <td>0.999879</td>\n",
       "      <td>0.307623</td>\n",
       "      <td>0.423370</td>\n",
       "      <td>-0.059559</td>\n",
       "      <td>0.999870</td>\n",
       "      <td>0.308218</td>\n",
       "      <td>...</td>\n",
       "      <td>0.744271</td>\n",
       "      <td>0.836097</td>\n",
       "      <td>0.790635</td>\n",
       "      <td>0.027417</td>\n",
       "      <td>0.992109</td>\n",
       "      <td>0.802471</td>\n",
       "      <td>0.756247</td>\n",
       "      <td>0.319819</td>\n",
       "      <td>0.750454</td>\n",
       "      <td>Utkatasana</td>\n",
       "    </tr>\n",
       "    <tr>\n",
       "      <th>45</th>\n",
       "      <td>11674.0</td>\n",
       "      <td>0.251381</td>\n",
       "      <td>0.457732</td>\n",
       "      <td>-0.014682</td>\n",
       "      <td>0.999870</td>\n",
       "      <td>0.244281</td>\n",
       "      <td>0.434552</td>\n",
       "      <td>-0.040886</td>\n",
       "      <td>0.999871</td>\n",
       "      <td>0.244923</td>\n",
       "      <td>...</td>\n",
       "      <td>0.660830</td>\n",
       "      <td>0.831862</td>\n",
       "      <td>0.778916</td>\n",
       "      <td>-0.048372</td>\n",
       "      <td>0.979085</td>\n",
       "      <td>0.812093</td>\n",
       "      <td>0.764947</td>\n",
       "      <td>0.192372</td>\n",
       "      <td>0.676799</td>\n",
       "      <td>Utkatasana</td>\n",
       "    </tr>\n",
       "    <tr>\n",
       "      <th>46</th>\n",
       "      <td>NaN</td>\n",
       "      <td>0.593035</td>\n",
       "      <td>0.310539</td>\n",
       "      <td>-0.152133</td>\n",
       "      <td>0.999995</td>\n",
       "      <td>0.589578</td>\n",
       "      <td>0.297291</td>\n",
       "      <td>-0.130603</td>\n",
       "      <td>0.999991</td>\n",
       "      <td>0.589521</td>\n",
       "      <td>...</td>\n",
       "      <td>0.986761</td>\n",
       "      <td>0.758631</td>\n",
       "      <td>0.774804</td>\n",
       "      <td>-0.019666</td>\n",
       "      <td>0.990905</td>\n",
       "      <td>0.317837</td>\n",
       "      <td>0.781339</td>\n",
       "      <td>-0.150335</td>\n",
       "      <td>0.996921</td>\n",
       "      <td>Virabhadrasana</td>\n",
       "    </tr>\n",
       "    <tr>\n",
       "      <th>47</th>\n",
       "      <td>9848.0</td>\n",
       "      <td>0.410732</td>\n",
       "      <td>0.756978</td>\n",
       "      <td>0.026816</td>\n",
       "      <td>0.999553</td>\n",
       "      <td>0.392771</td>\n",
       "      <td>0.765100</td>\n",
       "      <td>-0.012971</td>\n",
       "      <td>0.999637</td>\n",
       "      <td>0.389879</td>\n",
       "      <td>...</td>\n",
       "      <td>0.546314</td>\n",
       "      <td>0.783311</td>\n",
       "      <td>0.943020</td>\n",
       "      <td>-0.125753</td>\n",
       "      <td>0.974485</td>\n",
       "      <td>0.774741</td>\n",
       "      <td>0.920161</td>\n",
       "      <td>0.299763</td>\n",
       "      <td>0.574953</td>\n",
       "      <td>Utkatasana</td>\n",
       "    </tr>\n",
       "    <tr>\n",
       "      <th>48</th>\n",
       "      <td>10043.0</td>\n",
       "      <td>0.219315</td>\n",
       "      <td>0.399372</td>\n",
       "      <td>-0.278168</td>\n",
       "      <td>0.999987</td>\n",
       "      <td>0.216525</td>\n",
       "      <td>0.370513</td>\n",
       "      <td>-0.274516</td>\n",
       "      <td>0.999983</td>\n",
       "      <td>0.219577</td>\n",
       "      <td>...</td>\n",
       "      <td>0.865604</td>\n",
       "      <td>0.796662</td>\n",
       "      <td>0.805717</td>\n",
       "      <td>0.125125</td>\n",
       "      <td>0.993754</td>\n",
       "      <td>0.775421</td>\n",
       "      <td>0.758159</td>\n",
       "      <td>0.502730</td>\n",
       "      <td>0.847706</td>\n",
       "      <td>Utkatasana</td>\n",
       "    </tr>\n",
       "    <tr>\n",
       "      <th>49</th>\n",
       "      <td>6640.0</td>\n",
       "      <td>0.492272</td>\n",
       "      <td>0.265154</td>\n",
       "      <td>-0.344638</td>\n",
       "      <td>0.999997</td>\n",
       "      <td>0.499294</td>\n",
       "      <td>0.249624</td>\n",
       "      <td>-0.307994</td>\n",
       "      <td>0.999995</td>\n",
       "      <td>0.503536</td>\n",
       "      <td>...</td>\n",
       "      <td>0.994312</td>\n",
       "      <td>0.720109</td>\n",
       "      <td>0.790791</td>\n",
       "      <td>-0.092870</td>\n",
       "      <td>0.966360</td>\n",
       "      <td>0.265111</td>\n",
       "      <td>0.800147</td>\n",
       "      <td>-0.083082</td>\n",
       "      <td>0.989769</td>\n",
       "      <td>Utkatakonasana</td>\n",
       "    </tr>\n",
       "  </tbody>\n",
       "</table>\n",
       "<p>50 rows × 134 columns</p>\n",
       "</div>"
      ],
      "text/plain": [
       "    Unnamed: 0    NOSE_x    NOSE_y    NOSE_z  NOSE_visiblity  \\\n",
       "0          NaN  0.578448  0.298039 -0.317112        0.999999   \n",
       "1          NaN  0.359901  0.461018 -0.231700        0.999497   \n",
       "2       3147.0  0.419541  0.249250 -0.155843        0.997396   \n",
       "3       7908.0  0.475262  0.286882 -0.688793        0.999953   \n",
       "4      10959.0  0.247435  0.193161 -0.536878        0.999965   \n",
       "5       8160.0  0.498662  0.321754 -0.731871        0.999964   \n",
       "6       3784.0  0.610082  0.130429 -0.394544        0.999553   \n",
       "7      13602.0  0.436532  0.663153 -0.049324        0.996976   \n",
       "8      10142.0  0.212298  0.420778 -0.285506        0.999941   \n",
       "9       5954.0  0.531751  0.195809 -0.443402        0.999994   \n",
       "10         NaN  0.621781  0.319850 -0.070734        0.999765   \n",
       "11      8676.0  0.493092  0.415791 -0.421358        0.999958   \n",
       "12     13966.0  0.499351  0.700446 -0.032108        0.999886   \n",
       "13      9070.0  0.512955  0.409315 -0.398791        0.999996   \n",
       "14       156.0  0.623434  0.212896 -0.325934        0.999922   \n",
       "15         NaN  0.578512  0.297994 -0.315734        0.999999   \n",
       "16      8465.0  0.511186  0.419417 -0.242767        0.999996   \n",
       "17      4598.0  0.511573  0.263223 -0.385361        0.999992   \n",
       "18      5313.0  0.339059  0.211452 -0.758825        0.999957   \n",
       "19      3538.0  0.504700  0.222164 -0.799706        0.999955   \n",
       "20         NaN  0.471486  0.265947 -0.032118        0.999455   \n",
       "21      6849.0  0.492939  0.258166 -0.426658        1.000000   \n",
       "22     14837.0  0.537163  0.425039 -0.141571        0.999996   \n",
       "23         NaN  0.517192  0.279886  0.043730        0.999976   \n",
       "24      8866.0  0.503241  0.415823 -0.309054        0.999997   \n",
       "25       769.0  0.616324  0.274210  0.014299        0.999140   \n",
       "26      5371.0  0.557179  0.206310 -0.240874        0.999988   \n",
       "27         NaN  0.273776  0.427705 -0.067044        0.999624   \n",
       "28         NaN  0.609052  0.310314 -0.020568        0.999832   \n",
       "29         NaN  0.611633  0.589598 -0.352713        0.999983   \n",
       "30      1995.0  0.451030  0.251597 -0.322673        0.998656   \n",
       "31      3208.0  0.420134  0.252395 -0.180681        0.998693   \n",
       "32         NaN  0.517501  0.274906 -0.009162        0.999982   \n",
       "33       843.0  0.598654  0.261596 -0.088170        0.999933   \n",
       "34      1405.0  0.625188  0.292448  0.026634        0.999523   \n",
       "35         NaN  0.585047  0.406209 -0.000546        0.999867   \n",
       "36         NaN  0.807148  0.254158  0.019922        0.999953   \n",
       "37         NaN  0.579219  0.369816 -0.078646        0.999394   \n",
       "38         NaN  0.469777  0.304757 -0.197041        0.999925   \n",
       "39     14869.0  0.531527  0.363706 -0.145648        0.999737   \n",
       "40         NaN  0.324800  0.468530 -0.107716        0.998706   \n",
       "41      3948.0  0.584660  0.119612 -0.407544        0.999911   \n",
       "42      2495.0  0.553128  0.190127 -0.076287        0.995929   \n",
       "43         NaN  0.518254  0.275668 -0.020763        0.999873   \n",
       "44     11743.0  0.314779  0.444248 -0.031720        0.999879   \n",
       "45     11674.0  0.251381  0.457732 -0.014682        0.999870   \n",
       "46         NaN  0.593035  0.310539 -0.152133        0.999995   \n",
       "47      9848.0  0.410732  0.756978  0.026816        0.999553   \n",
       "48     10043.0  0.219315  0.399372 -0.278168        0.999987   \n",
       "49      6640.0  0.492272  0.265154 -0.344638        0.999997   \n",
       "\n",
       "    LEFT_EYE_INNER_x  LEFT_EYE_INNER_y  LEFT_EYE_INNER_z  \\\n",
       "0           0.578381          0.282798         -0.298318   \n",
       "1           0.358821          0.447564         -0.210097   \n",
       "2           0.411996          0.233838         -0.121864   \n",
       "3           0.485981          0.271818         -0.664184   \n",
       "4           0.233303          0.160199         -0.583995   \n",
       "5           0.506481          0.307300         -0.714694   \n",
       "6           0.612240          0.113283         -0.360823   \n",
       "7           0.421991          0.666053         -0.074976   \n",
       "8           0.207417          0.391636         -0.282805   \n",
       "9           0.540080          0.173124         -0.410314   \n",
       "10          0.618851          0.305894         -0.055313   \n",
       "11          0.504711          0.404430         -0.387085   \n",
       "12          0.488353          0.706411         -0.057172   \n",
       "13          0.523023          0.395495         -0.355732   \n",
       "14          0.627378          0.197233         -0.288842   \n",
       "15          0.578443          0.282773         -0.296942   \n",
       "16          0.520108          0.407353         -0.200162   \n",
       "17          0.520226          0.245436         -0.350576   \n",
       "18          0.351835          0.184380         -0.722685   \n",
       "19          0.514060          0.206847         -0.769868   \n",
       "20          0.473190          0.249713         -0.054632   \n",
       "21          0.500897          0.245194         -0.397268   \n",
       "22          0.532234          0.409761         -0.119829   \n",
       "23          0.525537          0.284589          0.031302   \n",
       "24          0.513997          0.401374         -0.262235   \n",
       "25          0.607824          0.258669          0.032244   \n",
       "26          0.562057          0.190793         -0.210883   \n",
       "27          0.265845          0.417654         -0.086806   \n",
       "28          0.603907          0.297560         -0.006947   \n",
       "29          0.614589          0.575297         -0.341342   \n",
       "30          0.445479          0.234561         -0.288826   \n",
       "31          0.412851          0.237510         -0.145246   \n",
       "32          0.526459          0.281081         -0.022559   \n",
       "33          0.594360          0.249306         -0.057351   \n",
       "34          0.616378          0.279441          0.042765   \n",
       "35          0.578968          0.392813          0.013042   \n",
       "36          0.807581          0.240609          0.032665   \n",
       "37          0.573366          0.355698         -0.060565   \n",
       "38          0.476188          0.289016         -0.195496   \n",
       "39          0.526668          0.346544         -0.131194   \n",
       "40          0.318969          0.460664         -0.090631   \n",
       "41          0.586263          0.101983         -0.369027   \n",
       "42          0.542467          0.183757         -0.054303   \n",
       "43          0.527387          0.282431         -0.033333   \n",
       "44          0.307623          0.423370         -0.059559   \n",
       "45          0.244281          0.434552         -0.040886   \n",
       "46          0.589578          0.297291         -0.130603   \n",
       "47          0.392771          0.765100         -0.012971   \n",
       "48          0.216525          0.370513         -0.274516   \n",
       "49          0.499294          0.249624         -0.307994   \n",
       "\n",
       "    LEFT_EYE_INNER_visiblity  LEFT_EYE_x  ...  RIGHT_HEEL_visiblity  \\\n",
       "0                   0.999998    0.579210  ...              0.968246   \n",
       "1                   0.999693    0.358722  ...              0.956003   \n",
       "2                   0.996887    0.411841  ...              0.849862   \n",
       "3                   0.999890    0.491492  ...              0.948495   \n",
       "4                   0.999958    0.237158  ...              0.415161   \n",
       "5                   0.999914    0.510917  ...              0.950582   \n",
       "6                   0.998947    0.614397  ...              0.880889   \n",
       "7                   0.998014    0.420292  ...              0.562301   \n",
       "8                   0.999925    0.209579  ...              0.786141   \n",
       "9                   0.999993    0.545188  ...              0.417312   \n",
       "10                  0.999600    0.618271  ...              0.986483   \n",
       "11                  0.999824    0.510319  ...              0.996710   \n",
       "12                  0.999912    0.487533  ...              0.654298   \n",
       "13                  0.999991    0.529014  ...              0.996647   \n",
       "14                  0.999826    0.629735  ...              0.878453   \n",
       "15                  0.999998    0.579266  ...              0.968222   \n",
       "16                  0.999991    0.526132  ...              0.986476   \n",
       "17                  0.999993    0.524941  ...              0.975740   \n",
       "18                  0.999916    0.358192  ...              0.077722   \n",
       "19                  0.999909    0.520458  ...              0.830700   \n",
       "20                  0.999481    0.474619  ...              0.986503   \n",
       "21                  0.999999    0.505068  ...              0.971123   \n",
       "22                  0.999990    0.531592  ...              0.981145   \n",
       "23                  0.999985    0.525782  ...              0.972750   \n",
       "24                  0.999993    0.519735  ...              0.995864   \n",
       "25                  0.998838    0.606133  ...              0.910259   \n",
       "26                  0.999989    0.566594  ...              0.942411   \n",
       "27                  0.999748    0.266062  ...              0.962873   \n",
       "28                  0.999783    0.602641  ...              0.986328   \n",
       "29                  0.999953    0.614195  ...              0.982284   \n",
       "30                  0.998825    0.446177  ...              0.817633   \n",
       "31                  0.998516    0.412578  ...              0.807595   \n",
       "32                  0.999988    0.526757  ...              0.981151   \n",
       "33                  0.999930    0.595754  ...              0.917928   \n",
       "34                  0.999359    0.614758  ...              0.945885   \n",
       "35                  0.999835    0.577574  ...              0.983686   \n",
       "36                  0.999926    0.807113  ...              0.977028   \n",
       "37                  0.998632    0.572118  ...              0.977859   \n",
       "38                  0.999754    0.479482  ...              0.988027   \n",
       "39                  0.999540    0.525633  ...              0.858051   \n",
       "40                  0.999086    0.318765  ...              0.871888   \n",
       "41                  0.999840    0.588472  ...              0.884776   \n",
       "42                  0.994628    0.541277  ...              0.866725   \n",
       "43                  0.999897    0.527797  ...              0.988108   \n",
       "44                  0.999870    0.308218  ...              0.744271   \n",
       "45                  0.999871    0.244923  ...              0.660830   \n",
       "46                  0.999991    0.589521  ...              0.986761   \n",
       "47                  0.999637    0.389879  ...              0.546314   \n",
       "48                  0.999983    0.219577  ...              0.865604   \n",
       "49                  0.999995    0.503536  ...              0.994312   \n",
       "\n",
       "    LEFT_FOOT_INDEX_x  LEFT_FOOT_INDEX_y  LEFT_FOOT_INDEX_z  \\\n",
       "0            0.760104           0.783357          -0.077465   \n",
       "1            0.477286           0.953005          -0.024563   \n",
       "2            0.443583           0.884018           0.127326   \n",
       "3            0.738753           0.933790           0.021645   \n",
       "4            0.874289           0.551771           0.267591   \n",
       "5            0.786235           0.920865          -0.014112   \n",
       "6            0.612472           0.933699           0.315603   \n",
       "7            0.692919           0.799473          -0.018318   \n",
       "8            0.739807           0.811021           0.176983   \n",
       "9            0.770749           1.071904          -0.379331   \n",
       "10           0.727132           0.770871           0.066041   \n",
       "11           0.812516           0.937988          -0.094733   \n",
       "12           0.685168           0.761559           0.094154   \n",
       "13           0.823859           0.915044          -0.051806   \n",
       "14           0.609054           0.917831           0.384183   \n",
       "15           0.760027           0.783327          -0.075815   \n",
       "16           0.814232           0.934794          -0.189936   \n",
       "17           0.746510           0.948546          -0.186927   \n",
       "18           0.424412           1.377947           0.124465   \n",
       "19           0.554058           0.973211           0.256699   \n",
       "20           0.663693           0.781742          -0.125009   \n",
       "21           0.712324           0.792751          -0.125505   \n",
       "22           0.721527           0.900760          -0.088058   \n",
       "23           0.656957           0.770951          -0.237348   \n",
       "24           0.819422           0.923059          -0.089679   \n",
       "25           0.602482           0.908666           0.452034   \n",
       "26           0.772843           0.913603          -0.089298   \n",
       "27           0.715632           0.442178          -0.062692   \n",
       "28           0.722464           0.772227           0.007230   \n",
       "29           0.477071           0.954583           0.321620   \n",
       "30           0.464239           0.910936           0.161013   \n",
       "31           0.442286           0.884614           0.136023   \n",
       "32           0.563209           0.753909          -0.164781   \n",
       "33           0.605628           0.912239           0.370560   \n",
       "34           0.609435           0.919963           0.458018   \n",
       "35           0.732123           0.889549           0.082548   \n",
       "36           0.703153           0.771084           0.017764   \n",
       "37           0.715549           0.884472           0.121255   \n",
       "38           0.746074           0.786308          -0.143898   \n",
       "39           0.715021           0.890028          -0.048449   \n",
       "40           0.470807           0.943715          -0.251194   \n",
       "41           0.604092           0.938494           0.399888   \n",
       "42           0.564665           0.871137           0.351541   \n",
       "43           0.709451           0.758403          -0.242804   \n",
       "44           0.836097           0.790635           0.027417   \n",
       "45           0.831862           0.778916          -0.048372   \n",
       "46           0.758631           0.774804          -0.019666   \n",
       "47           0.783311           0.943020          -0.125753   \n",
       "48           0.796662           0.805717           0.125125   \n",
       "49           0.720109           0.790791          -0.092870   \n",
       "\n",
       "    LEFT_FOOT_INDEX_visiblity  RIGHT_FOOT_INDEX_x  RIGHT_FOOT_INDEX_y  \\\n",
       "0                    0.983457            0.322369            0.780748   \n",
       "1                    0.989073            0.185604            0.875756   \n",
       "2                    0.421305            0.432150            0.890322   \n",
       "3                    0.993262            0.192034            0.939074   \n",
       "4                    0.979100            0.817789            0.503128   \n",
       "5                    0.988027            0.160227            0.913358   \n",
       "6                    0.664486            0.612133            0.957887   \n",
       "7                    0.976076            0.685614            0.785580   \n",
       "8                    0.977522            0.721384            0.771303   \n",
       "9                    0.323833            0.238744            1.070316   \n",
       "10                   0.962734            0.387700            0.790864   \n",
       "11                   0.976659            0.173937            0.927076   \n",
       "12                   0.979491            0.674834            0.747757   \n",
       "13                   0.979106            0.183032            0.908819   \n",
       "14                   0.621257            0.624636            0.949365   \n",
       "15                   0.983430            0.322315            0.781075   \n",
       "16                   0.964723            0.174148            0.930144   \n",
       "17                   0.958518            0.279767            0.950138   \n",
       "18                   0.050771            0.235578            1.379886   \n",
       "19                   0.965214            0.482078            0.972061   \n",
       "20                   0.997574            0.344046            0.764024   \n",
       "21                   0.968332            0.268912            0.799728   \n",
       "22                   0.993523            0.290585            0.899704   \n",
       "23                   0.993618            0.327438            0.761601   \n",
       "24                   0.970793            0.188539            0.920387   \n",
       "25                   0.290862            0.619379            0.943821   \n",
       "26                   0.947902            0.335781            0.907905   \n",
       "27                   0.987086            0.393879            0.765444   \n",
       "28                   0.954294            0.391367            0.792641   \n",
       "29                   0.979015            0.220632            0.553326   \n",
       "30                   0.466483            0.452048            0.913964   \n",
       "31                   0.341060            0.432448            0.891250   \n",
       "32                   0.996690            0.418529            0.766072   \n",
       "33                   0.316559            0.621719            0.938988   \n",
       "34                   0.436128            0.622978            0.946064   \n",
       "35                   0.954845            0.374874            0.918167   \n",
       "36                   0.945479            0.472508            0.693809   \n",
       "37                   0.965464            0.354258            0.905619   \n",
       "38                   0.985524            0.290380            0.775739   \n",
       "39                   0.984362            0.322360            0.905227   \n",
       "40                   0.991532            0.173847            0.860301   \n",
       "41                   0.736527            0.608468            0.951303   \n",
       "42                   0.336522            0.562688            0.875836   \n",
       "43                   0.975254            0.333552            0.775904   \n",
       "44                   0.992109            0.802471            0.756247   \n",
       "45                   0.979085            0.812093            0.764947   \n",
       "46                   0.990905            0.317837            0.781339   \n",
       "47                   0.974485            0.774741            0.920161   \n",
       "48                   0.993754            0.775421            0.758159   \n",
       "49                   0.966360            0.265111            0.800147   \n",
       "\n",
       "    RIGHT_FOOT_INDEX_z  RIGHT_FOOT_INDEX_visiblity              target  \n",
       "0            -0.172348                    0.994242      Virabhadrasana  \n",
       "1             0.183238                    0.982086      Virabhadrasana  \n",
       "2            -0.217247                    0.876923  Adhomukhasvanasana  \n",
       "3             0.051685                    0.993845      Utkatakonasana  \n",
       "4             0.510651                    0.633577          Utkatasana  \n",
       "5             0.044717                    0.988304      Utkatakonasana  \n",
       "6            -0.104822                    0.945510  Adhomukhasvanasana  \n",
       "7             0.286900                    0.614779          Utkatasana  \n",
       "8             0.543152                    0.751479          Utkatasana  \n",
       "9            -0.387674                    0.255677      Utkatakonasana  \n",
       "10           -0.155633                    0.993234      Virabhadrasana  \n",
       "11           -0.048853                    0.993557      Utkatakonasana  \n",
       "12            0.384922                    0.736912          Utkatasana  \n",
       "13           -0.041064                    0.992576      Utkatakonasana  \n",
       "14            0.003317                    0.941672  Adhomukhasvanasana  \n",
       "15           -0.171113                    0.994253      Virabhadrasana  \n",
       "16           -0.133255                    0.981807      Utkatakonasana  \n",
       "17           -0.177364                    0.974785      Utkatakonasana  \n",
       "18            0.026728                    0.076624      Utkatakonasana  \n",
       "19            0.241178                    0.969440  Adhomukhasvanasana  \n",
       "20            0.051673                    0.991098      Virabhadrasana  \n",
       "21           -0.113718                    0.968168      Utkatakonasana  \n",
       "22           -0.192758                    0.995511      Virabhadrasana  \n",
       "23            0.007388                    0.957398      Virabhadrasana  \n",
       "24           -0.069295                    0.990866      Utkatakonasana  \n",
       "25            0.014849                    0.879134  Adhomukhasvanasana  \n",
       "26           -0.069518                    0.959591      Utkatakonasana  \n",
       "27           -0.013580                    0.991153      Virabhadrasana  \n",
       "28           -0.210408                    0.993468      Virabhadrasana  \n",
       "29            0.334735                    0.988361      Virabhadrasana  \n",
       "30           -0.138960                    0.855406  Adhomukhasvanasana  \n",
       "31           -0.192049                    0.825835  Adhomukhasvanasana  \n",
       "32            0.073924                    0.973607      Virabhadrasana  \n",
       "33           -0.059330                    0.911781  Adhomukhasvanasana  \n",
       "34            0.011668                    0.942387  Adhomukhasvanasana  \n",
       "35           -0.233544                    0.989522      Virabhadrasana  \n",
       "36           -0.205757                    0.992916      Virabhadrasana  \n",
       "37           -0.124914                    0.986495      Virabhadrasana  \n",
       "38           -0.125545                    0.984671      Virabhadrasana  \n",
       "39            0.043189                    0.972289      Virabhadrasana  \n",
       "40            0.374388                    0.939426      Virabhadrasana  \n",
       "41           -0.032129                    0.952811  Adhomukhasvanasana  \n",
       "42           -0.055658                    0.871114  Adhomukhasvanasana  \n",
       "43            0.092883                    0.957056      Virabhadrasana  \n",
       "44            0.319819                    0.750454          Utkatasana  \n",
       "45            0.192372                    0.676799          Utkatasana  \n",
       "46           -0.150335                    0.996921      Virabhadrasana  \n",
       "47            0.299763                    0.574953          Utkatasana  \n",
       "48            0.502730                    0.847706          Utkatasana  \n",
       "49           -0.083082                    0.989769      Utkatakonasana  \n",
       "\n",
       "[50 rows x 134 columns]"
      ]
     },
     "execution_count": 18,
     "metadata": {},
     "output_type": "execute_result"
    }
   ],
   "source": [
    "df1.head(50)"
   ]
  },
  {
   "cell_type": "code",
   "execution_count": 20,
   "metadata": {},
   "outputs": [],
   "source": [
    "# df1.to_csv(\"yoga_poses_dataset_trial.csv\")\n",
    "df1.drop(\"Unnamed: 0\",axis=1,inplace=True)\n",
    "df1.to_csv(\"yoga_poses_new_dataset.csv\")"
   ]
  },
  {
   "cell_type": "code",
   "execution_count": null,
   "metadata": {},
   "outputs": [],
   "source": []
  },
  {
   "cell_type": "code",
   "execution_count": 21,
   "metadata": {},
   "outputs": [],
   "source": [
    "df=pd.read_csv(\"yoga_poses_new_dataset.csv\")"
   ]
  },
  {
   "cell_type": "code",
   "execution_count": 22,
   "metadata": {},
   "outputs": [],
   "source": [
    "import math"
   ]
  },
  {
   "cell_type": "code",
   "execution_count": 23,
   "metadata": {},
   "outputs": [
    {
     "name": "stdout",
     "output_type": "stream",
     "text": [
      "1.4464678940402966\n"
     ]
    }
   ],
   "source": [
    "def calculate_angle(A,B):\n",
    "    unit_A=A/np.linalg.norm(A)\n",
    "    unit_B=B/np.linalg.norm(B)\n",
    "\n",
    "    return np.arccos(np.dot(unit_A,unit_B))\n",
    "\n",
    "print(calculate_angle([-48.5,0,-1],[-1,-8,0]))\n",
    "\n",
    "\n",
    "def joint_angle(df):\n",
    "    chest_vector=np.transpose(np.array([df['LEFT_SHOULDER_x']-df['RIGHT_SHOULDER_x'],df['LEFT_SHOULDER_y']-df['RIGHT_SHOULDER_y'],df['LEFT_SHOULDER_z']-df['RIGHT_SHOULDER_z']]))\n",
    "    left_upper_arm_vector=np.transpose(np.array([df['LEFT_ELBOW_x']-df['LEFT_SHOULDER_x'],df['LEFT_ELBOW_y']-df['LEFT_SHOULDER_y'],df['LEFT_ELBOW_z']-df['LEFT_SHOULDER_z']]))\n",
    "    right_upper_arm_vector=np.transpose(np.array([df['RIGHT_ELBOW_x']-df['RIGHT_SHOULDER_x'],df['RIGHT_ELBOW_y']-df['RIGHT_SHOULDER_y'],df['RIGHT_ELBOW_z']-df['RIGHT_SHOULDER_z']]))\n",
    "    left_lower_arm_vector=np.transpose(np.array([df['LEFT_WRIST_x']-df['LEFT_ELBOW_x'],df['LEFT_WRIST_y']-df['LEFT_ELBOW_y'],df['LEFT_WRIST_z']-df['LEFT_ELBOW_z']]))\n",
    "    right_lower_arm_vector=np.transpose(np.array([df['RIGHT_WRIST_x']-df['RIGHT_ELBOW_x'],df['RIGHT_WRIST_y']-df['RIGHT_ELBOW_y'],df['RIGHT_WRIST_z']-df['RIGHT_ELBOW_z']]))\n",
    "    lowerbody_vector=np.transpose(np.array([df['LEFT_HIP_x']-df['RIGHT_HIP_x'],df['LEFT_HIP_y']-df['RIGHT_HIP_y'],df['LEFT_HIP_z']-df['RIGHT_HIP_z']]))\n",
    "    left_upper_foot_vector=np.transpose(np.array([df['LEFT_KNEE_x']-df['LEFT_HIP_x'],df['LEFT_KNEE_y']-df['LEFT_HIP_y'],df['LEFT_KNEE_z']-df['LEFT_HIP_z']]))\n",
    "    right_upper_foot_vector=np.transpose(np.array([df['RIGHT_KNEE_x']-df['RIGHT_HIP_x'],df['RIGHT_KNEE_y']-df['RIGHT_HIP_y'],df['RIGHT_KNEE_z']-df['RIGHT_HIP_z']]))\n",
    "    left_lower_foot_vector=np.transpose(np.array([df['LEFT_ANKLE_x']-df['LEFT_KNEE_x'],df['LEFT_ANKLE_y']-df['LEFT_KNEE_y'],df['LEFT_ANKLE_z']-df['LEFT_KNEE_z']]))\n",
    "    right_lower_foot_vector=np.transpose(np.array([df['RIGHT_ANKLE_x']-df['RIGHT_KNEE_x'],df['RIGHT_ANKLE_y']-df['RIGHT_KNEE_y'],df['RIGHT_ANKLE_z']-df['RIGHT_KNEE_z']]))\n",
    "    mouth_vector=np.transpose(np.array([df['MOUTH_LEFT_x']-df['MOUTH_RIGHT_x'],df['MOUTH_LEFT_y']-df['MOUTH_RIGHT_y'],df['MOUTH_LEFT_z']-df['MOUTH_RIGHT_z']]))\n",
    "    \n",
    "    \n",
    "    df['head_angle']=([calculate_angle(mouth_vector[i],(chest_vector[i])) for i in range(len(mouth_vector))])\n",
    "    df['left_shoulder_angle']=([calculate_angle(chest_vector[i],(left_upper_arm_vector[i])) for i in range(len(chest_vector))])\n",
    "    df['right_shoulder_angle']=([calculate_angle(chest_vector[i],(right_upper_arm_vector[i])) for i in range(len(chest_vector))])\n",
    "    df['left_elbow_angle']=([calculate_angle(left_upper_arm_vector[i],(left_lower_arm_vector[i])) for i in range(len(left_upper_arm_vector))])\n",
    "    df['right_elbow_angle']=([calculate_angle(right_upper_arm_vector[i],(right_lower_arm_vector[i])) for i in range(len(right_upper_arm_vector))])\n",
    "    df['body_angle']=([calculate_angle(chest_vector[i],(lowerbody_vector[i])) for i in range(len(chest_vector))])\n",
    "    df['left_upper_leg_angle']=([calculate_angle(lowerbody_vector[i],(left_upper_foot_vector[i])) for i in range(len(lowerbody_vector))])\n",
    "    df['right_upper_leg_angle']=([calculate_angle(lowerbody_vector[i],(right_upper_foot_vector[i]))for i in range(len(lowerbody_vector))])\n",
    "    df['left_lower_leg_angle']=([calculate_angle(left_upper_foot_vector[i],(left_lower_foot_vector[i])) for i in range(len(left_upper_foot_vector))])\n",
    "    df['right_lower_leg_angle']=([calculate_angle(right_upper_foot_vector[i],(right_lower_foot_vector[i])) for i in range(len(right_upper_foot_vector))])\n",
    "    df['body_angle_two']=([calculate_angle(mouth_vector[i],(lowerbody_vector[i])) for i in range(len(lowerbody_vector))])"
   ]
  },
  {
   "cell_type": "code",
   "execution_count": 24,
   "metadata": {},
   "outputs": [],
   "source": [
    "joint_angle(df)"
   ]
  },
  {
   "cell_type": "code",
   "execution_count": 26,
   "metadata": {},
   "outputs": [
    {
     "name": "stdout",
     "output_type": "stream",
     "text": [
      "<class 'pandas.core.frame.DataFrame'>\n",
      "RangeIndex: 135088 entries, 0 to 135087\n",
      "Columns: 145 entries, NOSE_x to Unnamed: 0\n",
      "dtypes: float64(144), object(1)\n",
      "memory usage: 149.4+ MB\n",
      "None\n"
     ]
    }
   ],
   "source": [
    "df.drop(\"Unnamed: 0\",axis=1,inplace=True)\n",
    "olddf=pd.read_csv(\"new_final_dataset.csv\")\n",
    "\n",
    "df=df.append(olddf)\n",
    "\n",
    "df = df.sample(frac=1).reset_index(drop=True)\n",
    "\n",
    "print(df.info())\n"
   ]
  },
  {
   "cell_type": "code",
   "execution_count": 27,
   "metadata": {},
   "outputs": [
    {
     "data": {
      "text/html": [
       "<div>\n",
       "<style scoped>\n",
       "    .dataframe tbody tr th:only-of-type {\n",
       "        vertical-align: middle;\n",
       "    }\n",
       "\n",
       "    .dataframe tbody tr th {\n",
       "        vertical-align: top;\n",
       "    }\n",
       "\n",
       "    .dataframe thead th {\n",
       "        text-align: right;\n",
       "    }\n",
       "</style>\n",
       "<table border=\"1\" class=\"dataframe\">\n",
       "  <thead>\n",
       "    <tr style=\"text-align: right;\">\n",
       "      <th></th>\n",
       "      <th>NOSE_x</th>\n",
       "      <th>NOSE_y</th>\n",
       "      <th>NOSE_z</th>\n",
       "      <th>NOSE_visiblity</th>\n",
       "      <th>LEFT_EYE_INNER_x</th>\n",
       "      <th>LEFT_EYE_INNER_y</th>\n",
       "      <th>LEFT_EYE_INNER_z</th>\n",
       "      <th>LEFT_EYE_INNER_visiblity</th>\n",
       "      <th>LEFT_EYE_x</th>\n",
       "      <th>LEFT_EYE_y</th>\n",
       "      <th>...</th>\n",
       "      <th>right_shoulder_angle</th>\n",
       "      <th>left_elbow_angle</th>\n",
       "      <th>right_elbow_angle</th>\n",
       "      <th>body_angle</th>\n",
       "      <th>left_upper_leg_angle</th>\n",
       "      <th>right_upper_leg_angle</th>\n",
       "      <th>left_lower_leg_angle</th>\n",
       "      <th>right_lower_leg_angle</th>\n",
       "      <th>body_angle_two</th>\n",
       "      <th>Unnamed: 0</th>\n",
       "    </tr>\n",
       "  </thead>\n",
       "  <tbody>\n",
       "    <tr>\n",
       "      <th>0</th>\n",
       "      <td>0.538577</td>\n",
       "      <td>0.373252</td>\n",
       "      <td>-0.384407</td>\n",
       "      <td>0.999610</td>\n",
       "      <td>0.542948</td>\n",
       "      <td>0.359626</td>\n",
       "      <td>-0.369330</td>\n",
       "      <td>0.999398</td>\n",
       "      <td>0.545882</td>\n",
       "      <td>0.358619</td>\n",
       "      <td>...</td>\n",
       "      <td>1.864457</td>\n",
       "      <td>0.215259</td>\n",
       "      <td>0.373160</td>\n",
       "      <td>0.143160</td>\n",
       "      <td>1.519378</td>\n",
       "      <td>1.438313</td>\n",
       "      <td>0.611521</td>\n",
       "      <td>0.638360</td>\n",
       "      <td>0.052666</td>\n",
       "      <td>26329.0</td>\n",
       "    </tr>\n",
       "    <tr>\n",
       "      <th>1</th>\n",
       "      <td>0.500103</td>\n",
       "      <td>0.616937</td>\n",
       "      <td>-0.189632</td>\n",
       "      <td>0.999959</td>\n",
       "      <td>0.504500</td>\n",
       "      <td>0.605169</td>\n",
       "      <td>-0.179766</td>\n",
       "      <td>0.999964</td>\n",
       "      <td>0.506710</td>\n",
       "      <td>0.604997</td>\n",
       "      <td>...</td>\n",
       "      <td>1.681197</td>\n",
       "      <td>0.900983</td>\n",
       "      <td>0.867856</td>\n",
       "      <td>0.097526</td>\n",
       "      <td>1.298215</td>\n",
       "      <td>1.717188</td>\n",
       "      <td>2.595444</td>\n",
       "      <td>2.621770</td>\n",
       "      <td>0.269868</td>\n",
       "      <td>48894.0</td>\n",
       "    </tr>\n",
       "    <tr>\n",
       "      <th>2</th>\n",
       "      <td>0.472327</td>\n",
       "      <td>0.608917</td>\n",
       "      <td>-0.211710</td>\n",
       "      <td>0.999945</td>\n",
       "      <td>0.477096</td>\n",
       "      <td>0.599715</td>\n",
       "      <td>-0.203258</td>\n",
       "      <td>0.999967</td>\n",
       "      <td>0.479734</td>\n",
       "      <td>0.600102</td>\n",
       "      <td>...</td>\n",
       "      <td>1.826801</td>\n",
       "      <td>0.640514</td>\n",
       "      <td>0.707059</td>\n",
       "      <td>0.138770</td>\n",
       "      <td>1.264021</td>\n",
       "      <td>1.660730</td>\n",
       "      <td>2.589708</td>\n",
       "      <td>2.583872</td>\n",
       "      <td>0.198362</td>\n",
       "      <td>19000.0</td>\n",
       "    </tr>\n",
       "    <tr>\n",
       "      <th>3</th>\n",
       "      <td>0.452741</td>\n",
       "      <td>0.522062</td>\n",
       "      <td>-0.154974</td>\n",
       "      <td>0.999877</td>\n",
       "      <td>0.456585</td>\n",
       "      <td>0.510836</td>\n",
       "      <td>-0.143653</td>\n",
       "      <td>0.999914</td>\n",
       "      <td>0.458695</td>\n",
       "      <td>0.510735</td>\n",
       "      <td>...</td>\n",
       "      <td>1.545807</td>\n",
       "      <td>0.648872</td>\n",
       "      <td>0.812216</td>\n",
       "      <td>0.220970</td>\n",
       "      <td>1.345564</td>\n",
       "      <td>1.609780</td>\n",
       "      <td>2.087308</td>\n",
       "      <td>0.602066</td>\n",
       "      <td>0.249246</td>\n",
       "      <td>21896.0</td>\n",
       "    </tr>\n",
       "    <tr>\n",
       "      <th>4</th>\n",
       "      <td>0.404145</td>\n",
       "      <td>0.581238</td>\n",
       "      <td>-0.401279</td>\n",
       "      <td>0.999997</td>\n",
       "      <td>0.398299</td>\n",
       "      <td>0.569441</td>\n",
       "      <td>-0.402371</td>\n",
       "      <td>0.999985</td>\n",
       "      <td>0.398700</td>\n",
       "      <td>0.565454</td>\n",
       "      <td>...</td>\n",
       "      <td>2.932945</td>\n",
       "      <td>0.324063</td>\n",
       "      <td>0.657843</td>\n",
       "      <td>0.782982</td>\n",
       "      <td>1.713311</td>\n",
       "      <td>2.299121</td>\n",
       "      <td>0.813330</td>\n",
       "      <td>0.415088</td>\n",
       "      <td>0.407074</td>\n",
       "      <td>13336.0</td>\n",
       "    </tr>\n",
       "  </tbody>\n",
       "</table>\n",
       "<p>5 rows × 145 columns</p>\n",
       "</div>"
      ],
      "text/plain": [
       "     NOSE_x    NOSE_y    NOSE_z  NOSE_visiblity  LEFT_EYE_INNER_x  \\\n",
       "0  0.538577  0.373252 -0.384407        0.999610          0.542948   \n",
       "1  0.500103  0.616937 -0.189632        0.999959          0.504500   \n",
       "2  0.472327  0.608917 -0.211710        0.999945          0.477096   \n",
       "3  0.452741  0.522062 -0.154974        0.999877          0.456585   \n",
       "4  0.404145  0.581238 -0.401279        0.999997          0.398299   \n",
       "\n",
       "   LEFT_EYE_INNER_y  LEFT_EYE_INNER_z  LEFT_EYE_INNER_visiblity  LEFT_EYE_x  \\\n",
       "0          0.359626         -0.369330                  0.999398    0.545882   \n",
       "1          0.605169         -0.179766                  0.999964    0.506710   \n",
       "2          0.599715         -0.203258                  0.999967    0.479734   \n",
       "3          0.510836         -0.143653                  0.999914    0.458695   \n",
       "4          0.569441         -0.402371                  0.999985    0.398700   \n",
       "\n",
       "   LEFT_EYE_y  ...  right_shoulder_angle  left_elbow_angle  right_elbow_angle  \\\n",
       "0    0.358619  ...              1.864457          0.215259           0.373160   \n",
       "1    0.604997  ...              1.681197          0.900983           0.867856   \n",
       "2    0.600102  ...              1.826801          0.640514           0.707059   \n",
       "3    0.510735  ...              1.545807          0.648872           0.812216   \n",
       "4    0.565454  ...              2.932945          0.324063           0.657843   \n",
       "\n",
       "   body_angle  left_upper_leg_angle  right_upper_leg_angle  \\\n",
       "0    0.143160              1.519378               1.438313   \n",
       "1    0.097526              1.298215               1.717188   \n",
       "2    0.138770              1.264021               1.660730   \n",
       "3    0.220970              1.345564               1.609780   \n",
       "4    0.782982              1.713311               2.299121   \n",
       "\n",
       "   left_lower_leg_angle  right_lower_leg_angle  body_angle_two  Unnamed: 0  \n",
       "0              0.611521               0.638360        0.052666     26329.0  \n",
       "1              2.595444               2.621770        0.269868     48894.0  \n",
       "2              2.589708               2.583872        0.198362     19000.0  \n",
       "3              2.087308               0.602066        0.249246     21896.0  \n",
       "4              0.813330               0.415088        0.407074     13336.0  \n",
       "\n",
       "[5 rows x 145 columns]"
      ]
     },
     "execution_count": 27,
     "metadata": {},
     "output_type": "execute_result"
    }
   ],
   "source": [
    "df.head()"
   ]
  },
  {
   "cell_type": "code",
   "execution_count": 28,
   "metadata": {},
   "outputs": [],
   "source": [
    "df.drop(\"Unnamed: 0\",axis=1,inplace=True)"
   ]
  },
  {
   "cell_type": "code",
   "execution_count": 29,
   "metadata": {},
   "outputs": [],
   "source": [
    "df.to_csv(\"complete_dataset.csv\")"
   ]
  },
  {
   "cell_type": "code",
   "execution_count": 30,
   "metadata": {},
   "outputs": [
    {
     "data": {
      "text/plain": [
       "vrikashasana          22221\n",
       "bhujangasana          20520\n",
       "tadasana              20507\n",
       "padamasana            17871\n",
       "trikonasana           17572\n",
       "shavasana             14617\n",
       "Virabhadrasana         7405\n",
       "Utkatakonasana         5674\n",
       "Utkatasana             4585\n",
       "Adhomukhasvanasana     4116\n",
       "Name: target, dtype: int64"
      ]
     },
     "execution_count": 30,
     "metadata": {},
     "output_type": "execute_result"
    }
   ],
   "source": [
    "df[\"target\"].value_counts()"
   ]
  },
  {
   "cell_type": "code",
   "execution_count": 33,
   "metadata": {},
   "outputs": [
    {
     "data": {
      "text/plain": [
       "<matplotlib.axes._subplots.AxesSubplot at 0x2860fc9fc08>"
      ]
     },
     "execution_count": 33,
     "metadata": {},
     "output_type": "execute_result"
    },
    {
     "data": {
      "image/png": "[encoded data removed]",
      "text/plain": [
       "<Figure size 1080x288 with 1 Axes>"
      ]
     },
     "metadata": {
      "needs_background": "light"
     },
     "output_type": "display_data"
    }
   ],
   "source": [
    "fig_dims = (15, 4)\n",
    "fig, ax = plt.subplots(figsize=fig_dims)\n",
    "sns.barplot(x=df.target.value_counts().index, y=df.target.value_counts(),ax=ax)"
   ]
  },
  {
   "cell_type": "code",
   "execution_count": null,
   "metadata": {},
   "outputs": [],
   "source": []
  }
 ],
 "metadata": {
  "kernelspec": {
   "display_name": "deeplearning",
   "language": "python",
   "name": "deeplearning"
  },
  "language_info": {
   "codemirror_mode": {
    "name": "ipython",
    "version": 3
   },
   "file_extension": ".py",
   "mimetype": "text/x-python",
   "name": "python",
   "nbconvert_exporter": "python",
   "pygments_lexer": "ipython3",
   "version": "3.7.7"
  }
 },
 "nbformat": 4,
 "nbformat_minor": 4
}
